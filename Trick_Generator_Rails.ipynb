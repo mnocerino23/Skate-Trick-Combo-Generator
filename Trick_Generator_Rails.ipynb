{
  "nbformat": 4,
  "nbformat_minor": 0,
  "metadata": {
    "colab": {
      "name": "Trick_Generator_Rails.ipynb",
      "provenance": [],
      "collapsed_sections": [],
      "authorship_tag": "ABX9TyNwuMoB+Ymv25ghiwT4c+Oo",
      "include_colab_link": true
    },
    "kernelspec": {
      "name": "python3",
      "display_name": "Python 3"
    },
    "language_info": {
      "name": "python"
    }
  },
  "cells": [
    {
      "cell_type": "markdown",
      "metadata": {
        "id": "view-in-github",
        "colab_type": "text"
      },
      "source": [
        "<a href=\"https://colab.research.google.com/github/mnocerino23/Skate-Trick-Combo-Generator/blob/main/Trick_Generator_Rails.ipynb\" target=\"_parent\"><img src=\"https://colab.research.google.com/assets/colab-badge.svg\" alt=\"Open In Colab\"/></a>"
      ]
    },
    {
      "cell_type": "code",
      "source": [
        "#The dictionaries below hold each trick in the stance mapped to a float value 1-10 representing the difficulty\n",
        "#Stance are regular, fakie, nollie, and switch"
      ],
      "metadata": {
        "id": "7TwjM5KYKI6j"
      },
      "execution_count": 121,
      "outputs": []
    },
    {
      "cell_type": "code",
      "execution_count": 122,
      "metadata": {
        "id": "o4D1bm3NKCDK"
      },
      "outputs": [],
      "source": [
        "regular_tricks = {'ollie':1, 'pop shuv':1.5, 'front 180':1.5, 'back 180':2, 'front shuv':2, 'kickflip':3, 'heelflip':3, 'ollie north': 2.5, 'no comply 180': 1.5,\n",
        "                  'varial flip':3, 'varial heel':5, 'frontside flip':7,'backside flip':5, 'front heel':6, 'back heel':5, 'backside bigspin':6, 'frontside bigspin':6.5, \n",
        "                  'hardflip':8.5, 'inward heel':8.5 , 'frontside 360':7, 'backside 360':8, 'bigflip':7, 'bigspin heelflip':8,\n",
        "                  'treflip': 5, '360 shuv it': 6, 'impossible':8, 'lazer flip': 10}\n",
        "fakie_tricks = {'fakie ollie':1, 'fakie pop shuv':1.25, 'fakie front shuv':1.5, 'half cab': 1.5, 'fakie fs 180': 1.25, 'full cab':4.5,\n",
        "                'fakie fs 360':2, 'fakie flip':3, 'fakie heel':4, 'fakie bigspin':1.5, \n",
        "                'fakie fs bigspin':2.5, 'half cab flip':5, 'half cab heelflip':5, 'fakie fs heelflip':6, 'fakie fs flip':6, \n",
        "                'fakie three shuv': 2.5, 'fakie treflip': 5, 'full cab flip': 8.5\n",
        "                , 'fakie bigflip':7, 'fakie big heel':6.5, 'fakie hardflip':7.5, 'fakie inward heel':7, 'fakie lazer':10, 'fakie varial flip': 3, 'fakie varial heel': 4.75\n",
        "}\n",
        "nollie_tricks = {'nollie':2, 'nollie shuv':1.5, 'nollie front 180':3.5, 'nollie back 180':2, 'nollie front shuv':2, 'nollie flip':8, \n",
        "                 'nollie heel':8, 'nollie varial flip':8, 'nollie varial heel':8, 'nollie frontside flip':9,'nollie backside flip':8 , 'nollie front heel': 8, \n",
        "                 'nollie back heel':8, \n",
        "                 'nollie frontside 360 flip': 10,\n",
        "                 'nollie backside bigspin': 3.5,' nollie frontside bigspin':3, \n",
        "                  'nollie hardflip': 9, 'nollie inward heel':9, 'nollie frontside 360':8, 'nollie backside 360':3.5, 'nollie bigflip':8.5, \n",
        "                  'nollie treflip': 8.5, 'nollie 360 shuv it': 4, 'nollie big heel':9,  'nollie lazer': 9.5\n",
        "}\n",
        "\n",
        "switch_tricks = {'switch ollie':1, 'switch pop shuv':3, 'switch front 180':2, 'switch back 180':5, 'switch front shuv':3.5, 'switch kickflip':8, 'switch heel':7.5, \n",
        "                  'switch varial flip': 8 , 'switch varial heel': 8, 'switch frontside flip': 8.5,'switch backside flip':9, 'switch front heel': 8,\n",
        "                  'switch back heel': 8.5, 'switch backside bigspin': 8.5, 'switch frontside bigspin':5.5, \n",
        "                  'switch hardflip':9.5, 'switch inward heel':10, 'switch frontside 360':7.5, 'switch backside 360':9.5, 'switch bigflip':9, 'switch bigspin heelflip': 8\n",
        "                 , 'switch treflip':8.5, 'switch 360 shuv it':9, 'switch impossible': 10, 'switch lazer':10\n",
        "}\n"
      ]
    },
    {
      "cell_type": "code",
      "source": [
        "#this dictionary holds what stance the rider exits in for all flatground tricks (values in this dictionary will be either regular or fakie)\n",
        "exit_stance = {'ollie': 'regular', 'pop shuv': 'regular', 'front 180': 'fakie', 'back 180': 'fakie', 'front shuv':'regular', 'kickflip':'regular', 'heelflip':'regular', \n",
        "                  'ollie north': 'regular', 'no comply 180': 'fakie',\n",
        "                  'varial flip':'regular', 'varial heel':'regular', 'frontside flip':'fakie','backside flip':'fakie', 'front heel':'fakie', 'back heel':'fakie',\n",
        "                'backside bigspin': 'fakie', \n",
        "                  'frontside bigspin':'fakie', \n",
        "                  'hardflip':'regular', 'inward heel':'regular', 'frontside 360':'regular', 'backside 360':'regular', 'bigflip':'fakie', 'bigspin heelflip':'fakie',\n",
        "                  'treflip': 'regular', '360 shuv it': 'regular', 'impossible':'regular', 'lazer flip': 'regular', 'fakie ollie':'fakie', 'fakie pop shuv':'fakie', \n",
        "               'fakie front shuv': 'fakie', \n",
        "                  'half cab': 'regular', 'fakie fs 180': 'regular', 'full cab':'fakie', 'fakie fs 360':'fakie', 'fakie flip':'fakie', 'fakie heel':'fakie',\n",
        "                'fakie bigspin':'regular', 'fakie fs bigspin':'regular', 'half cab flip':'regular', 'half cab heelflip':'regular', 'fakie fs heelflip':'regular',\n",
        "                 'fakie fs flip':'regular', 'fakie three shuv': 'fakie',\n",
        "                'fakie treflip': 'fakie', 'full cab flip': 'fakie'\n",
        "                , 'fakie bigflip':'regular', 'fakie big heel':'regular', 'fakie hardflip':'fakie', 'fakie inward heel':'fakie', 'fakie lazer':'fakie', \n",
        "               'fakie varial flip': 'fakie', 'fakie varial heel': 'fakie',\n",
        "               'nollie':'regular', 'nollie shuv':'regular', 'nollie front 180':'fakie', 'nollie back 180':'fakie', 'nollie front shuv':'regular', 'nollie flip':'regular', \n",
        "                 'nollie heel':'regular', 'nollie varial flip':'regular', 'nollie varial heel':'regular', 'nollie frontside flip':'fakie','nollie backside flip':8 , \n",
        "               'nollie front heel': 'fakie', \n",
        "                 'nollie back heel': 'fakie', \n",
        "                 'nollie frontside 360 flip': 'regular',\n",
        "                 'nollie backside bigspin': 'fakie',' nollie frontside bigspin':'fakie', \n",
        "                  'nollie hardflip': 'regular', 'nollie inward heel':'regular', 'nollie frontside 360':'regular', 'nollie backside 360':'regular', 'nollie bigflip':'fakie', \n",
        "                  'nollie treflip': 'regular', 'nollie 360 shuv it': 'regular', 'nollie big heel':'fakie',  'nollie lazer': 'regular', \n",
        "                  'manual':'regular', 'nose manual': 'regular', 'fakie manual': 'fakie', 'switch ollie':'fakie', 'switch pop shuv':'fakie', \n",
        "                  'switch front 180':'regular', 'switch back 180':'regular', 'switch front shuv':'fakie', 'switch kickflip':'fakie', 'switch heel':'fakie', \n",
        "                  'switch varial flip': 'fakie' , 'switch varial heel': 'fakie', 'switch frontside flip': 'regular','switch backside flip':8.5,\n",
        "                 'switch front heel': 'regular', 'switch back heel': 'regular',\n",
        "                  'switch backside bigspin': 'regular', 'switch frontside bigspin':'regular', \n",
        "                  'switch hardflip':'regular', 'switch inward heel':'fakie', 'switch frontside 360':'fakie', 'switch backside 360':'fakie', \n",
        "                  'switch bigflip':'regular', 'switch bigspin heelflip': 'regular'\n",
        "                 , 'switch treflip':'fakie', 'switch 360 shuv it':'fakie', 'switch impossible': 'fakie', 'switch lazer':'fakie'\n",
        "}\n",
        "\n"
      ],
      "metadata": {
        "id": "f1L0uxpBKwdF"
      },
      "execution_count": 123,
      "outputs": []
    },
    {
      "cell_type": "code",
      "source": [
        "rail_tricks = {'front 50-50':3,'back 50-50':5, 'front 5-0':5, 'back 5-0':5.5, 'back boardslide':1.5, 'front boardslide':2, 'front lipslide':3, 'back lipslide':7, \n",
        "               'back feeble':4.75, 'front feeble': 6, 'front nosegrind': 6.5, 'back nosegrind': 7,\n",
        "               'front smith': 4.75, 'back smith': 8, 'back crook': 7, 'front crook':8.5, 'back overcrook':9, \n",
        "               'front blunt':6.75, 'back blunt':8, 'back noseblunt':10, 'front noseblunt':8.5\n",
        "}\n",
        "\n",
        "square_rail_tricks = {'back noseslide': 6, 'front noseslide': 7, 'front tailslide': 6.5, 'back tail': 9.5               \n",
        "}"
      ],
      "metadata": {
        "id": "dp1qX-a3KhU4"
      },
      "execution_count": 124,
      "outputs": []
    },
    {
      "cell_type": "code",
      "source": [
        "#boardslides can be taken to regular or to fakie\n",
        "exit_either = ['back boardslide', 'front boardslide', 'front lipslide', 'back lipslide']\n",
        "#certain rail tricks can only be exited with nollie tricks since the nose grinds\n",
        "exit_nollie = ['front crook', 'front noseslide', 'back noseslide', 'front nosegrind','back nosegrind', 'back overcrook', 'front noseblunt',\n",
        "               'back noseblunt']\n",
        "\n",
        "exit_regular = ['front 50-50', 'back 50-50','front 5-0','front tailslide', 'back tail', 'back feeble', 'back 5-0','front feeble', 'front smith',\n",
        "                'back smith', 'front blunt', 'back blunt']"
      ],
      "metadata": {
        "id": "a9ZHXeYmKZXa"
      },
      "execution_count": 125,
      "outputs": []
    },
    {
      "cell_type": "code",
      "source": [
        "#import random library which we will use to select random tricks from certain lists\n",
        "import random"
      ],
      "metadata": {
        "id": "BOFskbzFNRcG"
      },
      "execution_count": 126,
      "outputs": []
    },
    {
      "cell_type": "code",
      "source": [
        "def meets_difficulty_requirement(difficulty, difficulty_score):\n",
        "  if difficulty_score <= 12 and difficulty in ['beginner', 'intermediate','advanced', 'god']:\n",
        "    return True\n",
        "  elif difficulty_score <= 16 and difficulty in ['intermediate', 'advanced', 'god']:\n",
        "    return True\n",
        "  elif difficulty_score <= 24 and difficulty in ['advanced', 'god']:\n",
        "    return True\n",
        "  elif difficulty_score <= 30 and difficulty in ['god']:\n",
        "    return True\n",
        "  else:\n",
        "    return False"
      ],
      "metadata": {
        "id": "UWK9VZn1Nvy6"
      },
      "execution_count": 127,
      "outputs": []
    },
    {
      "cell_type": "code",
      "source": [
        "def choose_new_trick(choices, existing_score):\n",
        "  ls = []\n",
        "  chosen_trick = random.choice(list(choices.keys()))\n",
        "  score =  existing_score + choices[chosen_trick]\n",
        "\n",
        "  ls.append(chosen_trick)\n",
        "  ls.append(score)\n",
        "  return ls"
      ],
      "metadata": {
        "id": "PM36qyvAT7uL"
      },
      "execution_count": 128,
      "outputs": []
    },
    {
      "cell_type": "code",
      "source": [
        "def rail_combo(trick_in, trick_out, difficulty):\n",
        "  #initialize difficulty score to 0\n",
        "  difficulty_score = 0\n",
        "  score_tracker = {}\n",
        "\n",
        "  #takes care of the case in which user wants a trick into the manual\n",
        "  if trick_in == True:\n",
        "    #select a random stance for the trick into the manual\n",
        "    stances = [regular_tricks, fakie_tricks, nollie_tricks, switch_tricks]\n",
        "    start_stance = random.choice(stances)\n",
        "    #choose random trick onto the rail\n",
        "    onto_rail = random.choice(list(start_stance.keys()))\n",
        "\n",
        "    #add difficulty of first trick on total difficulty score\n",
        "    difficulty_score += start_stance[onto_rail]\n",
        "\n",
        "    #if the difficulty requirement is not met, we redo this process\n",
        "    while meets_difficulty_requirement(difficulty, difficulty_score) == False:\n",
        "      s = choose_new_trick(start_stance, 0)\n",
        "      onto_rail = s[0]\n",
        "      difficulty_score = s[1]\n",
        "\n",
        "    score_tracker['onto rail'] = difficulty_score\n",
        "    #get the exist stance of the trick in\n",
        "    stance_entering_rail = exit_stance[onto_rail]\n",
        "\n",
        "\n",
        "  #when trick in is false, we default to ollie into the manual\n",
        "  else:\n",
        "    stance_entering_rail = 'regular'\n",
        "    onto_rail = 'ollie'\n",
        "\n",
        "    #add the difficulty score associated with the ollie onto the difficulty score\n",
        "    difficulty_score += regular_tricks['ollie']\n",
        "    score_tracker['onto rail'] = difficulty_score\n",
        "\n",
        "  if stance_entering_rail == 'regular' or stance_entering_rail == 'nollie':\n",
        "    rail_trick_name = random.choice(list(rail_tricks.keys()))\n",
        "    difficulty_score += rail_tricks[rail_trick_name]\n",
        "\n",
        "    while meets_difficulty_requirement(difficulty, difficulty_score) == False:\n",
        "      s = choose_new_trick(rail_tricks, score_tracker['onto rail'])\n",
        "      rail_trick_name = s[0]\n",
        "      difficulty_score = s[1]\n",
        "\n",
        "      \n",
        "    score_tracker['on rail'] = difficulty_score\n",
        "\n",
        "  #if you aren't entering the rail nollie you have to do a switch grind since people don't grind rails fakie generally\n",
        "  else:\n",
        "    rail_trick = random.choice(list(rail_tricks.keys()))\n",
        "    rail_trick_name = 'switch ' + rail_trick\n",
        "    difficulty_score += rail_tricks[rail_trick]\n",
        "\n",
        "    while meets_difficulty_requirement(difficulty, difficulty_score) == False:\n",
        "      s = choose_new_trick(rail_tricks, score_tracker['onto rail'])\n",
        "      rail_trick_name = 'switch ' + s[0]\n",
        "      difficulty_score = s[1]\n",
        "\n",
        "    score_tracker['on rail'] = difficulty_score\n",
        "\n",
        "  if trick_out == True:\n",
        "\n",
        "    if rail_trick in exit_regular or rail_trick in exit_either:\n",
        "      trick_out = random.choice(list(regular_tricks.keys()))\n",
        "      difficulty_score += nollie_tricks[trick_out]\n",
        "\n",
        "      while meets_difficulty_requirement(difficulty, difficulty_score) == False:\n",
        "        s = choose_new_trick(regular_tricks, score_tracker['on rail'])\n",
        "        trick_out = s[0]\n",
        "        difficulty_score = s[1]\n",
        "\n",
        "    elif rail_trick in exit_nollie:\n",
        "      trick_out = random.choice(list(nollie_tricks.keys()))\n",
        "      difficulty_score += nollie_tricks[trick_out]\n",
        "\n",
        "      while meets_difficulty_requirement(difficulty, difficulty_score) == False:\n",
        "        s = choose_new_trick(nollie_tricks, score_tracker['on rail'])\n",
        "        trick_out = s[0]\n",
        "        difficulty_score = s[1]\n",
        "\n",
        "    else:\n",
        "      trick_out = random.choice(list(switch_tricks.keys()))\n",
        "      difficulty_score += switch_tricks[trick_out]\n",
        "\n",
        "      while meets_difficulty_requirement(difficulty, difficulty_score) == False:\n",
        "        s = choose_new_trick(switch_tricks, score_tracker['on rail'])\n",
        "        trick_out = s[0]\n",
        "        difficulty_score = s[1]\n",
        "\n",
        "  #when trick out is false\n",
        "  else:\n",
        "    if rail_trick_name in exit_either:\n",
        "      exit = ['to fakie', 'to regular']\n",
        "      trick_out = random.choice(exit)\n",
        "    else:\n",
        "      trick_out = ''\n",
        "  print(onto_rail, ',', rail_trick_name, ',', trick_out, '\\n', 'Difficulty: ', difficulty_score)"
      ],
      "metadata": {
        "id": "tRlS4xbSNbXl"
      },
      "execution_count": 129,
      "outputs": []
    },
    {
      "cell_type": "code",
      "source": [
        "rail_combo(True, False, 'beginner')\n",
        "rail_combo(True, False, 'intermediate')\n",
        "rail_combo(True, False, 'advanced')\n",
        "rail_combo(True, False, 'god')"
      ],
      "metadata": {
        "colab": {
          "base_uri": "https://localhost:8080/"
        },
        "id": "qyBHsPxoYoUv",
        "outputId": "2b29e699-6319-4374-b1b3-8d358558fb9f"
      },
      "execution_count": 130,
      "outputs": [
        {
          "output_type": "stream",
          "name": "stdout",
          "text": [
            "nollie lazer , back boardslide , to fakie \n",
            " Difficulty:  11.0\n",
            "front heel , switch front noseblunt ,  \n",
            " Difficulty:  14.5\n",
            "switch front 180 , back 50-50 ,  \n",
            " Difficulty:  7\n",
            "nollie backside bigspin , switch back nosegrind ,  \n",
            " Difficulty:  10.5\n"
          ]
        }
      ]
    },
    {
      "cell_type": "code",
      "source": [
        "rail_combo(False, True, 'beginner')\n",
        "rail_combo(False, True, 'intermediate')\n",
        "rail_combo(False, True, 'advanced')\n",
        "rail_combo(False, True, 'god')"
      ],
      "metadata": {
        "id": "F3mjJ-4EYu4y",
        "outputId": "14f12d59-837a-4eba-c3f4-dcde977435f1",
        "colab": {
          "base_uri": "https://localhost:8080/",
          "height": 339
        }
      },
      "execution_count": 131,
      "outputs": [
        {
          "output_type": "error",
          "ename": "UnboundLocalError",
          "evalue": "ignored",
          "traceback": [
            "\u001b[0;31m---------------------------------------------------------------------------\u001b[0m",
            "\u001b[0;31mUnboundLocalError\u001b[0m                         Traceback (most recent call last)",
            "\u001b[0;32m<ipython-input-131-6be457b212de>\u001b[0m in \u001b[0;36m<module>\u001b[0;34m\u001b[0m\n\u001b[0;32m----> 1\u001b[0;31m \u001b[0mrail_combo\u001b[0m\u001b[0;34m(\u001b[0m\u001b[0;32mFalse\u001b[0m\u001b[0;34m,\u001b[0m \u001b[0;32mTrue\u001b[0m\u001b[0;34m,\u001b[0m \u001b[0;34m'beginner'\u001b[0m\u001b[0;34m)\u001b[0m\u001b[0;34m\u001b[0m\u001b[0;34m\u001b[0m\u001b[0m\n\u001b[0m\u001b[1;32m      2\u001b[0m \u001b[0mrail_combo\u001b[0m\u001b[0;34m(\u001b[0m\u001b[0;32mFalse\u001b[0m\u001b[0;34m,\u001b[0m \u001b[0;32mTrue\u001b[0m\u001b[0;34m,\u001b[0m \u001b[0;34m'intermediate'\u001b[0m\u001b[0;34m)\u001b[0m\u001b[0;34m\u001b[0m\u001b[0;34m\u001b[0m\u001b[0m\n\u001b[1;32m      3\u001b[0m \u001b[0mrail_combo\u001b[0m\u001b[0;34m(\u001b[0m\u001b[0;32mFalse\u001b[0m\u001b[0;34m,\u001b[0m \u001b[0;32mTrue\u001b[0m\u001b[0;34m,\u001b[0m \u001b[0;34m'advanced'\u001b[0m\u001b[0;34m)\u001b[0m\u001b[0;34m\u001b[0m\u001b[0;34m\u001b[0m\u001b[0m\n\u001b[1;32m      4\u001b[0m \u001b[0mrail_combo\u001b[0m\u001b[0;34m(\u001b[0m\u001b[0;32mFalse\u001b[0m\u001b[0;34m,\u001b[0m \u001b[0;32mTrue\u001b[0m\u001b[0;34m,\u001b[0m \u001b[0;34m'god'\u001b[0m\u001b[0;34m)\u001b[0m\u001b[0;34m\u001b[0m\u001b[0;34m\u001b[0m\u001b[0m\n",
            "\u001b[0;32m<ipython-input-129-48a13ad72ae2>\u001b[0m in \u001b[0;36mrail_combo\u001b[0;34m(trick_in, trick_out, difficulty)\u001b[0m\n\u001b[1;32m     62\u001b[0m   \u001b[0;32mif\u001b[0m \u001b[0mtrick_out\u001b[0m \u001b[0;34m==\u001b[0m \u001b[0;32mTrue\u001b[0m\u001b[0;34m:\u001b[0m\u001b[0;34m\u001b[0m\u001b[0;34m\u001b[0m\u001b[0m\n\u001b[1;32m     63\u001b[0m \u001b[0;34m\u001b[0m\u001b[0m\n\u001b[0;32m---> 64\u001b[0;31m     \u001b[0;32mif\u001b[0m \u001b[0mrail_trick\u001b[0m \u001b[0;32min\u001b[0m \u001b[0mexit_regular\u001b[0m \u001b[0;32mor\u001b[0m \u001b[0mrail_trick\u001b[0m \u001b[0;32min\u001b[0m \u001b[0mexit_either\u001b[0m\u001b[0;34m:\u001b[0m\u001b[0;34m\u001b[0m\u001b[0;34m\u001b[0m\u001b[0m\n\u001b[0m\u001b[1;32m     65\u001b[0m       \u001b[0mtrick_out\u001b[0m \u001b[0;34m=\u001b[0m \u001b[0mrandom\u001b[0m\u001b[0;34m.\u001b[0m\u001b[0mchoice\u001b[0m\u001b[0;34m(\u001b[0m\u001b[0mlist\u001b[0m\u001b[0;34m(\u001b[0m\u001b[0mregular_tricks\u001b[0m\u001b[0;34m.\u001b[0m\u001b[0mkeys\u001b[0m\u001b[0;34m(\u001b[0m\u001b[0;34m)\u001b[0m\u001b[0;34m)\u001b[0m\u001b[0;34m)\u001b[0m\u001b[0;34m\u001b[0m\u001b[0;34m\u001b[0m\u001b[0m\n\u001b[1;32m     66\u001b[0m       \u001b[0mdifficulty_score\u001b[0m \u001b[0;34m+=\u001b[0m \u001b[0mnollie_tricks\u001b[0m\u001b[0;34m[\u001b[0m\u001b[0mtrick_out\u001b[0m\u001b[0;34m]\u001b[0m\u001b[0;34m\u001b[0m\u001b[0;34m\u001b[0m\u001b[0m\n",
            "\u001b[0;31mUnboundLocalError\u001b[0m: local variable 'rail_trick' referenced before assignment"
          ]
        }
      ]
    },
    {
      "cell_type": "code",
      "source": [
        "rail_combo(False, False, 'beginner')\n",
        "rail_combo(False, False, 'intermediate')\n",
        "rail_combo(False, False, 'advanced')\n",
        "rail_combo(False, False, 'god')"
      ],
      "metadata": {
        "id": "MLaV1qIaYxiY",
        "outputId": "d77539f1-8258-4319-a813-37167f2b4a70",
        "colab": {
          "base_uri": "https://localhost:8080/"
        }
      },
      "execution_count": 132,
      "outputs": [
        {
          "output_type": "stream",
          "name": "stdout",
          "text": [
            "ollie , back nosegrind ,  \n",
            " Difficulty:  8\n",
            "ollie , front 50-50 ,  \n",
            " Difficulty:  4\n",
            "ollie , front blunt ,  \n",
            " Difficulty:  7.75\n",
            "ollie , front smith ,  \n",
            " Difficulty:  5.75\n"
          ]
        }
      ]
    },
    {
      "cell_type": "code",
      "source": [
        "for i in len(20):\n",
        "  rail_combo(True,True,'god')"
      ],
      "metadata": {
        "id": "8F5-M0WiYiLz",
        "outputId": "a4dda6e8-d8c6-4e05-8ee6-877a21cf9748",
        "colab": {
          "base_uri": "https://localhost:8080/",
          "height": 182
        }
      },
      "execution_count": 133,
      "outputs": [
        {
          "output_type": "error",
          "ename": "TypeError",
          "evalue": "ignored",
          "traceback": [
            "\u001b[0;31m---------------------------------------------------------------------------\u001b[0m",
            "\u001b[0;31mTypeError\u001b[0m                                 Traceback (most recent call last)",
            "\u001b[0;32m<ipython-input-133-ffa6bbc5607f>\u001b[0m in \u001b[0;36m<module>\u001b[0;34m\u001b[0m\n\u001b[0;32m----> 1\u001b[0;31m \u001b[0;32mfor\u001b[0m \u001b[0mi\u001b[0m \u001b[0;32min\u001b[0m \u001b[0mlen\u001b[0m\u001b[0;34m(\u001b[0m\u001b[0;36m20\u001b[0m\u001b[0;34m)\u001b[0m\u001b[0;34m:\u001b[0m\u001b[0;34m\u001b[0m\u001b[0;34m\u001b[0m\u001b[0m\n\u001b[0m\u001b[1;32m      2\u001b[0m   \u001b[0mrail_combo\u001b[0m\u001b[0;34m(\u001b[0m\u001b[0;32mTrue\u001b[0m\u001b[0;34m,\u001b[0m\u001b[0;32mTrue\u001b[0m\u001b[0;34m,\u001b[0m\u001b[0;34m'god'\u001b[0m\u001b[0;34m)\u001b[0m\u001b[0;34m\u001b[0m\u001b[0;34m\u001b[0m\u001b[0m\n",
            "\u001b[0;31mTypeError\u001b[0m: object of type 'int' has no len()"
          ]
        }
      ]
    }
  ]
}