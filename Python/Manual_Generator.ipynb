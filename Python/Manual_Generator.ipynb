{
  "nbformat": 4,
  "nbformat_minor": 0,
  "metadata": {
    "colab": {
      "provenance": []
    },
    "kernelspec": {
      "name": "python3",
      "display_name": "Python 3"
    },
    "language_info": {
      "name": "python"
    }
  },
  "cells": [
    {
      "cell_type": "markdown",
      "source": [
        "# Python functions for generating and displaying skate manual combos\n",
        "\n",
        "1. manny_combo - generates each individual combo\n",
        "2. display_combo - prints trick-in, trick-out, and double manny combo given a skater's tricks in each stance"
      ],
      "metadata": {
        "id": "DBm9ET72uz2l"
      }
    },
    {
      "cell_type": "code",
      "source": [
        "import random"
      ],
      "metadata": {
        "id": "4aawnIywwiNJ"
      },
      "execution_count": 1,
      "outputs": []
    },
    {
      "cell_type": "code",
      "source": [
        "exit_stance = {'ollie': 'regular', 'pop shuv': 'regular', 'front 180': 'fakie', 'back 180': 'fakie', 'front shuv':'regular', 'kickflip':'regular', 'heelflip':'regular', \n",
        "                  'ollie north': 'regular', 'no comply 180': 'fakie',\n",
        "                  'varial flip':'regular', 'varial heel':'regular', 'frontside flip':'fakie','backside flip':'fakie', 'front heel':'fakie', 'back heel':'fakie',\n",
        "                'back bigspin': 'fakie', \n",
        "                  'front bigspin':'fakie', \n",
        "                  'hardflip':'regular', 'inward heel':'regular', 'front 360':'regular', 'back 360':'regular', 'bigflip':'fakie', 'bigspin heelflip':'fakie',\n",
        "                  'treflip': 'regular', '360 shuv it': 'regular', 'impossible':'regular', 'lazer flip': 'regular', 'fakie ollie':'fakie', 'fakie pop shuv':'fakie', \n",
        "               'fakie front shuv': 'fakie', \n",
        "                  'half cab': 'regular', 'fakie front 180': 'regular', 'full cab':'fakie', 'fakie front 360':'fakie', 'fakie flip':'fakie', 'fakie heel':'fakie',\n",
        "                'fakie bigspin':'regular', 'fakie front bigspin':'regular', 'half cab flip':'regular', 'half cab heel':'regular', 'fakie front heel':'regular',\n",
        "                 'fakie frontside flip':'regular', 'fakie three shuv': 'fakie',\n",
        "                'fakie treflip': 'fakie', 'full cab flip': 'fakie'\n",
        "                , 'fakie bigflip':'regular', 'fakie big heel':'regular', 'fakie hardflip':'fakie', 'fakie inward heel':'fakie', 'fakie lazer':'fakie', \n",
        "               'fakie varial flip': 'fakie', 'fakie varial heel': 'fakie',\n",
        "               'nollie':'regular', 'nollie shuv':'regular', 'nollie front 180':'fakie', 'nollie back 180':'fakie', 'nollie front shuv':'regular', 'nollie flip':'regular', \n",
        "                 'nollie heel':'regular', 'nollie varial flip':'regular', 'nollie varial heel':'regular', 'nollie frontside flip':'fakie','nollie backside flip': 'regular' , \n",
        "               'nollie front heel': 'fakie', \n",
        "                 'nollie back heel': 'fakie', \n",
        "                 'nollie front 360 flip': 'regular',\n",
        "                 'nollie back bigspin': 'fakie',' nollie front bigspin':'fakie', \n",
        "                  'nollie hardflip': 'regular', 'nollie inward heel':'regular', 'nollie front 360':'regular', 'nollie back 360':'regular', 'nollie bigflip':'fakie', \n",
        "                  'nollie treflip': 'regular', 'nollie 360 shuv it': 'regular', 'nollie big heel':'fakie',  'nollie lazer': 'regular', \n",
        "                  'manual':'regular', 'nose manual': 'regular', 'fakie manual': 'fakie', 'switch ollie':'fakie', 'switch pop shuv':'fakie', \n",
        "                  'switch front 180':'regular', 'switch back 180':'regular', 'switch front shuv':'fakie', 'switch kickflip':'fakie', 'switch heel':'fakie', \n",
        "                  'switch varial flip': 'fakie' , 'switch varial heel': 'fakie', 'switch frontside flip': 'regular','switch backside flip':'regular',\n",
        "                 'switch front heel': 'regular', 'switch back heel': 'regular',\n",
        "                  'switch back bigspin': 'regular', 'switch front bigspin':'regular', \n",
        "                  'switch hardflip':'regular', 'switch inward heel':'fakie', 'switch front 360':'fakie', 'switch back 360':'fakie', \n",
        "                  'switch bigflip':'regular', 'switch bigspin heelflip': 'regular'\n",
        "                 , 'switch treflip':'fakie', 'switch 360 shuv it':'fakie', 'switch impossible': 'fakie', 'switch lazer':'fakie'\n",
        "}\n",
        "\n",
        "exit_either = ['front 50-50', 'back 50-50']\n",
        "exit_nollie = ['front nosegrind', 'back nosegrind', 'back noseslide', 'front noselide', 'front crook', 'back crook', 'back noseblunt', 'front noseblunt']\n",
        "exit_regular = ['front tail', 'back tail', 'front 5-0', 'back 5-0', 'back suski', 'front smith', 'back smith', 'front blunt', 'back blunt', 'front lipslide', 'back lipslide']"
      ],
      "metadata": {
        "id": "Oeza1Ae1xKIo"
      },
      "execution_count": 2,
      "outputs": []
    },
    {
      "cell_type": "code",
      "source": [
        "#trick in, trick out are booleans referring to whether or not we want a trick in and a trick out\n",
        "#for example, trick_in = true, trick_out = false will give a combo with some trick in to manny but no trick out\n",
        "\n",
        "#my_flatground is a list of the skater's flatground tricks\n",
        "#my_manny is a list of the skater's manual tricks\n",
        "\n",
        "\n",
        "def manny_combo(trick_in, trick_out, my_regular_tricks, my_fakie_tricks, my_nollie_tricks, my_switch_tricks, my_manny):\n",
        "  #takes care of the case in which user wants a trick into the manual\n",
        "\n",
        "  #check to see if  the rider can do fakie and switch manuals. If they can't the trick in must have exit stance regular\n",
        "  if ['fakie manual','switch manual'] not in my_manny:\n",
        "    must_land_regular = True\n",
        "\n",
        "  if trick_in == True:\n",
        "    onto_pad = random.choice(my_regular_tricks)\n",
        "    stance_entering_manual = exit_stance[onto_pad]\n",
        "    while must_land_regular ==  True and stance_entering_manual == 'fakie':\n",
        "      #if they can't do fakie/switch manuals and are landing in that stance we must rechoose the trick in at random\n",
        "      onto_pad = random.choice(my_regular_tricks)\n",
        "      stance_entering_manual = exit_stance[onto_pad]\n",
        "\n",
        "  else:\n",
        "    stance_entering_manual = 'regular'\n",
        "    onto_pad = 'ollie'\n",
        "\n",
        "  #choose the manual trick\n",
        "  if stance_entering_manual == 'regular':\n",
        "    regular_manuals = ['manual', 'nose manual']\n",
        "    manny = random.choice(regular_manuals)\n",
        "    while manny not in my_manny:\n",
        "      manny = random.choice(regular_manuals)\n",
        "  else:\n",
        "    fakie_manuals = ['fakie manual', 'switch manual']\n",
        "    manny = random.choice(fakie_manuals)\n",
        "    while manny not in my_manny:\n",
        "      manny = random.choice(fakie_manuals)\n",
        "\n",
        "  #choose the manual trick\n",
        "  if trick_out == True:\n",
        "    if manny == 'manual':\n",
        "      trick_out = random.choice(my_regular_tricks)\n",
        "      while trick_out == 'ollie':\n",
        "        trick_out = random.choice(my_regular_tricks)\n",
        "    elif manny == 'nose manual':\n",
        "      trick_out = random.choice(my_nollie_tricks)\n",
        "      while trick_out == 'nollie':\n",
        "        trick_out = random.choice(my_nollie_tricks)\n",
        "    elif manny == 'fakie manual':\n",
        "      trick_out = random.choice(my_fakie_tricks)\n",
        "      while trick_out == 'fakie ollie':\n",
        "        trick_out = random.choice(my_fakie_tricks)\n",
        "    else:\n",
        "      trick_out = random.choice(my_switch_tricks)\n",
        "      while trick_out == 'switch ollie':\n",
        "        trick_out = random.choice(my_switch_tricks)\n",
        "  else:\n",
        "    trick_out = ''\n",
        "\n",
        "\n",
        "  if trick_out == '':\n",
        "    print(onto_pad, ',', manny)\n",
        "  else:\n",
        "     print(onto_pad, ',', manny, ',', trick_out)"
      ],
      "metadata": {
        "id": "eyLEEsaAvTat"
      },
      "execution_count": 3,
      "outputs": []
    },
    {
      "cell_type": "code",
      "source": [
        "michael_regular = ['ollie','pop shuv','front 180', 'back 180', 'front shuv', 'kickflip', 'heelflip','backside flip','treflip','back bigspin']\n",
        "michael_nollie = ['nollie', 'nollie shuv', 'nollie back 180','nollie front shuv']\n",
        "michael_fakie = ['fakie ollie', 'fakie pop shuv', 'fakie front shuv', 'half cab', 'full cab', 'fakie front 180', 'fakie flip', 'fakie heel','fakie bigspin', 'fakie front bigspin']\n",
        "michael_switch = ['switch ollie','switch front 180', 'switch pop shuv']\n",
        "michael_manny = ['manual','nose manual', 'fakie manual']"
      ],
      "metadata": {
        "id": "jsA-Fs735I2y"
      },
      "execution_count": 4,
      "outputs": []
    },
    {
      "cell_type": "code",
      "source": [
        "def display_combo(my_regular_tricks, my_fakie_tricks, my_nollie_tricks, my_switch_tricks, my_manny):\n",
        "  print('Combo 1: ')\n",
        "  manny_combo(True,False, my_regular_tricks, my_fakie_tricks, my_nollie_tricks, my_switch_tricks, my_manny)\n",
        "  print('Combo 2: ')\n",
        "  manny_combo(False,True, my_regular_tricks, my_fakie_tricks, my_nollie_tricks, my_switch_tricks, my_manny)\n",
        "  print('Combo 3: ')\n",
        "  manny_combo(True,True, my_regular_tricks, my_fakie_tricks, my_nollie_tricks, my_switch_tricks, my_manny)\n"
      ],
      "metadata": {
        "id": "9XkB-VOg-Ehw"
      },
      "execution_count": 5,
      "outputs": []
    },
    {
      "cell_type": "code",
      "source": [
        "#example of calling the  display combo function and what it will yield:\n",
        "display_combo(michael_regular, michael_fakie, michael_nollie, michael_switch, michael_manny)"
      ],
      "metadata": {
        "colab": {
          "base_uri": "https://localhost:8080/"
        },
        "id": "aoOobh7W-QEr",
        "outputId": "24c9c003-0f81-4df0-9784-30a62442263b"
      },
      "execution_count": 6,
      "outputs": [
        {
          "output_type": "stream",
          "name": "stdout",
          "text": [
            "Combo 1: \n",
            "front shuv , nose manual\n",
            "Combo 2: \n",
            "ollie , nose manual , nollie back 180\n",
            "Combo 3: \n",
            "treflip , manual , heelflip\n"
          ]
        }
      ]
    },
    {
      "cell_type": "code",
      "source": [
        "#set of tricks for an advanced skater with a large bag of tricks\n",
        "suciu_regular = ['ollie', 'pop shuv', 'front shuv', 'front 180', 'back 180', 'kickflip', 'heelflip', 'frontside flip', 'backside flip', 'front heel', 'back heel',\n",
        "                 'treflip', 'bigflip', '360 shuv it', 'varial heel', 'varial flip', 'back bigspin', 'front bigspin', 'hardflip', 'inward heel', 'ollie north', 'bigspin heelflip', \n",
        "                 'impossible', 'back 360', 'front 360']\n",
        "suciu_nollie = ['nollie', 'nollie shuv', 'nollie front 180', 'nollie back 180', 'nollie front shuv', 'nollie flip', 'nollie heel', 'nollie varial flip', \n",
        "                'nollie varial heel', 'nollie frontside flip','nollie backside flip', \n",
        "               'nollie front heel', 'nollie back heel', 'nollie front 360 flip','nollie back bigspin',' nollie front bigspin', 'nollie hardflip', 'nollie inward heel', \n",
        "                'nollie front 360', 'nollie back 360',  'nollie treflip', 'nollie 360 shuv it', 'nollie big heel']\n",
        "suciu_fakie = ['fakie ollie', 'fakie pop shuv', 'fakie front shuv', 'half cab', 'fakie front 180', 'full cab', 'fakie front 360', 'fakie flip', 'fakie heel',\n",
        "                'fakie bigspin', 'fakie front bigspin', 'half cab flip', 'half cab heel', 'fakie front heel', 'fakie frontside flip', 'fakie three shuv',\n",
        "                'fakie treflip', 'full cab flip', 'fakie bigflip', 'fakie big heel', 'fakie hardflip', 'fakie inward heel', 'fakie lazer', \n",
        "               'fakie varial flip', 'fakie varial heel']\n",
        "suciu_switch = ['switch ollie', 'switch pop shuv', \n",
        "                  'switch front 180', 'switch back 180', 'switch front shuv', 'switch kickflip', 'switch heel', \n",
        "                  'switch varial flip', 'switch varial heel', 'switch frontside flip','switch backside flip',\n",
        "                 'switch front heel', 'switch back heel', 'switch back bigspin', 'switch front bigspin', \n",
        "                  'switch hardflip', 'switch inward heel', 'switch front 360', 'switch back 360', \n",
        "                  'switch bigflip', 'switch bigspin heelflip', 'switch treflip']\n",
        "\n",
        "suciu_manny = ['manual', 'nose manual', 'fakie manual', 'switch manual']"
      ],
      "metadata": {
        "id": "-xtBJyMYAN12"
      },
      "execution_count": 7,
      "outputs": []
    },
    {
      "cell_type": "code",
      "source": [
        "for i in range(50):\n",
        "  manny_combo(True, True, suciu_regular, suciu_fakie, suciu_nollie, suciu_switch, suciu_manny)"
      ],
      "metadata": {
        "colab": {
          "base_uri": "https://localhost:8080/"
        },
        "id": "x5aMofgADc9a",
        "outputId": "cdc5ab07-bc90-4bca-9b80-d9bd99b3ac7c"
      },
      "execution_count": 8,
      "outputs": [
        {
          "output_type": "stream",
          "name": "stdout",
          "text": [
            "ollie north , nose manual , nollie front 180\n",
            "heelflip , nose manual , nollie varial flip\n",
            "kickflip , manual , front heel\n",
            "heelflip , manual , varial flip\n",
            "treflip , manual , pop shuv\n",
            "ollie north , manual , bigflip\n",
            "varial heel , nose manual , nollie front 360 flip\n",
            "treflip , nose manual , nollie frontside flip\n",
            "front shuv , nose manual , nollie frontside flip\n",
            "ollie , manual , backside flip\n",
            "front 360 , nose manual , nollie backside flip\n",
            "impossible , manual , varial heel\n",
            "ollie , nose manual , nollie front shuv\n",
            "back 360 , nose manual ,  nollie front bigspin\n",
            "back 360 , manual , back bigspin\n",
            "ollie , nose manual , nollie varial flip\n",
            "back 360 , nose manual , nollie front 180\n",
            "360 shuv it , nose manual , nollie flip\n",
            "heelflip , nose manual , nollie backside flip\n",
            "pop shuv , manual , bigspin heelflip\n",
            "front 360 , nose manual , nollie inward heel\n",
            "treflip , nose manual , nollie back bigspin\n",
            "ollie north , manual , back bigspin\n",
            "pop shuv , nose manual , nollie hardflip\n",
            "360 shuv it , nose manual , nollie flip\n",
            "pop shuv , nose manual ,  nollie front bigspin\n",
            "impossible , manual , ollie north\n",
            "varial flip , manual , varial heel\n",
            "360 shuv it , manual , kickflip\n",
            "front shuv , manual , front bigspin\n",
            "kickflip , nose manual , nollie back 180\n",
            "kickflip , nose manual , nollie back 360\n",
            "ollie north , manual , back heel\n",
            "ollie , nose manual , nollie hardflip\n",
            "inward heel , manual , heelflip\n",
            "front 360 , manual , hardflip\n",
            "front 360 , manual , frontside flip\n",
            "hardflip , manual , ollie north\n",
            "varial flip , nose manual , nollie back heel\n",
            "front 360 , nose manual , nollie inward heel\n",
            "front shuv , nose manual , nollie varial heel\n",
            "front shuv , manual , heelflip\n",
            "hardflip , manual , inward heel\n",
            "360 shuv it , nose manual , nollie heel\n",
            "varial flip , manual , ollie north\n",
            "heelflip , nose manual , nollie back 180\n",
            "front 360 , nose manual , nollie front 360 flip\n",
            "front 360 , nose manual , nollie back bigspin\n",
            "ollie north , manual , bigflip\n",
            "front shuv , nose manual , nollie shuv\n"
          ]
        }
      ]
    }
  ]
}