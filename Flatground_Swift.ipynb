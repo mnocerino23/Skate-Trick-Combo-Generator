{
  "nbformat": 4,
  "nbformat_minor": 0,
  "metadata": {
    "colab": {
      "provenance": [],
      "authorship_tag": "ABX9TyNMZz7zpgA2Z7OvqtFyHrF8",
      "include_colab_link": true
    },
    "kernelspec": {
      "name": "python3",
      "display_name": "Python 3"
    },
    "language_info": {
      "name": "python"
    }
  },
  "cells": [
    {
      "cell_type": "markdown",
      "metadata": {
        "id": "view-in-github",
        "colab_type": "text"
      },
      "source": [
        "<a href=\"https://colab.research.google.com/github/mnocerino23/Skate-Trick-Combo-Generator/blob/main/Flatground_Swift.ipynb\" target=\"_parent\"><img src=\"https://colab.research.google.com/assets/colab-badge.svg\" alt=\"Open In Colab\"/></a>"
      ]
    },
    {
      "cell_type": "code",
      "execution_count": 35,
      "metadata": {
        "colab": {
          "base_uri": "https://localhost:8080/",
          "height": 496
        },
        "id": "KkF112mpBIew",
        "outputId": "5d56388e-47f5-4f9e-baeb-8b18c7610e95"
      },
      "outputs": [
        {
          "output_type": "stream",
          "name": "stdout",
          "text": [
            "\u001b[0;31mCompilation error: \u001b[0mexpression failed to parse:\n",
            "\u001b[0;1m<Cell 35>:1:6: \u001b[0m\u001b[0;1;31merror: \u001b[0m\u001b[0;1mconsecutive statements on a line must be separated by ';'\u001b[0m\n",
            "!curl \"https://raw.githubusercontent.com/philipturner/swift-colab/release/latest/install_swift.sh\" --output \"install_swift.sh\"\n",
            "\u001b[0;1;32m     ^\u001b[0m\n",
            "     ;\n",
            "\n",
            "\u001b[0;1m<Cell 35>:1:99: \u001b[0m\u001b[0;1;31merror: \u001b[0m\u001b[0;1mconsecutive statements on a line must be separated by ';'\u001b[0m\n",
            "!curl \"https://raw.githubusercontent.com/philipturner/swift-colab/release/latest/install_swift.sh\" --output \"install_swift.sh\"\n",
            "\u001b[0;1;32m                                                                                                  ^\u001b[0m\n",
            "                                                                                                  ;\n",
            "\n",
            "\u001b[0;1m<Cell 35>:1:108: \u001b[0m\u001b[0;1;31merror: \u001b[0m\u001b[0;1mconsecutive statements on a line must be separated by ';'\u001b[0m\n",
            "!curl \"https://raw.githubusercontent.com/philipturner/swift-colab/release/latest/install_swift.sh\" --output \"install_swift.sh\"\n",
            "\u001b[0;1;32m                                                                                                           ^\u001b[0m\n",
            "                                                                                                           ;\n",
            "\n",
            "\u001b[0;1m<Cell 35>:2:6: \u001b[0m\u001b[0;1;31merror: \u001b[0m\u001b[0;1mconsecutive statements on a line must be separated by ';'\u001b[0m\n",
            "!bash \"install_swift.sh\" \"5.6.2\"\n",
            "\u001b[0;1;32m     ^\u001b[0m\n",
            "     ;\n",
            "\n",
            "\u001b[0;1m<Cell 35>:2:25: \u001b[0m\u001b[0;1;31merror: \u001b[0m\u001b[0;1mconsecutive statements on a line must be separated by ';'\u001b[0m\n",
            "!bash \"install_swift.sh\" \"5.6.2\"\n",
            "\u001b[0;1;32m                        ^\u001b[0m\n",
            "                        ;\n"
          ]
        },
        {
          "output_type": "error",
          "ename": "",
          "evalue": "ignored",
          "traceback": []
        }
      ],
      "source": [
        "!curl \"https://raw.githubusercontent.com/philipturner/swift-colab/release/latest/install_swift.sh\" --output \"install_swift.sh\"\n",
        "!bash \"install_swift.sh\" \"5.6.2\""
      ]
    },
    {
      "cell_type": "code",
      "source": [
        "var my_regular_tricks: [String] = [\"ollie\", \"pop shuv\", \"front 180\", \"back 180\", \"front shuv\", \"kickflip\", \"heelflip\", \"backside flip\", \n",
        "                                    \"back bigspin\"]\n",
        "\n",
        "var my_fakie_tricks: [String] = [\"fakie ollie\", \"fakie pop shuv\", \"fakie front shuv\", \"half cab\", \"fakie front 180\", \"full cab\", \n",
        "                                  \"fakie front 360\",\"fakie flip\", \"fakie heel\", \"fakie bigspin\", \"fakie front bigspin\", \n",
        "                                  \"half cab flip\", \"half cab heel\", \"fakie front heel\",\n",
        "                                \"fakie three shuv\", \"fakie treflip\"]\n",
        "\n",
        "var my_nollie_tricks: [String] = [\"nollie\", \"nollie shuv\", \"nollie front shuv\", \"nollie back 180\", \"nollie front bigspin\", \n",
        "                                  \"nollie back bigspin\"]\n",
        "\n",
        "\n",
        "var my_switch_tricks: [String] = [\"switch ollie\", \"switch front 180\", \"switch pop shuv\"]"
      ],
      "metadata": {
        "colab": {
          "base_uri": "https://localhost:8080/"
        },
        "id": "kvRwwseBBfjZ",
        "outputId": "888f266b-ac06-4636-d268-8f3208a98096"
      },
      "execution_count": 41,
      "outputs": [
        {
          "output_type": "stream",
          "name": "stdout",
          "text": [
            ""
          ]
        }
      ]
    },
    {
      "cell_type": "code",
      "source": [
        "var exit_stance = [\"ollie\": \"regular\", \"pop shuv\": \"regular\", \"front 180\": \"fakie\", \"back 180\": \"fakie\", \"front shuv\":\"regular\", \"kickflip\":\"regular\", \"heelflip\":\"regular\", \n",
        "                  \"ollie north\": \"regular\", \"no comply 180\": \"fakie\",\n",
        "                  \"varial flip\":\"regular\", \"varial heel\":\"regular\", \"frontside flip\":\"fakie\",\"backside flip\":\"fakie\", \"front heel\":\"fakie\", \"back heel\":\"fakie\",\n",
        "                \"back bigspin\": \"fakie\", \n",
        "                  \"front bigspin\":\"fakie\", \n",
        "                  \"hardflip\":\"regular\", \"inward heel\":\"regular\", \"front 360\":\"regular\", \"back 360\":\"regular\", \"bigflip\":\"fakie\", \"bigspin heelflip\":\"fakie\",\n",
        "                  \"treflip\": \"regular\", \"360 shuv it\": \"regular\", \"impossible\":\"regular\", \"lazer flip\": \"regular\", \"fakie ollie\":\"fakie\", \"fakie pop shuv\":\"fakie\", \n",
        "               \"fakie front shuv\": \"fakie\", \n",
        "                  \"half cab\": \"regular\", \"fakie front 180\": \"regular\", \"full cab\":\"fakie\", \"fakie front 360\":\"fakie\", \"fakie flip\":\"fakie\", \"fakie heel\":\"fakie\",\n",
        "                \"fakie bigspin\":\"regular\", \"fakie front bigspin\":\"regular\", \"half cab flip\":\"regular\", \"half cab heel\":\"regular\", \"fakie front heel\":\"regular\",\n",
        "                 \"fakie frontside flip\":\"regular\", \"fakie three shuv\": \"fakie\",\n",
        "                \"fakie treflip\": \"fakie\", \"full cab flip\": \"fakie\"\n",
        "                , \"fakie bigflip\":\"regular\", \"fakie big heel\":\"regular\", \"fakie hardflip\":\"fakie\", \"fakie inward heel\":\"fakie\", \"fakie lazer\":\"fakie\", \n",
        "               \"fakie varial flip\": \"fakie\", \"fakie varial heel\": \"fakie\",\n",
        "               \"nollie\":\"regular\", \"nollie shuv\":\"regular\", \"nollie front 180\":\"fakie\", \"nollie back 180\":\"fakie\", \"nollie front shuv\":\"regular\", \"nollie flip\":\"regular\", \n",
        "                 \"nollie heel\":\"regular\", \"nollie varial flip\":\"regular\", \"nollie varial heel\":\"regular\", \"nollie frontside flip\":\"fakie\",\"nollie backside flip\": \"regular\" , \n",
        "               \"nollie front heel\": \"fakie\", \n",
        "                 \"nollie back heel\": \"fakie\", \n",
        "                 \"nollie front 360 flip\": \"regular\",\n",
        "                 \"nollie back bigspin\": \"fakie\",\"nollie front bigspin\":\"fakie\", \n",
        "                  \"nollie hardflip\": \"regular\", \"nollie inward heel\":\"regular\", \"nollie front 360\":\"regular\", \"nollie back 360\":\"regular\", \"nollie bigflip\":\"fakie\", \n",
        "                  \"nollie treflip\": \"regular\", \"nollie 360 shuv it\": \"regular\", \"nollie big heel\":\"fakie\",  \"nollie lazer\": \"regular\", \n",
        "                  \"manual\":\"regular\", \"nose manual\": \"regular\", \"fakie manual\": \"fakie\", \"switch ollie\":\"fakie\", \"switch pop shuv\":\"fakie\", \n",
        "                  \"switch front 180\":\"regular\", \"switch back 180\":\"regular\", \"switch front shuv\":\"fakie\", \"switch kickflip\":\"fakie\", \"switch heel\":\"fakie\", \n",
        "                  \"switch varial flip\": \"fakie\" , \"switch varial heel\": \"fakie\", \"switch frontside flip\": \"regular\",\"switch backside flip\":\"regular\",\n",
        "                 \"switch front heel\": \"regular\", \"switch back heel\": \"regular\",\n",
        "                  \"switch back bigspin\": \"regular\", \"switch front bigspin\":\"regular\", \n",
        "                  \"switch hardflip\":\"regular\", \"switch inward heel\":\"fakie\", \"switch front 360\":\"fakie\", \"switch back 360\":\"fakie\", \n",
        "                  \"switch bigflip\":\"regular\", \"switch bigspin heelflip\": \"regular\"\n",
        "                 , \"switch treflip\":\"fakie\", \"switch 360 shuv it\":\"fakie\", \"switch impossible\": \"fakie\", \"switch lazer\":\"fakie\"\n",
        "]"
      ],
      "metadata": {
        "colab": {
          "base_uri": "https://localhost:8080/"
        },
        "id": "RCD1DpC4loEy",
        "outputId": "548f3edd-cea1-4da8-87df-6939ab0275b1"
      },
      "execution_count": 42,
      "outputs": [
        {
          "output_type": "stream",
          "name": "stdout",
          "text": [
            ""
          ]
        }
      ]
    },
    {
      "cell_type": "code",
      "source": [
        "//initialize a dictionary where every trick in skating has 0 occurences\n",
        "var occurences = [String: Int]()\n",
        "for item in exit_stance.keys{\n",
        "  occurences[item] = 0\n",
        "}"
      ],
      "metadata": {
        "colab": {
          "base_uri": "https://localhost:8080/"
        },
        "id": "qvdbSJ4QS-hq",
        "outputId": "2e6a54cc-2c89-4f82-cbc3-0a2f4d029a97"
      },
      "execution_count": 43,
      "outputs": [
        {
          "output_type": "stream",
          "name": "stdout",
          "text": [
            ""
          ]
        }
      ]
    },
    {
      "cell_type": "code",
      "source": [
        "func flatground_line(length_of_line: Int) -> String{\n",
        "    var line: String = \"\"\n",
        "    var line_array = [String]()\n",
        "    var current_stance: String = \"\"\n",
        "    var trick:String = \"\"\n",
        "\n",
        "    //add the my_regular_tricks and my nollie tricks arrays together, and then do the same for fakie and switch\n",
        "    var regular_flaground = my_regular_tricks + my_nollie_tricks\n",
        "    var fakie_flatground = my_fakie_tricks + my_switch_tricks\n",
        "\n",
        "    //perform length_of_line iterations\n",
        "    for i in 1...length_of_line{\n",
        "        if current_stance == \"regular\"{\n",
        "            trick = regular_flaground.randomElement()!\n",
        "            //check to see if trick already in line: while trick is in dictionary and occurences[trick] >=2, get a new trick\n",
        "            //make sure trick isnt at the tail of the line_array dictionary\n",
        "            while ((occurences[trick]! >= 2) || (trick == line_array.last)) {\n",
        "                trick = regular_flaground.randomElement()!\n",
        "            }\n",
        "            line_array.append(trick)\n",
        "            occurences[trick] = occurences[trick]! + 1\n",
        "        }\n",
        "        else{\n",
        "            trick = fakie_flatground.randomElement()!\n",
        "            while ((occurences[trick]! >= 2) || (trick == line_array.last)) {\n",
        "                trick = regular_flaground.randomElement()!\n",
        "            }\n",
        "            line_array.append(trick)\n",
        "             occurences[trick] = occurences[trick]! + 1\n",
        "        }\n",
        "        if i > 1{\n",
        "            line = line + \"- \" + trick\n",
        "            current_stance = exit_stance[trick]!\n",
        "        }\n",
        "        else{\n",
        "            line = trick\n",
        "            current_stance = exit_stance[trick]!\n",
        "        }\n",
        "    }\n",
        "    return line\n",
        "}"
      ],
      "metadata": {
        "colab": {
          "base_uri": "https://localhost:8080/"
        },
        "id": "BOnabw2xB2ig",
        "outputId": "ee2e48a9-1586-425b-8409-2a6ee699ce50"
      },
      "execution_count": 48,
      "outputs": [
        {
          "output_type": "stream",
          "name": "stdout",
          "text": [
            ""
          ]
        }
      ]
    },
    {
      "cell_type": "code",
      "source": [
        "flatground_line(length_of_line: 4)"
      ],
      "metadata": {
        "colab": {
          "base_uri": "https://localhost:8080/"
        },
        "id": "NhsZRTXcnv2M",
        "outputId": "a625f4f5-cdb0-44cb-beff-cc66b4d345eb"
      },
      "execution_count": 53,
      "outputs": [
        {
          "output_type": "stream",
          "name": "stdout",
          "text": [
            ""
          ]
        },
        {
          "output_type": "execute_result",
          "data": {
            "text/plain": [
              "\"fakie front 360- switch pop shuv- full cab- nollie shuv\"\n"
            ]
          },
          "metadata": {},
          "execution_count": 53
        }
      ]
    }
  ]
}