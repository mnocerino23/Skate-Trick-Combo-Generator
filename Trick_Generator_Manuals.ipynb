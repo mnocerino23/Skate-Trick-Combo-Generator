{
  "nbformat": 4,
  "nbformat_minor": 0,
  "metadata": {
    "colab": {
      "name": "Trick_Generator_Manuals.ipynb",
      "provenance": [],
      "collapsed_sections": [],
      "authorship_tag": "ABX9TyN8+kX9jWmwB6ZibHGYQ778",
      "include_colab_link": true
    },
    "kernelspec": {
      "name": "python3",
      "display_name": "Python 3"
    },
    "language_info": {
      "name": "python"
    }
  },
  "cells": [
    {
      "cell_type": "markdown",
      "metadata": {
        "id": "view-in-github",
        "colab_type": "text"
      },
      "source": [
        "<a href=\"https://colab.research.google.com/github/mnocerino23/Skate-Trick-Combo-Generator/blob/main/Trick_Generator_Manuals.ipynb\" target=\"_parent\"><img src=\"https://colab.research.google.com/assets/colab-badge.svg\" alt=\"Open In Colab\"/></a>"
      ]
    },
    {
      "cell_type": "code",
      "source": [
        "#The dictionaries below hold each trick in the stance mapped to a float value 1-10 representing the difficulty\n",
        "#Stance are regular, fakie, nollie, and switch"
      ],
      "metadata": {
        "id": "7TwjM5KYKI6j"
      },
      "execution_count": 109,
      "outputs": []
    },
    {
      "cell_type": "code",
      "execution_count": 110,
      "metadata": {
        "id": "o4D1bm3NKCDK"
      },
      "outputs": [],
      "source": [
        "regular_tricks = {'ollie':1, 'pop shuv':1.5, 'front 180':1.5, 'back 180':2, 'front shuv':2, 'kickflip':3, 'heelflip':3, 'ollie north': 2.5, 'no comply 180': 1.5,\n",
        "                  'varial flip':3, 'varial heel':5, 'frontside flip':7,'backside flip':5, 'front heel':6, 'back heel':5, 'backside bigspin':6, 'frontside bigspin':6.5, \n",
        "                  'hardflip':8.5, 'inward heel':8.5 , 'frontside 360':7, 'backside 360':8, 'bigflip':7, 'bigspin heelflip':8,\n",
        "                  'treflip': 5, '360 shuv it': 6, 'impossible':8, 'lazer flip': 10}\n",
        "fakie_tricks = {'fakie ollie':1, 'fakie pop shuv':1.25, 'fakie front shuv':1.5, 'half cab': 1.5, 'fakie fs 180': 1.25, 'full cab':4.5,\n",
        "                'fakie fs 360':2, 'fakie flip':3, 'fakie heel':4, 'fakie bigspin':1.5, \n",
        "                'fakie fs bigspin':2.5, 'half cab flip':5, 'half cab heelflip':5, 'fakie fs heelflip':6, 'fakie fs flip':6, \n",
        "                'fakie three shuv': 2.5, 'fakie treflip': 5, 'full cab flip': 8.5\n",
        "                , 'fakie bigflip':7, 'fakie big heel':6.5, 'fakie hardflip':7.5, 'fakie inward heel':7, 'fakie lazer':10, 'fakie varial flip': 3, 'fakie varial heel': 4.75\n",
        "}\n",
        "nollie_tricks = {'nollie':2, 'nollie shuv':1.5, 'nollie front 180':3.5, 'nollie back 180':2, 'nollie front shuv':2, 'nollie flip':8, \n",
        "                 'nollie heel':8, 'nollie varial flip':8, 'nollie varial heel':8, 'nollie frontside flip':9,'nollie backside flip':8 , 'nollie front heel': 8, \n",
        "                 'nollie back heel':8, \n",
        "                 'nollie frontside 360 flip': 10,\n",
        "                 'nollie backside bigspin': 3.5,' nollie frontside bigspin':3, \n",
        "                  'nollie hardflip': 9, 'nollie inward heel':9, 'nollie frontside 360':8, 'nollie backside 360':3.5, 'nollie bigflip':8.5, \n",
        "                  'nollie treflip': 8.5, 'nollie 360 shuv it': 4, 'nollie big heel':9,  'nollie lazer': 9.5\n",
        "}\n",
        "\n",
        "switch_tricks = {'switch ollie':1, 'switch pop shuv':3, 'switch front 180':2, 'switch back 180':5, 'switch front shuv':3.5, 'switch kickflip':8, 'switch heel':7.5, \n",
        "                  'switch varial flip': 8 , 'switch varial heel': 8, 'switch frontside flip': 8.5,'switch backside flip':9, 'switch front heel': 8,\n",
        "                  'switch back heel': 8.5, 'switch backside bigspin': 8.5, 'switch frontside bigspin':5.5, \n",
        "                  'switch hardflip':9.5, 'switch inward heel':10, 'switch frontside 360':7.5, 'switch backside 360':9.5, 'switch bigflip':9, 'switch bigspin heelflip': 8\n",
        "                 , 'switch treflip':8.5, 'switch 360 shuv it':9, 'switch impossible': 10, 'switch lazer':10\n",
        "}\n"
      ]
    },
    {
      "cell_type": "code",
      "source": [
        "#this dictionary holds what stance the rider exits in for all flatground tricks (values in this dictionary will be either regular or fakie)\n",
        "exit_stance = {'ollie': 'regular', 'pop shuv': 'regular', 'front 180': 'fakie', 'back 180': 'fakie', 'front shuv':'regular', 'kickflip':'regular', 'heelflip':'regular', \n",
        "                  'ollie north': 'regular', 'no comply 180': 'fakie',\n",
        "                  'varial flip':'regular', 'varial heel':'regular', 'frontside flip':'fakie','backside flip':'fakie', 'front heel':'fakie', 'back heel':'fakie',\n",
        "                'backside bigspin': 'fakie', \n",
        "                  'frontside bigspin':'fakie', \n",
        "                  'hardflip':'regular', 'inward heel':'regular', 'frontside 360':'regular', 'backside 360':'regular', 'bigflip':'fakie', 'bigspin heelflip':'fakie',\n",
        "                  'treflip': 'regular', '360 shuv it': 'regular', 'impossible':'regular', 'lazer flip': 'regular', 'fakie ollie':'fakie', 'fakie pop shuv':'fakie', \n",
        "               'fakie front shuv': 'fakie', \n",
        "                  'half cab': 'regular', 'fakie fs 180': 'regular', 'full cab':'fakie', 'fakie fs 360':'fakie', 'fakie flip':'fakie', 'fakie heel':'fakie',\n",
        "                'fakie bigspin':'regular', 'fakie fs bigspin':'regular', 'half cab flip':'regular', 'half cab heelflip':'regular', 'fakie fs heelflip':'regular',\n",
        "                 'fakie fs flip':'regular', 'fakie three shuv': 'fakie',\n",
        "                'fakie treflip': 'fakie', 'full cab flip': 'fakie'\n",
        "                , 'fakie bigflip':'regular', 'fakie big heel':'regular', 'fakie hardflip':'fakie', 'fakie inward heel':'fakie', 'fakie lazer':'fakie', \n",
        "               'fakie varial flip': 'fakie', 'fakie varial heel': 'fakie',\n",
        "               'nollie':'regular', 'nollie shuv':'regular', 'nollie front 180':'fakie', 'nollie back 180':'fakie', 'nollie front shuv':'regular', 'nollie flip':'regular', \n",
        "                 'nollie heel':'regular', 'nollie varial flip':'regular', 'nollie varial heel':'regular', 'nollie frontside flip':'fakie','nollie backside flip':8 , \n",
        "               'nollie front heel': 'fakie', \n",
        "                 'nollie back heel': 'fakie', \n",
        "                 'nollie frontside 360 flip': 'regular',\n",
        "                 'nollie backside bigspin': 'fakie',' nollie frontside bigspin':'fakie', \n",
        "                  'nollie hardflip': 'regular', 'nollie inward heel':'regular', 'nollie frontside 360':'regular', 'nollie backside 360':'regular', 'nollie bigflip':'fakie', \n",
        "                  'nollie treflip': 'regular', 'nollie 360 shuv it': 'regular', 'nollie big heel':'fakie',  'nollie lazer': 'regular', \n",
        "                  'manual':'regular', 'nose manual': 'regular', 'fakie manual': 'fakie', 'switch ollie':'fakie', 'switch pop shuv':'fakie', \n",
        "                  'switch front 180':'regular', 'switch back 180':'regular', 'switch front shuv':'fakie', 'switch kickflip':'fakie', 'switch heel':'fakie', \n",
        "                  'switch varial flip': 'fakie' , 'switch varial heel': 'fakie', 'switch frontside flip': 'regular','switch backside flip':8.5,\n",
        "                 'switch front heel': 'regular', 'switch back heel': 'regular',\n",
        "                  'switch backside bigspin': 'regular', 'switch frontside bigspin':'regular', \n",
        "                  'switch hardflip':'regular', 'switch inward heel':'fakie', 'switch frontside 360':'fakie', 'switch backside 360':'fakie', \n",
        "                  'switch bigflip':'regular', 'switch bigspin heelflip': 'regular'\n",
        "                 , 'switch treflip':'fakie', 'switch 360 shuv it':'fakie', 'switch impossible': 'fakie', 'switch lazer':'fakie'\n",
        "}\n",
        "\n"
      ],
      "metadata": {
        "id": "f1L0uxpBKwdF"
      },
      "execution_count": 111,
      "outputs": []
    },
    {
      "cell_type": "code",
      "source": [
        "exit_either = ['front 50-50', 'back 50-50']\n",
        "exit_nollie = ['front nosegrind', 'back nosegrind', 'back noseslide', 'front noselide', 'front crook', 'back crook', 'back noseblunt', 'front noseblunt']\n",
        "exit_regular = ['front tail', 'back tail', 'front 5-0', 'back 5-0', 'back suski', 'front smith', 'back smith', 'front blunt', 'back blunt', 'front lipslide', 'back lipslide']"
      ],
      "metadata": {
        "id": "a9ZHXeYmKZXa"
      },
      "execution_count": 112,
      "outputs": []
    },
    {
      "cell_type": "code",
      "source": [
        "ledge_tricks = {'front 50-50':2, 'front 5-0':2.5, 'back 50-50':3, 'back 5-0':3.75, 'front nosegrind':4, 'back nosegrind':5, 'front noseslide':4, 'back noseslide':2.5, \n",
        "                'front tail': 4, 'back tail': 7.75, 'front crook':7, 'back crook':5, 'back suski':5, 'front smith':5, 'back smith':7, 'front lipslide': 4.5, \n",
        "                'back lipslide':6, 'front blunt':8, 'back blunt':8.5, 'back noseblunt':10, 'front noseblunt':9\n",
        "}\n",
        "\n",
        "rail_tricks = {'front 50-50':3,'back 50-50':5, 'front 5-0':5, 'back 5-0':5.5, 'back boardslide':1.5, 'front boardslide':2, 'front lipslide':3, 'back lipslide':7, \n",
        "               'back feeble':4.75, 'front feeble': 6,\n",
        "               'front smith': 4.75, 'back smith': 8, 'back crook': 7, 'front crook':8, 'back overcrook':8.5, \n",
        "               'front blunt':6.75, 'back blunt':8.5, 'back noseblunt':10, 'front noseblunt':8.5\n",
        "}\n",
        "\n",
        "manual_tricks = {'manual':2, 'nose manual':5, 'fakie manual':5.5, 'switch manual': 6\n",
        "                 }"
      ],
      "metadata": {
        "id": "dp1qX-a3KhU4"
      },
      "execution_count": 113,
      "outputs": []
    },
    {
      "cell_type": "code",
      "source": [
        "#import random library which we will use to select random tricks from certain lists\n",
        "import random"
      ],
      "metadata": {
        "id": "BOFskbzFNRcG"
      },
      "execution_count": 114,
      "outputs": []
    },
    {
      "cell_type": "code",
      "source": [
        "def meets_difficulty_requirement(difficulty, difficulty_score):\n",
        "  if difficulty_score <= 8 and difficulty in ['beginner', 'intermediate','advanced', 'god']:\n",
        "    return True\n",
        "  elif difficulty_score <= 16 and difficulty in ['intermediate', 'advanced', 'god']:\n",
        "    return True\n",
        "  elif difficulty_score <= 24 and difficulty in ['advanced', 'god']:\n",
        "    return True\n",
        "  elif difficulty_score <= 30 and difficulty in ['god']:\n",
        "    return True\n",
        "  else:\n",
        "    return False"
      ],
      "metadata": {
        "id": "UWK9VZn1Nvy6"
      },
      "execution_count": 115,
      "outputs": []
    },
    {
      "cell_type": "code",
      "source": [
        "def choose_new_trick(choices, existing_score):\n",
        "  if type(choices) == dict:\n",
        "    chosen_trick = random.choice(list(choices.keys()))\n",
        "    score =  existing_score + choices[chosen_trick]\n",
        "  else:\n",
        "    chosen_trick = random.choice(choices)\n",
        "    score =  existing_score + manual_tricks[chosen_trick]\n",
        "  return score"
      ],
      "metadata": {
        "id": "PM36qyvAT7uL"
      },
      "execution_count": 116,
      "outputs": []
    },
    {
      "cell_type": "code",
      "source": [
        "def manny_combo(trick_in, trick_out, difficulty):\n",
        "  #initialize difficulty score to 0\n",
        "  difficulty_score = 0\n",
        "  score_tracker = {}\n",
        "\n",
        "  #takes care of the case in which user wants a trick into the manual\n",
        "  if trick_in == True:\n",
        "    #select a random stance for the trick into the manual\n",
        "    stances = [regular_tricks, fakie_tricks, nollie_tricks]\n",
        "    start_stance = random.choice(stances)\n",
        "    #choose random trick onto the pad\n",
        "    onto_pad = random.choice(list(start_stance.keys()))\n",
        "\n",
        "    #add difficulty of first trick on total difficulty score\n",
        "    difficulty_score += start_stance[onto_pad]\n",
        "\n",
        "    #if the difficulty requirement is not met, we redo this process\n",
        "    while meets_difficulty_requirement(difficulty, difficulty_score) == False:\n",
        "      difficulty_score = choose_new_trick(start_stance, 0)\n",
        "\n",
        "    score_tracker['onto pad'] = difficulty_score\n",
        "    #get the exist stance of the trick in\n",
        "    stance_entering_manny = exit_stance[onto_pad]\n",
        "\n",
        "\n",
        "  #when trick in is false, we default to ollie into the manual\n",
        "  else:\n",
        "    stance_entering_manny = 'regular'\n",
        "    onto_pad = 'ollie'\n",
        "\n",
        "    #add the difficulty score associated with the ollie onto the difficulty score\n",
        "    difficulty_score += regular_tricks['ollie']\n",
        "    score_tracker['onto pad'] = difficulty_score\n",
        "\n",
        "  if stance_entering_manny == 'regular':\n",
        "    p1 = ['manual', 'nose manual']\n",
        "    manual_trick = random.choice(p1)\n",
        "    difficulty_score += manual_tricks[manual_trick]\n",
        "\n",
        "    while meets_difficulty_requirement(difficulty, difficulty_score) == False:\n",
        "      difficulty_score = choose_new_trick(p1, score_tracker['onto pad'])\n",
        "\n",
        "    score_tracker['on pad'] = difficulty_score\n",
        "\n",
        "  else:\n",
        "    p2 = ['fakie manual', 'switch manual']\n",
        "    manual_trick = random.choice(p2)\n",
        "    difficulty_score += manual_tricks[manual_trick]\n",
        "\n",
        "    while meets_difficulty_requirement(difficulty, difficulty_score) == False:\n",
        "      difficulty_score = choose_new_trick(p2, score_tracker['onto pad'])\n",
        "\n",
        "    score_tracker['on pad'] = difficulty_score\n",
        "\n",
        "\n",
        "  if trick_out == True:\n",
        "    if manual_trick == 'manual':\n",
        "      trick_out = random.choice(list(regular_tricks.keys()))\n",
        "      difficulty_score += regular_tricks[trick_out]\n",
        "\n",
        "      while meets_difficulty_requirement(difficulty, difficulty_score) == False:\n",
        "        difficulty_score = choose_new_trick(regular_tricks, score_tracker['on pad'])\n",
        "\n",
        "    elif manual_trick == 'nose manual':\n",
        "      trick_out = random.choice(list(nollie_tricks.keys()))\n",
        "      difficulty_score += nollie_tricks[trick_out]\n",
        "\n",
        "      while meets_difficulty_requirement(difficulty, difficulty_score) == False:\n",
        "        difficulty_score = choose_new_trick(nollie_tricks, score_tracker['on pad'])\n",
        "\n",
        "    elif manual_trick == 'fakie manual':\n",
        "      trick_out = random.choice(list(fakie_tricks.keys()))\n",
        "      difficulty_score += fakie_tricks[trick_out]\n",
        "\n",
        "      while meets_difficulty_requirement(difficulty, difficulty_score) == False:\n",
        "        difficulty_score = choose_new_trick(fakie_tricks, score_tracker['on pad'])\n",
        "\n",
        "\n",
        "    else:\n",
        "      trick_out = random.choice(list(switch_tricks.keys()))\n",
        "      difficulty_score += switch_tricks[trick_out]\n",
        "\n",
        "      while meets_difficulty_requirement(difficulty, difficulty_score) == False:\n",
        "        difficulty_score = choose_new_trick(switch_tricks, score_tracker['on pad'])\n",
        "\n",
        "\n",
        "  else:\n",
        "    trick_out = ''\n",
        "  if trick_out == '':\n",
        "    print(onto_pad, ',', manual_trick, '\\n', 'Difficulty: ', difficulty_score)\n",
        "  else:\n",
        "     print(onto_pad, ',', manual_trick, ',', trick_out, '\\n', 'Difficulty: ', difficulty_score)"
      ],
      "metadata": {
        "id": "tRlS4xbSNbXl"
      },
      "execution_count": 117,
      "outputs": []
    },
    {
      "cell_type": "code",
      "source": [
        "manny_combo(True, False, 'beginner')\n",
        "manny_combo(True, False, 'intermediate')\n",
        "manny_combo(True, False, 'advanced')\n",
        "manny_combo(True, False, 'god')"
      ],
      "metadata": {
        "colab": {
          "base_uri": "https://localhost:8080/"
        },
        "id": "qyBHsPxoYoUv",
        "outputId": "e9096919-fc10-4ad6-f19c-3e24d21100fc"
      },
      "execution_count": 118,
      "outputs": [
        {
          "output_type": "stream",
          "name": "stdout",
          "text": [
            "nollie inward heel , nose manual \n",
            " Difficulty:  5.5\n",
            "hardflip , manual \n",
            " Difficulty:  10.5\n",
            "frontside 360 , manual \n",
            " Difficulty:  9\n",
            "nollie back heel , switch manual \n",
            " Difficulty:  14\n"
          ]
        }
      ]
    },
    {
      "cell_type": "code",
      "source": [
        "manny_combo(False, True, 'beginner')\n",
        "manny_combo(False, True, 'intermediate')\n",
        "manny_combo(False, True, 'advanced')\n",
        "manny_combo(False, True, 'god')"
      ],
      "metadata": {
        "colab": {
          "base_uri": "https://localhost:8080/"
        },
        "id": "F3mjJ-4EYu4y",
        "outputId": "936775ab-970f-45e6-e5c4-92e46a9c4713"
      },
      "execution_count": 119,
      "outputs": [
        {
          "output_type": "stream",
          "name": "stdout",
          "text": [
            "ollie , nose manual ,  nollie frontside bigspin \n",
            " Difficulty:  8\n",
            "ollie , nose manual , nollie treflip \n",
            " Difficulty:  14.5\n",
            "ollie , manual , backside 360 \n",
            " Difficulty:  11\n",
            "ollie , nose manual , nollie front heel \n",
            " Difficulty:  14\n"
          ]
        }
      ]
    },
    {
      "cell_type": "code",
      "source": [
        "manny_combo(False, False, 'beginner')\n",
        "manny_combo(False, False, 'intermediate')\n",
        "manny_combo(False, False, 'advanced')\n",
        "manny_combo(False, False, 'god')"
      ],
      "metadata": {
        "colab": {
          "base_uri": "https://localhost:8080/"
        },
        "id": "MLaV1qIaYxiY",
        "outputId": "5a9f9536-25f2-4700-b5e0-24cb52a8e97a"
      },
      "execution_count": 120,
      "outputs": [
        {
          "output_type": "stream",
          "name": "stdout",
          "text": [
            "ollie , nose manual \n",
            " Difficulty:  6\n",
            "ollie , manual \n",
            " Difficulty:  3\n",
            "ollie , manual \n",
            " Difficulty:  3\n",
            "ollie , nose manual \n",
            " Difficulty:  6\n"
          ]
        }
      ]
    }
  ]
}