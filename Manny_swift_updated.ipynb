{
  "nbformat": 4,
  "nbformat_minor": 0,
  "metadata": {
    "colab": {
      "provenance": [],
      "collapsed_sections": [],
      "include_colab_link": true
    },
    "kernelspec": {
      "name": "swift",
      "display_name": "Swift"
    }
  },
  "cells": [
    {
      "cell_type": "markdown",
      "metadata": {
        "id": "view-in-github",
        "colab_type": "text"
      },
      "source": [
        "<a href=\"https://colab.research.google.com/github/mnocerino23/Skate-Trick-Combo-Generator/blob/main/Manny_swift_updated.ipynb\" target=\"_parent\"><img src=\"https://colab.research.google.com/assets/colab-badge.svg\" alt=\"Open In Colab\"/></a>"
      ]
    },
    {
      "cell_type": "code",
      "source": [
        "\n",
        "!curl \"https://raw.githubusercontent.com/philipturner/swift-colab/release/latest/install_swift.sh\" --output \"install_swift.sh\"\n",
        "!bash \"install_swift.sh\" \"5.6.2\""
      ],
      "metadata": {
        "colab": {
          "base_uri": "https://localhost:8080/"
        },
        "id": "Qb4MeaY_c7DT",
        "outputId": "11ed8c11-2e48-4fba-f59b-affbc7df722a"
      },
      "execution_count": 2,
      "outputs": [
        {
          "output_type": "stream",
          "name": "stdout",
          "text": [
            "  % Total    % Received % Xferd  Average Speed   Time    Time     Time  Current\n",
            "                                 Dload  Upload   Total   Spent    Left  Speed\n",
            "100  8110  100  8110    0     0  60522      0 --:--:-- --:--:-- --:--:-- 60522\n",
            "Downloading Swift 5.6.2\n",
            "  % Total    % Received % Xferd  Average Speed   Time    Time     Time  Current\n",
            "                                 Dload  Upload   Total   Spent    Left  Speed\n",
            "100  489M  100  489M    0     0  26.7M      0  0:00:18  0:00:18 --:--:-- 28.3M\n",
            "Cloning into 'swift-colab'...\n",
            "remote: Enumerating objects: 130, done.\u001b[K\n",
            "remote: Counting objects: 100% (130/130), done.\u001b[K\n",
            "remote: Compressing objects: 100% (120/120), done.\u001b[K\n",
            "remote: Total 130 (delta 7), reused 96 (delta 7), pack-reused 0\u001b[K\n",
            "Receiving objects: 100% (130/130), 316.49 KiB | 11.72 MiB/s, done.\n",
            "Resolving deltas: 100% (7/7), done.\n",
            "Compiling Swift LLDB bindings\n",
            "Compiling JupyterKernel\n",
            "Adding symbolic link to JupyterKernel binary\n",
            "Registering Swift Jupyter kernel\n",
            "\u001b[0;36m=== ------------------------------------------------------------------------ ===\u001b[0m\n",
            "\u001b[0;36m=== \u001b[0mSwift-Colab overwrote the Python kernel with Swift, but Colab is still  \u001b[0;36m ===\u001b[0m\n",
            "\u001b[0;36m=== \u001b[0min Python mode. To enter Swift mode, go to \u001b[0;32m'Runtime > Restart runtime'\u001b[0m. \u001b[0;36m ===\u001b[0m\n",
            "\u001b[0;36m=== ------------------------------------------------------------------------ ===\u001b[0m\n"
          ]
        }
      ]
    },
    {
      "cell_type": "code",
      "source": [
        "//imagine the user has already filled out the survey\n",
        "//I will provide a sample inventory of tricks so that we can run the function\n",
        "\n",
        "var my_regular_tricks: [String] = [\"ollie\", \"pop shuv\", \"front 180\", \"back 180\", \"front shuv\", \"kickflip\", \"heelflip\", \"backside flip\", \"back bigspin\"]\n",
        "\n",
        "var my_fakie_tricks: [String] = [\"fakie ollie\", \"fakie pop shuv\", \"fakie front shuv\", \"half cab\", \"fakie front 180\", \"full cab\", \"fakie front 360\",\n",
        "                                \"fakie flip\", \"fakie heel\", \"fakie bigspin\", \"fakie front bigspin\", \"half cab flip\", \"half cab heel\", \"fakie front heel\",\n",
        "                                \"fakie three shuv\", \"fakie treflip\"]\n",
        "\n",
        "var my_nollie_tricks: [String] = [\"nollie\", \"nollie shuv\", \"nollie front shuv\", \"nollie back 180\", \"nollie front bigspin\", \"nollie back bigspin\"]\n",
        "\n",
        "\n",
        "var my_switch_tricks: [String] = [\"switch ollie\", \"switch front 180\", \"switch pop shuv\"]\n",
        "\n",
        "var my_manny: [String] = [\"nose manual\", \"manual\", \"fakie manual\", \"switch manual\"]"
      ],
      "metadata": {
        "colab": {
          "base_uri": "https://localhost:8080/"
        },
        "id": "kggb26uRfMEB",
        "outputId": "86dbd92c-64f0-4093-ea82-6111314a48d4"
      },
      "execution_count": 1,
      "outputs": [
        {
          "output_type": "stream",
          "name": "stdout",
          "text": [
            ""
          ]
        }
      ]
    },
    {
      "cell_type": "code",
      "source": [
        "//How to get a random element from a swift array\n",
        "my_regular_tricks.randomElement()"
      ],
      "metadata": {
        "colab": {
          "base_uri": "https://localhost:8080/"
        },
        "id": "99iO3FEehmrr",
        "outputId": "395aeaed-0834-4684-9628-6d4f72188f78"
      },
      "execution_count": 2,
      "outputs": [
        {
          "output_type": "stream",
          "name": "stdout",
          "text": [
            ""
          ]
        },
        {
          "output_type": "execute_result",
          "data": {
            "text/plain": [
              "▿ Optional<String>\n",
              "  - some : \"backside flip\"\n"
            ]
          },
          "metadata": {},
          "execution_count": 2
        }
      ]
    },
    {
      "cell_type": "code",
      "source": [
        "//create a dictionary mapping each trick to its exit stance\n",
        "var exit_stance = [\"ollie\": \"regular\", \"pop shuv\": \"regular\", \"front 180\": \"fakie\", \"back 180\": \"fakie\", \"front shuv\":\"regular\", \"kickflip\":\"regular\", \"heelflip\":\"regular\", \n",
        "                  \"ollie north\": \"regular\", \"no comply 180\": \"fakie\",\n",
        "                  \"varial flip\":\"regular\", \"varial heel\":\"regular\", \"frontside flip\":\"fakie\",\"backside flip\":\"fakie\", \"front heel\":\"fakie\", \"back heel\":\"fakie\",\n",
        "                \"back bigspin\": \"fakie\", \n",
        "                  \"front bigspin\":\"fakie\", \n",
        "                  \"hardflip\":\"regular\", \"inward heel\":\"regular\", \"front 360\":\"regular\", \"back 360\":\"regular\", \"bigflip\":\"fakie\", \"bigspin heelflip\":\"fakie\",\n",
        "                  \"treflip\": \"regular\", \"360 shuv it\": \"regular\", \"impossible\":\"regular\", \"lazer flip\": \"regular\", \"fakie ollie\":\"fakie\", \"fakie pop shuv\":\"fakie\", \n",
        "               \"fakie front shuv\": \"fakie\", \n",
        "                  \"half cab\": \"regular\", \"fakie front 180\": \"regular\", \"full cab\":\"fakie\", \"fakie front 360\":\"fakie\", \"fakie flip\":\"fakie\", \"fakie heel\":\"fakie\",\n",
        "                \"fakie bigspin\":\"regular\", \"fakie front bigspin\":\"regular\", \"half cab flip\":\"regular\", \"half cab heel\":\"regular\", \"fakie front heel\":\"regular\",\n",
        "                 \"fakie frontside flip\":\"regular\", \"fakie three shuv\": \"fakie\",\n",
        "                \"fakie treflip\": \"fakie\", \"full cab flip\": \"fakie\"\n",
        "                , \"fakie bigflip\":\"regular\", \"fakie big heel\":\"regular\", \"fakie hardflip\":\"fakie\", \"fakie inward heel\":\"fakie\", \"fakie lazer\":\"fakie\", \n",
        "               \"fakie varial flip\": \"fakie\", \"fakie varial heel\": \"fakie\",\n",
        "               \"nollie\":\"regular\", \"nollie shuv\":\"regular\", \"nollie front 180\":\"fakie\", \"nollie back 180\":\"fakie\", \"nollie front shuv\":\"regular\", \"nollie flip\":\"regular\", \n",
        "                 \"nollie heel\":\"regular\", \"nollie varial flip\":\"regular\", \"nollie varial heel\":\"regular\", \"nollie frontside flip\":\"fakie\",\"nollie backside flip\": \"regular\" , \n",
        "               \"nollie front heel\": \"fakie\", \n",
        "                 \"nollie back heel\": \"fakie\", \n",
        "                 \"nollie front 360 flip\": \"regular\",\n",
        "                 \"nollie back bigspin\": \"fakie\",\" nollie front bigspin\":\"fakie\", \n",
        "                  \"nollie hardflip\": \"regular\", \"nollie inward heel\":\"regular\", \"nollie front 360\":\"regular\", \"nollie back 360\":\"regular\", \"nollie bigflip\":\"fakie\", \n",
        "                  \"nollie treflip\": \"regular\", \"nollie 360 shuv it\": \"regular\", \"nollie big heel\":\"fakie\",  \"nollie lazer\": \"regular\", \n",
        "                  \"manual\":\"regular\", \"nose manual\": \"regular\", \"fakie manual\": \"fakie\", \"switch ollie\":\"fakie\", \"switch pop shuv\":\"fakie\", \n",
        "                  \"switch front 180\":\"regular\", \"switch back 180\":\"regular\", \"switch front shuv\":\"fakie\", \"switch kickflip\":\"fakie\", \"switch heel\":\"fakie\", \n",
        "                  \"switch varial flip\": \"fakie\" , \"switch varial heel\": \"fakie\", \"switch frontside flip\": \"regular\",\"switch backside flip\":\"regular\",\n",
        "                 \"switch front heel\": \"regular\", \"switch back heel\": \"regular\",\n",
        "                  \"switch back bigspin\": \"regular\", \"switch front bigspin\":\"regular\", \n",
        "                  \"switch hardflip\":\"regular\", \"switch inward heel\":\"fakie\", \"switch front 360\":\"fakie\", \"switch back 360\":\"fakie\", \n",
        "                  \"switch bigflip\":\"regular\", \"switch bigspin heelflip\": \"regular\"\n",
        "                 , \"switch treflip\":\"fakie\", \"switch 360 shuv it\":\"fakie\", \"switch impossible\": \"fakie\", \"switch lazer\":\"fakie\"\n",
        "]"
      ],
      "metadata": {
        "colab": {
          "base_uri": "https://localhost:8080/"
        },
        "id": "Q751tUGfcUx1",
        "outputId": "e0250c07-dbdd-4843-a261-166552a7ef57"
      },
      "execution_count": 3,
      "outputs": [
        {
          "output_type": "stream",
          "name": "stdout",
          "text": [
            ""
          ]
        }
      ]
    },
    {
      "cell_type": "code",
      "source": [
        "//my_regular_tricks, my_fakie_tricks, my_nollie_tricks, my_switch_tricks, \n",
        "//,my_manny will all be existing variables that are created and\n",
        "//populated during the initial survey\n",
        "\n",
        "func manny_combo_regular(trick_in: Bool, trick_out: Bool) -> String {\n",
        "\n",
        "  //I was having some issues with scope so I declare all the variables that will be strings\n",
        "  //as empty strings in the beginning\n",
        "  var must_land_regular: Bool = false\n",
        "  var onto_pad: String = \"\"\n",
        "  var stance_entering_manual: String = \"\"\n",
        "  var regular_manuals: [String] = [\"manual\", \"nose manual\"]\n",
        "  var fakie_manuals: [String] = [\"fakie manual\", \"switch manual\"]\n",
        "  var manny: String = \"\"\n",
        "  var exit_trick: String = \"\"\n",
        "\n",
        "  //have to have one manual trick\n",
        "  //ollie, \n",
        "\n",
        "\n",
        "  //check to see if the rider can do fakie and switch manuals. If they can't the initial trick\n",
        "  //must land in regular so they can get out\n",
        "  if (my_manny.contains(\"fakie manual\") || my_manny.contains(\"switch manual\")) {\n",
        "    must_land_regular = false\n",
        "  }\n",
        "  else {\n",
        "    must_land_regular = true\n",
        "  }\n",
        "\n",
        "  if (trick_in == true) {\n",
        "    onto_pad = my_regular_tricks.randomElement()!\n",
        "    stance_entering_manual = exit_stance[onto_pad]!\n",
        "\n",
        "    while(onto_pad == \"ollie\"){\n",
        "      onto_pad = my_regular_tricks.randomElement()!\n",
        "      stance_entering_manual = exit_stance[onto_pad]!\n",
        "    }\n",
        "    //if they cannot do a fakie trick out they cannot land in fakie so we rechoose trick in\n",
        "    while (must_land_regular == true && stance_entering_manual == \"fakie\"){\n",
        "      onto_pad = my_regular_tricks.randomElement()!\n",
        "      stance_entering_manual = exit_stance[onto_pad]!\n",
        "\n",
        "      while(onto_pad == \"ollie\"){\n",
        "      onto_pad = my_regular_tricks.randomElement()!\n",
        "      stance_entering_manual = exit_stance[onto_pad]!\n",
        "      }\n",
        "    }\n",
        "  }\n",
        "  else {\n",
        "    stance_entering_manual = \"regular\"\n",
        "    onto_pad = \"ollie\" \n",
        "  }\n",
        "\n",
        "  //now choose the manual trick\n",
        "  if (stance_entering_manual == \"regular\") {\n",
        "    manny = regular_manuals.randomElement()!\n",
        "    while (my_manny.contains(manny) == false) {\n",
        "      manny = regular_manuals.randomElement()!\n",
        "    }\n",
        "  }\n",
        "  else {\n",
        "   manny = fakie_manuals.randomElement()!\n",
        "    while(my_manny.contains(manny) == false){\n",
        "      manny = fakie_manuals.randomElement()!\n",
        "    }\n",
        "  }\n",
        "\n",
        "  //now select the trick out\n",
        "  if (trick_out == true){\n",
        "    //case one: in normal manual and need a regular trick out\n",
        "    if (manny == \"manual\"){\n",
        "      exit_trick = my_regular_tricks.randomElement()!\n",
        "      //want a real trick out so if ollie is selected, choose again\n",
        "      while (exit_trick == \"ollie\"){\n",
        "        exit_trick = my_regular_tricks.randomElement()!\n",
        "      }\n",
        "    }\n",
        "    //case two: in nose manual and need a nollie trick out\n",
        "    else if (manny == \"nose manual\"){\n",
        "      exit_trick = my_nollie_tricks.randomElement()!\n",
        "      while (exit_trick == \"nollie\"){\n",
        "        exit_trick = my_nollie_tricks.randomElement()!\n",
        "      }\n",
        "    }\n",
        "    //case three: in fakie manual and need a fakie trick out\n",
        "    else if (manny == \"fakie manual\") {\n",
        "      exit_trick = my_fakie_tricks.randomElement()!\n",
        "      while (exit_trick == \"fakie ollie\"){\n",
        "        exit_trick = my_fakie_tricks.randomElement()!\n",
        "      }\n",
        "    }\n",
        "  //case four: in switch manual and need a switch trick out\n",
        "    else {\n",
        "      exit_trick = my_switch_tricks.randomElement()!\n",
        "      while (exit_trick == \"switch ollie\"){\n",
        "        exit_trick = my_switch_tricks.randomElement()!\n",
        "      }\n",
        "    }\n",
        "    return(\"\\(onto_pad) - \\(manny) - \\(exit_trick)\")\n",
        "  }\n",
        "  else{\n",
        "    return(\"\\(onto_pad) - \\(manny)\")\n",
        "  }\n",
        "}"
      ],
      "metadata": {
        "colab": {
          "base_uri": "https://localhost:8080/"
        },
        "id": "JbsFJNcbdufW",
        "outputId": "6906d25e-398b-4805-bedf-3805d7ec6b9a"
      },
      "execution_count": 4,
      "outputs": [
        {
          "output_type": "stream",
          "name": "stdout",
          "text": [
            ""
          ]
        }
      ]
    },
    {
      "cell_type": "code",
      "source": [
        "//my_regular_tricks, my_fakie_tricks, my_nollie_tricks, my_switch_tricks, \n",
        "//,my_manny will all be existing variables that are created and\n",
        "//populated during the initial survey\n",
        "\n",
        "func manny_combo_fakie(trick_in: Bool, trick_out: Bool) -> String {\n",
        "\n",
        "  //I was having some issues with scope so I declare all the variables that will be strings\n",
        "  //as empty strings in the beginning\n",
        "  var must_land_regular: Bool = false\n",
        "  var onto_pad: String = \"\"\n",
        "  var stance_entering_manual: String = \"\"\n",
        "  var regular_manuals: [String] = [\"manual\", \"nose manual\"]\n",
        "  var fakie_manuals: [String] = [\"fakie manual\", \"switch manual\"]\n",
        "  var manny: String = \"\"\n",
        "  var exit_trick: String = \"\"\n",
        "\n",
        "  //have to have one manual trick\n",
        "  //ollie, \n",
        "\n",
        "\n",
        "  //check to see if the rider can do fakie and switch manuals. If they can't the initial trick\n",
        "  //must land in regular so they can get out\n",
        "  if (my_manny.contains(\"fakie manual\") || my_manny.contains(\"switch manual\")) {\n",
        "    must_land_regular = false\n",
        "  }\n",
        "  else {\n",
        "    must_land_regular = true\n",
        "  }\n",
        "\n",
        "  if (trick_in == true) {\n",
        "    onto_pad = my_fakie_tricks.randomElement()!\n",
        "    stance_entering_manual = exit_stance[onto_pad]!\n",
        "\n",
        "    while(onto_pad == \"fakie ollie\"){\n",
        "      onto_pad = my_fakie_tricks.randomElement()!\n",
        "      stance_entering_manual = exit_stance[onto_pad]!\n",
        "    }\n",
        "    //if they cannot do a fakie trick out they cannot land in fakie so we rechoose trick in\n",
        "    while (must_land_regular == true && stance_entering_manual == \"fakie\"){\n",
        "      onto_pad = my_fakie_tricks.randomElement()!\n",
        "      stance_entering_manual = exit_stance[onto_pad]!\n",
        "\n",
        "      while(onto_pad == \"fakie ollie\"){\n",
        "        onto_pad = my_fakie_tricks.randomElement()!\n",
        "        stance_entering_manual = exit_stance[onto_pad]!\n",
        "      }\n",
        "    }\n",
        "  }\n",
        "  else {\n",
        "    stance_entering_manual = \"fakie\"\n",
        "    onto_pad = \"fakie ollie\" \n",
        "  }\n",
        "\n",
        "  //now choose the manual trick\n",
        "  if (stance_entering_manual == \"regular\") {\n",
        "    manny = regular_manuals.randomElement()!\n",
        "    while (my_manny.contains(manny) == false) {\n",
        "      manny = regular_manuals.randomElement()!\n",
        "    }\n",
        "  }\n",
        "  else {\n",
        "    manny = fakie_manuals.randomElement()!\n",
        "    while(my_manny.contains(manny) == false){\n",
        "      manny = fakie_manuals.randomElement()!\n",
        "    }\n",
        "  }\n",
        "\n",
        "  //now select the trick out\n",
        "  if (trick_out == true){\n",
        "    //case one: in normal manual and need a regular trick out\n",
        "    if (manny == \"manual\"){\n",
        "      exit_trick = my_regular_tricks.randomElement()!\n",
        "      //want a real trick out so if ollie is selected, choose again\n",
        "      while (exit_trick == \"ollie\"){\n",
        "        exit_trick = my_regular_tricks.randomElement()!\n",
        "      }\n",
        "    }\n",
        "    //case two: in nose manual and need a nollie trick out\n",
        "    else if (manny == \"nose manual\"){\n",
        "      exit_trick = my_nollie_tricks.randomElement()!\n",
        "      while (exit_trick == \"nollie\"){\n",
        "        exit_trick = my_nollie_tricks.randomElement()!\n",
        "      }\n",
        "    }\n",
        "    //case three: in fakie manual and need a fakie trick out\n",
        "    else if (manny == \"fakie manual\") {\n",
        "      exit_trick = my_fakie_tricks.randomElement()!\n",
        "      while (exit_trick == \"fakie ollie\"){\n",
        "        exit_trick = my_fakie_tricks.randomElement()!\n",
        "      }\n",
        "    }\n",
        "  //case four: in switch manual and need a switch trick out\n",
        "    else {\n",
        "      exit_trick = my_switch_tricks.randomElement()!\n",
        "      while (exit_trick == \"switch ollie\"){\n",
        "        exit_trick = my_switch_tricks.randomElement()!\n",
        "      }\n",
        "    }\n",
        "    return(\"\\(onto_pad) - \\(manny) - \\(exit_trick)\")\n",
        "  }\n",
        "  else{\n",
        "    return(\"\\(onto_pad) - \\(manny)\")\n",
        "  }\n",
        "}"
      ],
      "metadata": {
        "colab": {
          "base_uri": "https://localhost:8080/"
        },
        "id": "yGOnlR1qvvbb",
        "outputId": "1fa034dd-8a6e-4697-9c34-6b6ff365ddd0"
      },
      "execution_count": 6,
      "outputs": [
        {
          "output_type": "stream",
          "name": "stdout",
          "text": [
            ""
          ]
        }
      ]
    },
    {
      "cell_type": "code",
      "source": [
        "//my_regular_tricks, my_fakie_tricks, my_nollie_tricks, my_switch_tricks, \n",
        "//,my_manny will all be existing variables that are created and\n",
        "//populated during the initial survey\n",
        "\n",
        "func manny_combo_nollie(trick_in: Bool, trick_out: Bool) -> String {\n",
        "\n",
        "  //I was having some issues with scope so I declare all the variables that will be strings\n",
        "  //as empty strings in the beginning\n",
        "  var must_land_regular: Bool = false\n",
        "  var onto_pad: String = \"\"\n",
        "  var stance_entering_manual: String = \"\"\n",
        "  var regular_manuals: [String] = [\"manual\", \"nose manual\"]\n",
        "  var fakie_manuals: [String] = [\"fakie manual\", \"switch manual\"]\n",
        "  var manny: String = \"\"\n",
        "  var exit_trick: String = \"\"\n",
        "\n",
        "  //have to have one manual trick\n",
        "  //ollie, \n",
        "\n",
        "\n",
        "  //check to see if the rider can do fakie and switch manuals. If they can't the initial trick\n",
        "  //must land in regular so they can get out\n",
        "  if (my_manny.contains(\"fakie manual\") || my_manny.contains(\"switch manual\")) {\n",
        "    must_land_regular = false\n",
        "  }\n",
        "  else {\n",
        "    must_land_regular = true\n",
        "  }\n",
        "\n",
        "  if (trick_in == true) {\n",
        "    onto_pad = my_nollie_tricks.randomElement()!\n",
        "    stance_entering_manual = exit_stance[onto_pad]!\n",
        "\n",
        "    while(onto_pad == \"nollie\"){\n",
        "      onto_pad = my_nollie_tricks.randomElement()!\n",
        "      stance_entering_manual = exit_stance[onto_pad]!\n",
        "    }\n",
        "    //if they cannot do a fakie trick out they cannot land in fakie so we rechoose trick in\n",
        "    while (must_land_regular == true && stance_entering_manual == \"fakie\"){\n",
        "      onto_pad = my_nollie_tricks.randomElement()!\n",
        "      stance_entering_manual = exit_stance[onto_pad]!\n",
        "\n",
        "      while(onto_pad == \"nollie\"){\n",
        "        onto_pad = my_nollie_tricks.randomElement()!\n",
        "        stance_entering_manual = exit_stance[onto_pad]!\n",
        "      }\n",
        "    }\n",
        "  }\n",
        "  else {\n",
        "    stance_entering_manual = \"regular\"\n",
        "    onto_pad = \"nollie\" \n",
        "  }\n",
        "\n",
        "  //now choose the manual trick\n",
        "  if (stance_entering_manual == \"regular\") {\n",
        "    manny = regular_manuals.randomElement()!\n",
        "    while (my_manny.contains(manny) == false) {\n",
        "      manny = regular_manuals.randomElement()!\n",
        "    }\n",
        "  }\n",
        "  else {\n",
        "    manny = fakie_manuals.randomElement()!\n",
        "    while(my_manny.contains(manny) == false){\n",
        "      manny = fakie_manuals.randomElement()!\n",
        "    }\n",
        "  }\n",
        "\n",
        "  //now select the trick out\n",
        "  if (trick_out == true){\n",
        "    //case one: in normal manual and need a regular trick out\n",
        "    if (manny == \"manual\"){\n",
        "      exit_trick = my_regular_tricks.randomElement()!\n",
        "      //want a real trick out so if ollie is selected, choose again\n",
        "      while (exit_trick == \"ollie\"){\n",
        "        exit_trick = my_regular_tricks.randomElement()!\n",
        "      }\n",
        "    }\n",
        "    //case two: in nose manual and need a nollie trick out\n",
        "    else if (manny == \"nose manual\"){\n",
        "      exit_trick = my_nollie_tricks.randomElement()!\n",
        "      while (exit_trick == \"nollie\"){\n",
        "        exit_trick = my_nollie_tricks.randomElement()!\n",
        "      }\n",
        "    }\n",
        "    //case three: in fakie manual and need a fakie trick out\n",
        "    else if (manny == \"fakie manual\") {\n",
        "      exit_trick = my_fakie_tricks.randomElement()!\n",
        "      while (exit_trick == \"fakie ollie\"){\n",
        "        exit_trick = my_fakie_tricks.randomElement()!\n",
        "      }\n",
        "    }\n",
        "  //case four: in switch manual and need a switch trick out\n",
        "    else {\n",
        "      exit_trick = my_switch_tricks.randomElement()!\n",
        "      while (exit_trick == \"switch ollie\"){\n",
        "        exit_trick = my_switch_tricks.randomElement()!\n",
        "      }\n",
        "    }\n",
        "    return(\"\\(onto_pad) - \\(manny) - \\(exit_trick)\")\n",
        "  }\n",
        "  else{\n",
        "    return(\"\\(onto_pad) - \\(manny)\")\n",
        "  }\n",
        "}"
      ],
      "metadata": {
        "colab": {
          "base_uri": "https://localhost:8080/"
        },
        "id": "DzCSWuLXwxKa",
        "outputId": "59313377-7258-4705-d284-3cdee005cfff"
      },
      "execution_count": 7,
      "outputs": [
        {
          "output_type": "stream",
          "name": "stdout",
          "text": [
            ""
          ]
        }
      ]
    },
    {
      "cell_type": "code",
      "source": [
        "//my_regular_tricks, my_fakie_tricks, my_nollie_tricks, my_switch_tricks, \n",
        "//,my_manny will all be existing variables that are created and\n",
        "//populated during the initial survey\n",
        "\n",
        "func manny_combo_switch(trick_in: Bool, trick_out: Bool) -> String {\n",
        "\n",
        "  //I was having some issues with scope so I declare all the variables that will be strings\n",
        "  //as empty strings in the beginning\n",
        "  var must_land_regular: Bool = false\n",
        "  var onto_pad: String = \"\"\n",
        "  var stance_entering_manual: String = \"\"\n",
        "  var regular_manuals: [String] = [\"manual\", \"nose manual\"]\n",
        "  var fakie_manuals: [String] = [\"fakie manual\", \"switch manual\"]\n",
        "  var manny: String = \"\"\n",
        "  var exit_trick: String = \"\"\n",
        "\n",
        "  //have to have one manual trick\n",
        "  //ollie, \n",
        "\n",
        "\n",
        "  //check to see if the rider can do fakie and switch manuals. If they can't the initial trick\n",
        "  //must land in regular so they can get out\n",
        "  if (my_manny.contains(\"fakie manual\") || my_manny.contains(\"switch manual\")) {\n",
        "    must_land_regular = false\n",
        "  }\n",
        "  else {\n",
        "    must_land_regular = true\n",
        "  }\n",
        "\n",
        "  if (trick_in == true) {\n",
        "    onto_pad = my_switch_tricks.randomElement()!\n",
        "    stance_entering_manual = exit_stance[onto_pad]!\n",
        "\n",
        "    while(onto_pad == \"switch ollie\"){\n",
        "      onto_pad = my_switch_tricks.randomElement()!\n",
        "      stance_entering_manual = exit_stance[onto_pad]!\n",
        "    }\n",
        "    //if they cannot do a fakie trick out they cannot land in fakie so we rechoose trick in\n",
        "    while (must_land_regular == true && stance_entering_manual == \"fakie\"){\n",
        "      onto_pad = my_switch_tricks.randomElement()!\n",
        "      stance_entering_manual = exit_stance[onto_pad]!\n",
        "\n",
        "      while(onto_pad == \"switch ollie\"){\n",
        "        onto_pad = my_switch_tricks.randomElement()!\n",
        "        stance_entering_manual = exit_stance[onto_pad]!\n",
        "      }\n",
        "    }\n",
        "  }\n",
        "  else {\n",
        "    stance_entering_manual = \"fakie\"\n",
        "    onto_pad = \"switch ollie\" \n",
        "  }\n",
        "\n",
        "  //now choose the manual trick\n",
        "  if (stance_entering_manual == \"regular\") {\n",
        "    manny = regular_manuals.randomElement()!\n",
        "    while (my_manny.contains(manny) == false) {\n",
        "      manny = regular_manuals.randomElement()!\n",
        "    }\n",
        "  }\n",
        "  else {\n",
        "    manny = fakie_manuals.randomElement()!\n",
        "    while(my_manny.contains(manny) == false){\n",
        "      manny = fakie_manuals.randomElement()!\n",
        "    }\n",
        "  }\n",
        "\n",
        "  //now select the trick out\n",
        "  if (trick_out == true){\n",
        "    //case one: in normal manual and need a regular trick out\n",
        "    if (manny == \"manual\"){\n",
        "      exit_trick = my_regular_tricks.randomElement()!\n",
        "      //want a real trick out so if ollie is selected, choose again\n",
        "      while (exit_trick == \"ollie\"){\n",
        "        exit_trick = my_regular_tricks.randomElement()!\n",
        "      }\n",
        "    }\n",
        "    //case two: in nose manual and need a nollie trick out\n",
        "    else if (manny == \"nose manual\"){\n",
        "      exit_trick = my_nollie_tricks.randomElement()!\n",
        "      while (exit_trick == \"nollie\"){\n",
        "        exit_trick = my_nollie_tricks.randomElement()!\n",
        "      }\n",
        "    }\n",
        "    //case three: in fakie manual and need a fakie trick out\n",
        "    else if (manny == \"fakie manual\") {\n",
        "      exit_trick = my_fakie_tricks.randomElement()!\n",
        "      while (exit_trick == \"fakie ollie\"){\n",
        "        exit_trick = my_fakie_tricks.randomElement()!\n",
        "      }\n",
        "    }\n",
        "  //case four: in switch manual and need a switch trick out\n",
        "    else {\n",
        "      exit_trick = my_switch_tricks.randomElement()!\n",
        "      while (exit_trick == \"switch ollie\"){\n",
        "        exit_trick = my_switch_tricks.randomElement()!\n",
        "      }\n",
        "    }\n",
        "    return(\"\\(onto_pad) - \\(manny) - \\(exit_trick)\")\n",
        "  }\n",
        "  else{\n",
        "    return(\"\\(onto_pad) - \\(manny)\")\n",
        "  }\n",
        "}"
      ],
      "metadata": {
        "colab": {
          "base_uri": "https://localhost:8080/"
        },
        "id": "uooe82iywuoT",
        "outputId": "cf47f09b-4bbd-42ac-9619-3722abb09b3f"
      },
      "execution_count": 8,
      "outputs": [
        {
          "output_type": "stream",
          "name": "stdout",
          "text": [
            ""
          ]
        }
      ]
    },
    {
      "cell_type": "code",
      "source": [
        "func manny_combo(trick_enter: Bool, trick_exit: Bool) -> String {\n",
        "  var stances: [String] = [\"regular\", \"fakie\", \"nollie\", \"switch\"]\n",
        "  var enter_stance: String = \"\"\n",
        "\n",
        "  //choose a random stance and then run the appropriate function given the random\n",
        "  //entry stance selected\n",
        "  enter_stance = stances.randomElement()!\n",
        "  if (enter_stance == \"regular\"){\n",
        "    return manny_combo_regular(trick_in: trick_enter, trick_out: trick_exit)\n",
        "  }\n",
        "\n",
        "  else if (enter_stance == \"fakie\"){\n",
        "    return manny_combo_fakie(trick_in: trick_enter, trick_out: trick_exit)\n",
        "  }\n",
        "\n",
        "  else if (enter_stance == \"nollie\"){\n",
        "    return manny_combo_nollie(trick_in: trick_enter, trick_out: trick_exit)\n",
        "  }\n",
        "\n",
        "  //case 4: enter_stance is switch\n",
        "  else{\n",
        "    return manny_combo_switch(trick_in: trick_enter, trick_out: trick_exit)\n",
        "  }\n",
        "}"
      ],
      "metadata": {
        "colab": {
          "base_uri": "https://localhost:8080/"
        },
        "id": "OpE3Du5MymND",
        "outputId": "943e4c94-adfa-47fa-c61d-1350797c4955"
      },
      "execution_count": 11,
      "outputs": [
        {
          "output_type": "stream",
          "name": "stdout",
          "text": [
            ""
          ]
        }
      ]
    },
    {
      "cell_type": "code",
      "source": [
        "for i in 1...15{\n",
        "  print(i)\n",
        "  print(manny_combo(trick_enter: false, trick_exit: true))\n",
        "  print(manny_combo(trick_enter: true, trick_exit: false))\n",
        "  print(manny_combo(trick_enter: true, trick_exit: true))\n",
        "}\n",
        "  "
      ],
      "metadata": {
        "colab": {
          "base_uri": "https://localhost:8080/"
        },
        "id": "lLIE9AIvFbjd",
        "outputId": "7a86ff04-0158-470e-80b4-6afd6e3f8fef"
      },
      "execution_count": 25,
      "outputs": [
        {
          "output_type": "stream",
          "name": "stdout",
          "text": [
            "1\r\n",
            "ollie - nose manual - nollie shuv\r\n",
            "nollie back bigspin - switch manual\r\n",
            "switch pop shuv - switch manual - switch front 180\r\n",
            "2\r\n",
            "nollie - manual - front shuv\r\n",
            "back bigspin - fakie manual\r\n",
            "back bigspin - switch manual - switch front 180\r\n",
            "3\r\n",
            "switch ollie - fakie manual - fakie bigspin\r\n",
            "front 180 - switch manual\r\n",
            "front shuv - nose manual - nollie back 180\r\n",
            "4\r\n",
            "switch ollie - switch manual - switch front 180\r\n",
            "switch front 180 - nose manual\r\n",
            "half cab flip - nose manual - nollie front bigspin\r\n",
            "5\r\n",
            "ollie - nose manual - nollie front shuv\r\n",
            "switch pop shuv - fakie manual\r\n",
            "heelflip - nose manual - nollie back 180\r\n",
            "6\r\n",
            "ollie - manual - back 180\r\n",
            "front shuv - manual\r\n",
            "fakie treflip - fakie manual - fakie front shuv\r\n",
            "7\r\n",
            "switch ollie - switch manual - switch front 180\r\n",
            "nollie front shuv - manual\r\n",
            "half cab heel - nose manual - nollie back 180\r\n",
            "8\r\n",
            "switch ollie - fakie manual - fakie bigspin\r\n",
            "fakie flip - switch manual\r\n",
            "switch pop shuv - fakie manual - fakie treflip\r\n",
            "9\r\n",
            "fakie ollie - switch manual - switch front 180\r\n",
            "kickflip - nose manual\r\n",
            "fakie front 180 - nose manual - nollie back bigspin\r\n",
            "10\r\n",
            "fakie ollie - switch manual - switch pop shuv\r\n",
            "fakie front shuv - fakie manual\r\n",
            "full cab - fakie manual - fakie heel\r\n",
            "11\r\n",
            "switch ollie - fakie manual - half cab flip\r\n",
            "front 180 - switch manual\r\n",
            "half cab heel - manual - back bigspin\r\n",
            "12\r\n",
            "ollie - nose manual - nollie shuv\r\n",
            "switch pop shuv - fakie manual\r\n",
            "fakie front heel - manual - back bigspin\r\n",
            "13\r\n",
            "fakie ollie - fakie manual - half cab heel\r\n",
            "fakie front heel - nose manual\r\n",
            "half cab heel - manual - back 180\r\n",
            "14\r\n",
            "nollie - manual - front 180\r\n",
            "switch pop shuv - fakie manual\r\n",
            "nollie back 180 - fakie manual - half cab heel\r\n",
            "15\r\n",
            "nollie - manual - front 180\r\n",
            "front 180 - switch manual\r\n",
            "nollie shuv - manual - front 180\r\n"
          ]
        }
      ]
    },
    {
      "metadata": {
        "id": "kZRlD4utdPuX",
        "colab": {
          "base_uri": "https://localhost:8080/"
        },
        "outputId": "dce43968-0343-4e3b-8146-c5847e9fc182"
      },
      "cell_type": "code",
      "source": [
        "func display_manny() {\n",
        "  print(\"Combos Trick In: \\n\")\n",
        "  print(manny_combo_regular(trick_in: true, trick_out: false))\n",
        "  print(manny_combo_fakie(trick_in: true, trick_out: false))\n",
        "  print(manny_combo_nollie(trick_in: true, trick_out: false))\n",
        "  print(manny_combo_switch(trick_in: true, trick_out: false))\n",
        "  print(\"\\n\")\n",
        "\n",
        "\n",
        "  print(\"Combos Trick Out: \\n\")\n",
        "  print(manny_combo_regular(trick_in: false, trick_out: true))\n",
        "  print(manny_combo_fakie(trick_in: false, trick_out: true))\n",
        "  print(manny_combo_nollie(trick_in: false, trick_out: true))\n",
        "  print(manny_combo_switch(trick_in: false, trick_out: true))\n",
        "  print(\"\\n\")\n",
        "\n",
        "  print(\"Double Combos: \\n\")\n",
        "  print(manny_combo_regular(trick_in: true, trick_out: true))\n",
        "  print(manny_combo_fakie(trick_in: true, trick_out: true))\n",
        "  print(manny_combo_nollie(trick_in: true, trick_out: true))\n",
        "  print(manny_combo_switch(trick_in: true, trick_out: true))\n",
        "}"
      ],
      "execution_count": 50,
      "outputs": [
        {
          "output_type": "stream",
          "name": "stdout",
          "text": [
            ""
          ]
        }
      ]
    },
    {
      "cell_type": "code",
      "source": [
        "display_manny()"
      ],
      "metadata": {
        "colab": {
          "base_uri": "https://localhost:8080/"
        },
        "id": "QlyUuTys60O7",
        "outputId": "72cc2c13-59f9-4327-d3fe-6510cceb8560"
      },
      "execution_count": 54,
      "outputs": [
        {
          "output_type": "stream",
          "name": "stdout",
          "text": [
            "Combos Trick In: \r\n",
            "\r\n",
            "front 180 - switch manual\r\n",
            "fakie front bigspin - manual\r\n",
            "nollie back 180 - fakie manual\r\n",
            "switch pop shuv - switch manual\r\n",
            "\r\n",
            "\r\n",
            "Combos Trick Out: \r\n",
            "\r\n",
            "ollie - nose manual - nollie front bigspin\r\n",
            "fakie ollie - switch manual - switch front 180\r\n",
            "nollie - nose manual - nollie back bigspin\r\n",
            "switch ollie - fakie manual - full cab\r\n",
            "\r\n",
            "\r\n",
            "Double Combos: \r\n",
            "\r\n",
            "back 180 - fakie manual - fakie bigspin\r\n",
            "fakie three shuv - switch manual - switch front 180\r\n",
            "nollie front shuv - nose manual - nollie back bigspin\r\n",
            "switch front 180 - manual - back 180\r\n"
          ]
        }
      ]
    }
  ]
}