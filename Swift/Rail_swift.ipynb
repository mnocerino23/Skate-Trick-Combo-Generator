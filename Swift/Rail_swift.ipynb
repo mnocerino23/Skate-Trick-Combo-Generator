{
  "nbformat": 4,
  "nbformat_minor": 0,
  "metadata": {
    "colab": {
      "provenance": [],
      "collapsed_sections": []
    },
    "kernelspec": {
      "name": "swift",
      "display_name": "Swift"
    }
  },
  "cells": [
    {
      "cell_type": "markdown",
      "source": [
        "# Writing the Rail combo function from scratch in Swift. It should be logically very similar to the ledge function with the addition of a few possible rail tricks (e.g. feeble and overcrook)"
      ],
      "metadata": {
        "id": "0_yBTluJ9Z6H"
      }
    },
    {
      "cell_type": "code",
      "source": [
        "!curl \"https://raw.githubusercontent.com/philipturner/swift-colab/release/latest/install_swift.sh\" --output \"install_swift.sh\"\n",
        "!bash \"install_swift.sh\" \"5.6.2\""
      ],
      "metadata": {
        "colab": {
          "base_uri": "https://localhost:8080/",
          "height": 517
        },
        "id": "Qb4MeaY_c7DT",
        "outputId": "bb35217d-1c82-45bb-ae2c-735eaa198f83"
      },
      "execution_count": 32,
      "outputs": [
        {
          "output_type": "stream",
          "name": "stdout",
          "text": [
            "\u001b[0;31mCompile error: \u001b[0mexpression failed to parse:\n",
            "\u001b[0;1m<Cell 32>:1:6: \u001b[0m\u001b[0;1;31merror: \u001b[0m\u001b[0;1mconsecutive statements on a line must be separated by ';'\u001b[0m\n",
            "!curl \"https://raw.githubusercontent.com/philipturner/swift-colab/release/latest/install_swift.sh\" --output \"install_swift.sh\"\n",
            "\u001b[0;1;32m     ^\u001b[0m\n",
            "     ;\n",
            "\n",
            "\u001b[0;1m<Cell 32>:1:99: \u001b[0m\u001b[0;1;31merror: \u001b[0m\u001b[0;1mconsecutive statements on a line must be separated by ';'\u001b[0m\n",
            "!curl \"https://raw.githubusercontent.com/philipturner/swift-colab/release/latest/install_swift.sh\" --output \"install_swift.sh\"\n",
            "\u001b[0;1;32m                                                                                                  ^\u001b[0m\n",
            "                                                                                                  ;\n",
            "\n",
            "\u001b[0;1m<Cell 32>:1:108: \u001b[0m\u001b[0;1;31merror: \u001b[0m\u001b[0;1mconsecutive statements on a line must be separated by ';'\u001b[0m\n",
            "!curl \"https://raw.githubusercontent.com/philipturner/swift-colab/release/latest/install_swift.sh\" --output \"install_swift.sh\"\n",
            "\u001b[0;1;32m                                                                                                           ^\u001b[0m\n",
            "                                                                                                           ;\n",
            "\n",
            "\u001b[0;1m<Cell 32>:2:6: \u001b[0m\u001b[0;1;31merror: \u001b[0m\u001b[0;1mconsecutive statements on a line must be separated by ';'\u001b[0m\n",
            "!bash \"install_swift.sh\" \"5.6.2\"\n",
            "\u001b[0;1;32m     ^\u001b[0m\n",
            "     ;\n",
            "\n",
            "\u001b[0;1m<Cell 32>:2:25: \u001b[0m\u001b[0;1;31merror: \u001b[0m\u001b[0;1mconsecutive statements on a line must be separated by ';'\u001b[0m\n",
            "!bash \"install_swift.sh\" \"5.6.2\"\n",
            "\u001b[0;1;32m                        ^\u001b[0m\n",
            "                        ;\n"
          ]
        },
        {
          "output_type": "error",
          "ename": "",
          "evalue": "ignored",
          "traceback": []
        }
      ]
    },
    {
      "cell_type": "code",
      "source": [
        "//imagine the user has already filled out the survey\n",
        "//I will provide a sample inventory of tricks so that we can run the function\n",
        "\n",
        "var my_regular_tricks: [String] = [\"ollie\", \"pop shuv\", \"front 180\", \"back 180\", \"front shuv\", \"kickflip\", \"heelflip\", \"backside flip\", \"back bigspin\"]\n",
        "\n",
        "var my_fakie_tricks: [String] = [\"fakie ollie\", \"fakie pop shuv\", \"fakie front shuv\", \"half cab\", \"fakie front 180\", \"full cab\", \"fakie front 360\",\n",
        "                                \"fakie flip\", \"fakie heel\", \"fakie bigspin\", \"fakie front bigspin\", \"half cab flip\", \"half cab heel\", \"fakie front heel\",\n",
        "                                \"fakie three shuv\", \"fakie treflip\"]\n",
        "\n",
        "var my_nollie_tricks: [String] = [\"nollie\", \"nollie shuv\", \"nollie front shuv\", \"nollie back 180\", \"nollie front bigspin\", \"nollie back bigspin\"]\n",
        "\n",
        "\n",
        "var my_switch_tricks: [String] = [\"switch ollie\", \"switch front 180\", \"switch pop shuv\"]\n",
        "\n",
        "var my_rail: [String] = [\"front 50-50\", \"front 5-0\", \"back 50-50\", \"back 5-0\", \"front nosegrind\", \"front tail\", \"front lip\", \"front feeble\", \"back feeble\", \"front boardslide\", \"back boardslide\", \"back overcrook\"]"
      ],
      "metadata": {
        "colab": {
          "base_uri": "https://localhost:8080/"
        },
        "id": "kggb26uRfMEB",
        "outputId": "41780abf-1217-4f94-8101-40915819d188"
      },
      "execution_count": 33,
      "outputs": [
        {
          "output_type": "stream",
          "name": "stdout",
          "text": [
            ""
          ]
        }
      ]
    },
    {
      "cell_type": "code",
      "source": [
        "//create a dictionary mapping each trick to its exit stance\n",
        "var exit_stance = [\"ollie\": \"regular\", \"pop shuv\": \"regular\", \"front 180\": \"fakie\", \"back 180\": \"fakie\", \"front shuv\":\"regular\", \"kickflip\":\"regular\", \"heelflip\":\"regular\", \n",
        "                  \"ollie north\": \"regular\", \"no comply 180\": \"fakie\",\n",
        "                  \"varial flip\":\"regular\", \"varial heel\":\"regular\", \"frontside flip\":\"fakie\",\"backside flip\":\"fakie\", \"front heel\":\"fakie\", \"back heel\":\"fakie\",\n",
        "                \"back bigspin\": \"fakie\", \n",
        "                  \"front bigspin\":\"fakie\", \n",
        "                  \"hardflip\":\"regular\", \"inward heel\":\"regular\", \"front 360\":\"regular\", \"back 360\":\"regular\", \"bigflip\":\"fakie\", \"bigspin heelflip\":\"fakie\",\n",
        "                  \"treflip\": \"regular\", \"360 shuv it\": \"regular\", \"impossible\":\"regular\", \"lazer flip\": \"regular\", \"fakie ollie\":\"fakie\", \"fakie pop shuv\":\"fakie\", \n",
        "               \"fakie front shuv\": \"fakie\", \n",
        "                  \"half cab\": \"regular\", \"fakie front 180\": \"regular\", \"full cab\":\"fakie\", \"fakie front 360\":\"fakie\", \"fakie flip\":\"fakie\", \"fakie heel\":\"fakie\",\n",
        "                \"fakie bigspin\":\"regular\", \"fakie front bigspin\":\"regular\", \"half cab flip\":\"regular\", \"half cab heel\":\"regular\", \"fakie front heel\":\"regular\",\n",
        "                 \"fakie frontside flip\":\"regular\", \"fakie three shuv\": \"fakie\",\n",
        "                \"fakie treflip\": \"fakie\", \"full cab flip\": \"fakie\"\n",
        "                , \"fakie bigflip\":\"regular\", \"fakie big heel\":\"regular\", \"fakie hardflip\":\"fakie\", \"fakie inward heel\":\"fakie\", \"fakie lazer\":\"fakie\", \n",
        "               \"fakie varial flip\": \"fakie\", \"fakie varial heel\": \"fakie\",\n",
        "               \"nollie\":\"regular\", \"nollie shuv\":\"regular\", \"nollie front 180\":\"fakie\", \"nollie back 180\":\"fakie\", \"nollie front shuv\":\"regular\", \"nollie flip\":\"regular\", \n",
        "                 \"nollie heel\":\"regular\", \"nollie varial flip\":\"regular\", \"nollie varial heel\":\"regular\", \"nollie frontside flip\":\"fakie\",\"nollie backside flip\": \"regular\" , \n",
        "               \"nollie front heel\": \"fakie\", \n",
        "                 \"nollie back heel\": \"fakie\", \n",
        "                 \"nollie front 360 flip\": \"regular\",\n",
        "                 \"nollie back bigspin\": \"fakie\",\" nollie front bigspin\":\"fakie\", \n",
        "                  \"nollie hardflip\": \"regular\", \"nollie inward heel\":\"regular\", \"nollie front 360\":\"regular\", \"nollie back 360\":\"regular\", \"nollie bigflip\":\"fakie\", \n",
        "                  \"nollie treflip\": \"regular\", \"nollie 360 shuv it\": \"regular\", \"nollie big heel\":\"fakie\",  \"nollie lazer\": \"regular\", \n",
        "                  \"manual\":\"regular\", \"nose manual\": \"regular\", \"fakie manual\": \"fakie\", \"switch ollie\":\"fakie\", \"switch pop shuv\":\"fakie\", \n",
        "                  \"switch front 180\":\"regular\", \"switch back 180\":\"regular\", \"switch front shuv\":\"fakie\", \"switch kickflip\":\"fakie\", \"switch heel\":\"fakie\", \n",
        "                  \"switch varial flip\": \"fakie\" , \"switch varial heel\": \"fakie\", \"switch frontside flip\": \"regular\",\"switch backside flip\":\"regular\",\n",
        "                 \"switch front heel\": \"regular\", \"switch back heel\": \"regular\",\n",
        "                  \"switch back bigspin\": \"regular\", \"switch front bigspin\":\"regular\", \n",
        "                  \"switch hardflip\":\"regular\", \"switch inward heel\":\"fakie\", \"switch front 360\":\"fakie\", \"switch back 360\":\"fakie\", \n",
        "                  \"switch bigflip\":\"regular\", \"switch bigspin heelflip\": \"regular\"\n",
        "                 , \"switch treflip\":\"fakie\", \"switch 360 shuv it\":\"fakie\", \"switch impossible\": \"fakie\", \"switch lazer\":\"fakie\"\n",
        "]"
      ],
      "metadata": {
        "colab": {
          "base_uri": "https://localhost:8080/"
        },
        "id": "Q751tUGfcUx1",
        "outputId": "0060e58c-e1af-4e3b-a77d-63e16e8dd671"
      },
      "execution_count": 34,
      "outputs": [
        {
          "output_type": "stream",
          "name": "stdout",
          "text": [
            ""
          ]
        }
      ]
    },
    {
      "cell_type": "code",
      "source": [
        "//this function gets the common elements of two string arrays and returns an array of the intersection\n",
        "func get_intersection(list1: Array<String>, list2: Array<String>) -> Array<String> {\n",
        "  let set1:Set<String> = Set(list1)\n",
        "  let set2:Set<String> = Set(list2)\n",
        "  //use the built in swift function that finds the intersect of two sets\n",
        "  var intersect = set1.intersection(set2)\n",
        "  //convert intersect to an array and return the array\n",
        "  var array = [String](intersect)\n",
        "  return array\n",
        "}"
      ],
      "metadata": {
        "colab": {
          "base_uri": "https://localhost:8080/"
        },
        "id": "at8yOwv26Uby",
        "outputId": "fdcd6275-d10c-4ad3-d35d-f38383fd7398"
      },
      "execution_count": 35,
      "outputs": [
        {
          "output_type": "stream",
          "name": "stdout",
          "text": [
            ""
          ]
        }
      ]
    },
    {
      "cell_type": "code",
      "source": [
        "var rail = [\"back boardslide\", \"front boardslide\", \"front 50-50\", \"back 50-50\", \"front lip\",\n",
        "            \"back lip\", \"back noseslide\", \"front noseslide\", \"front 5-0\", \"back 5-0\", \"back feeble\", \n",
        "            \"front feeble\", \"front smith\", \"back smith\", \"front nosegrind\", \"back nosegrind\", \n",
        "            \"front suski\", \"back suski\",\"front salad\", \"back salad\", \"front blunt\", \"back blunt\", \n",
        "            \"back crook\", \"front crook\", \"front overcrook\", \"back overcrook\", \"front tail\", \"back tail\"]\n",
        "\n",
        "var can_180_into = [\"front 50-50\", \"front 5-0\", \"back 50-50\", \"back 5-0\", \"front nosegrind\", \"back nosegrind\", \"front crook\", \"back crook\", \"front smith\", \"back smith\", \"front salad\",\n",
        "                    \"back salad\", \"front suski\", \"back suski\", \"front feeble\", \"back feeble\"]\n",
        "var exit_either = [\"front 50-50\", \"back 50-50\", \"back boardslide\", \"front boardslide\", \"front lip\", \"back lip\"]\n",
        "var exit_nollie = [\"front nosegrind\", \"back nosegrind\", \"back noseslide\", \"front noselide\", \"front crook\", \"back crook\", \"back noseblunt\", \"front noseblunt\", \"back overcrook\", \"front overcrook\"]\n",
        "var exit_regular = [\"front tail\", \"back tail\", \"front 5-0\", \"back 5-0\", \"back suski\", \"front suski\",\"front smith\", \"back smith\", \"front blunt\", \"back blunt\", \"front lip\", \"back lip\",\n",
        "                    \"front salad\", \"back salad\", \"front feeble\", \"back feeble\"]"
      ],
      "metadata": {
        "id": "LM6jYid36KLJ",
        "colab": {
          "base_uri": "https://localhost:8080/"
        },
        "outputId": "600e922e-9275-4fc8-80a5-8496a3e80043"
      },
      "execution_count": 36,
      "outputs": [
        {
          "output_type": "stream",
          "name": "stdout",
          "text": [
            ""
          ]
        }
      ]
    },
    {
      "cell_type": "code",
      "source": [
        "import Foundation \n",
        "\n",
        "func rail_combo(trick_in: Bool, trick_out: Bool) -> String {\n",
        "\n",
        "  var must_land_regular: Bool = false\n",
        "  var onto_rail:String = \"\"\n",
        "  var stance_entering_rail: String = \"\"\n",
        "  var grind_name: String = \"\"\n",
        "  var rail_trick: String = \"\"\n",
        "  var stance_out:[String]\n",
        "  var exit_trick: String = \"\"\n",
        "\n",
        "  //check to see if the rider has any fakie or switch tricks. If they don't, the trick onto the rail must land in regular stance so\n",
        "  //they can get off the rail\n",
        "  if(my_fakie_tricks.count == 0 && my_switch_tricks.count == 0) {\n",
        "     must_land_regular = true\n",
        "  }\n",
        "  else{\n",
        "     must_land_regular = false\n",
        "  }\n",
        "\n",
        "  if (trick_in == true) {\n",
        "    onto_rail = my_regular_tricks.randomElement()!\n",
        "    stance_entering_rail = exit_stance[onto_rail]!\n",
        "    while(onto_rail == \"ollie\"){\n",
        "      onto_rail = my_regular_tricks.randomElement()!\n",
        "      stance_entering_rail = exit_stance[onto_rail]!\n",
        "    }\n",
        "    while (must_land_regular ==  true && stance_entering_rail == \"fakie\"){\n",
        "      //if they can't do fakie/switch manuals and are landing in that stance we must rechoose the trick in at random\n",
        "      onto_rail = my_regular_tricks.randomElement()!\n",
        "      stance_entering_rail = exit_stance[onto_rail]!\n",
        "      while(onto_rail == \"ollie\"){\n",
        "      onto_rail = my_regular_tricks.randomElement()!\n",
        "      stance_entering_rail = exit_stance[onto_rail]!\n",
        "    }\n",
        "    }\n",
        "    \n",
        "  }\n",
        "  else{\n",
        "    stance_entering_rail = \"regular\"\n",
        "    onto_rail = \"ollie\"\n",
        "  }\n",
        "    \n",
        "\n",
        "  //choose the rail trick\n",
        "  if (stance_entering_rail == \"regular\"){\n",
        "    rail_trick = my_rail.randomElement()!\n",
        "  }\n",
        "\n",
        "  else{\n",
        "    //must choose a rail trick that can be 180'd into\n",
        "    //find the intersect between my_rail and the tricks that can be 180'd into and choose a random one of these\n",
        "\n",
        "    let grind_choices = get_intersection(list1: my_rail, list2: can_180_into)\n",
        "    var selected = grind_choices.randomElement()!\n",
        "    //split the string\n",
        "    grind_name = selected.components(separatedBy: \" \")[1]\n",
        "    rail_trick = \"fakie \" +  selected\n",
        "  }\n",
        "  \n",
        "\n",
        "  //choose the trick out\n",
        "  if (trick_out == true){\n",
        "    //case 1: enter rail in regular and grinding/sliding on both trucks\n",
        "    if (stance_entering_rail == \"regular\" && exit_either.contains(rail_trick)){\n",
        "      //if they have nollie tricks, choose a random stance between nollie and regular and choose a random trick in the chosen stance\n",
        "      if (my_nollie_tricks.count > 0) {\n",
        "        let array = [my_regular_tricks, my_nollie_tricks]\n",
        "        stance_out = array.randomElement()!\n",
        "      }\n",
        "        \n",
        "      //else choose regular stance for  trick out\n",
        "      else{\n",
        "        stance_out = my_regular_tricks\n",
        "      }\n",
        "\n",
        "      exit_trick = stance_out.randomElement()!\n",
        "      while (exit_trick == \"ollie\"){\n",
        "        exit_trick = my_regular_tricks.randomElement()!\n",
        "      }\n",
        "    }\n",
        "\n",
        "    //case 2: enter rail in regular and grinding/sliding on the nose\n",
        "    else if (stance_entering_rail == \"regular\" && exit_nollie.contains(rail_trick)){\n",
        "      exit_trick = my_nollie_tricks.randomElement()!\n",
        "      while (exit_trick == \"nollie\"){\n",
        "        exit_trick = my_nollie_tricks.randomElement()!\n",
        "      }\n",
        "    }\n",
        "      \n",
        "    //case 3: enter rail in regular and grinding/sliding on the tail\n",
        "    else if (stance_entering_rail == \"regular\" && exit_regular.contains(rail_trick)) {\n",
        "      exit_trick = my_regular_tricks.randomElement()!\n",
        "      while (exit_trick == \"ollie\") {\n",
        "        exit_trick = my_regular_tricks.randomElement()!\n",
        "      }\n",
        "    }\n",
        "     \n",
        "\n",
        "    //case 4: enter rail in fakie and grinding on both trucks\n",
        "    else if (stance_entering_rail == \"fakie\" && exit_either.contains(rail_trick)){\n",
        "    //see if they have any switch tricks that could be chosen to get off the rail\n",
        "      if (my_switch_tricks.count > 0) {\n",
        "        let stances = [my_fakie_tricks, my_switch_tricks]\n",
        "        stance_out = stances.randomElement()!\n",
        "      }\n",
        "      //else choose fakie trick out\n",
        "      else{\n",
        "        stance_out = my_fakie_tricks\n",
        "      }\n",
        "      //choose random trick\n",
        "      exit_trick = stance_out.randomElement()!\n",
        "      while(exit_trick == \"fakie ollie\" || exit_trick == \"switch ollie\"){\n",
        "          exit_trick = stance_out.randomElement()!\n",
        "      }\n",
        "    }\n",
        "\n",
        "    //case 5: enter rail in fakie and grinding/sliding on the nose (e.g. back 180 nosegrind)\n",
        "    else if (stance_entering_rail == \"fakie\" && exit_nollie.contains(rail_trick)){\n",
        "      exit_trick = my_switch_tricks.randomElement()!\n",
        "      while (exit_trick == \"switch ollie\") {\n",
        "        exit_trick = my_switch_tricks.randomElement()!\n",
        "      }\n",
        "    }\n",
        "\n",
        "    //case 6: enter rail in fakie and grinding/sliding on the tail (e.g. back 180, fakie 5-0)\n",
        "    else {\n",
        "      exit_trick = my_fakie_tricks.randomElement()!\n",
        "      while (exit_trick == \"fakie ollie\") {\n",
        "        exit_trick = my_fakie_tricks.randomElement()!\n",
        "      }\n",
        "    }\n",
        "\n",
        "    return(\"\\(onto_rail) - \\(rail_trick) - \\(exit_trick)\")\n",
        "  }\n",
        "    \n",
        "  else{\n",
        "    //if no trick out, print onto rail and rail trick\n",
        "    return(\"\\(onto_rail) - \\(rail_trick)\")\n",
        "  }\n",
        "}"
      ],
      "metadata": {
        "id": "WrjfuxwB90lV",
        "colab": {
          "base_uri": "https://localhost:8080/"
        },
        "outputId": "d044036c-cecc-4aa4-dc6c-260691d35395"
      },
      "execution_count": 37,
      "outputs": [
        {
          "output_type": "stream",
          "name": "stdout",
          "text": [
            ""
          ]
        }
      ]
    },
    {
      "metadata": {
        "id": "kZRlD4utdPuX",
        "colab": {
          "base_uri": "https://localhost:8080/"
        },
        "outputId": "d37ea379-b5de-45d7-b608-6fde237bc2ac"
      },
      "cell_type": "code",
      "source": [
        "func display_rail_combo() {\n",
        "  print(\"Combo 1: \")\n",
        "  print(rail_combo(trick_in: true, trick_out: false))\n",
        "\n",
        "  print(\"Combo 2: \")\n",
        "  print(rail_combo(trick_in: false, trick_out: true))\n",
        "\n",
        "  print(\"Combo 3: \")\n",
        "  print(rail_combo(trick_in: true, trick_out: true))\n",
        "}"
      ],
      "execution_count": 44,
      "outputs": [
        {
          "output_type": "stream",
          "name": "stdout",
          "text": [
            ""
          ]
        }
      ]
    },
    {
      "cell_type": "code",
      "source": [
        "display_rail_combo()"
      ],
      "metadata": {
        "colab": {
          "base_uri": "https://localhost:8080/"
        },
        "id": "QlyUuTys60O7",
        "outputId": "d6b5c412-6357-4528-c858-138cdc58071a"
      },
      "execution_count": 46,
      "outputs": [
        {
          "output_type": "stream",
          "name": "stdout",
          "text": [
            "Combo 1: \r\n",
            "pop shuv - back overcrook\r\n",
            "Combo 2: \r\n",
            "ollie - back feeble - back 180\r\n",
            "Combo 3: \r\n",
            "front shuv - front lip - heelflip\r\n"
          ]
        }
      ]
    }
  ]
}