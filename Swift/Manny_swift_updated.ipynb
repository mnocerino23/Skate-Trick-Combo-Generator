{
  "nbformat": 4,
  "nbformat_minor": 0,
  "metadata": {
    "colab": {
      "provenance": [],
      "collapsed_sections": []
    },
    "kernelspec": {
      "name": "swift",
      "display_name": "Swift"
    }
  },
  "cells": [
    {
      "cell_type": "code",
      "source": [
        "\n",
        "!curl \"https://raw.githubusercontent.com/philipturner/swift-colab/release/latest/install_swift.sh\" --output \"install_swift.sh\"\n",
        "!bash \"install_swift.sh\" \"5.6.2\""
      ],
      "metadata": {
        "colab": {
          "base_uri": "https://localhost:8080/"
        },
        "id": "Qb4MeaY_c7DT",
        "outputId": "96aca8dc-ccd2-4fa2-e839-074d61c3b574"
      },
      "execution_count": 1,
      "outputs": [
        {
          "output_type": "stream",
          "name": "stdout",
          "text": [
            "  % Total    % Received % Xferd  Average Speed   Time    Time     Time  Current\n",
            "                                 Dload  Upload   Total   Spent    Left  Speed\n",
            "100  7845  100  7845    0     0  56438      0 --:--:-- --:--:-- --:--:-- 56847\n",
            "Downloading Swift 5.6.2\n",
            "  % Total    % Received % Xferd  Average Speed   Time    Time     Time  Current\n",
            "                                 Dload  Upload   Total   Spent    Left  Speed\n",
            "100  489M  100  489M    0     0  18.9M      0  0:00:25  0:00:25 --:--:-- 28.4M\n",
            "Cloning into 'swift-colab'...\n",
            "remote: Enumerating objects: 120, done.\u001b[K\n",
            "remote: Counting objects: 100% (120/120), done.\u001b[K\n",
            "remote: Compressing objects: 100% (112/112), done.\u001b[K\n",
            "remote: Total 120 (delta 7), reused 91 (delta 7), pack-reused 0\u001b[K\n",
            "Receiving objects: 100% (120/120), 294.87 KiB | 7.56 MiB/s, done.\n",
            "Resolving deltas: 100% (7/7), done.\n",
            "Compiling Swift LLDB bindings\n",
            "Compiling JupyterKernel\n",
            "Adding symbolic link to JupyterKernel binary\n",
            "Registering Swift Jupyter kernel\n",
            "=== ------------------------------------------------------------------------ ===\n",
            "=== Swift-Colab overwrote the Python kernel with Swift, but Colab is still   ===\n",
            "=== in Python mode. To enter Swift mode, go to Runtime > Restart runtime.    ===\n",
            "=== ------------------------------------------------------------------------ ===\n"
          ]
        }
      ]
    },
    {
      "cell_type": "code",
      "source": [
        "//imagine the user has already filled out the survey\n",
        "//I will provide a sample inventory of tricks so that we can run the function\n",
        "\n",
        "var my_regular_tricks: [String] = [\"ollie\", \"pop shuv\", \"front 180\", \"back 180\", \"front shuv\", \"kickflip\", \"heelflip\", \"backside flip\", \"back bigspin\"]\n",
        "\n",
        "var my_fakie_tricks: [String] = [\"fakie ollie\", \"fakie pop shuv\", \"fakie front shuv\", \"half cab\", \"fakie front 180\", \"full cab\", \"fakie front 360\",\n",
        "                                \"fakie flip\", \"fakie heel\", \"fakie bigspin\", \"fakie front bigspin\", \"half cab flip\", \"half cab heel\", \"fakie front heel\",\n",
        "                                \"fakie three shuv\", \"fakie treflip\"]\n",
        "\n",
        "var my_nollie_tricks: [String] = [\"nollie\", \"nollie shuv\", \"nollie front shuv\", \"nollie back 180\", \"nollie front bigspin\", \"nollie back bigspin\"]\n",
        "\n",
        "\n",
        "var my_switch_tricks: [String] = [\"switch ollie\", \"switch front 180\", \"switch pop shuv\"]\n",
        "\n",
        "var my_manny: [String] = [\"nose manual\", \"manual\", \"fakie manual\", \"switch manual\"]"
      ],
      "metadata": {
        "colab": {
          "base_uri": "https://localhost:8080/"
        },
        "id": "kggb26uRfMEB",
        "outputId": "40e25833-bd41-40ed-c96d-be5b86977a94"
      },
      "execution_count": 1,
      "outputs": [
        {
          "output_type": "stream",
          "name": "stdout",
          "text": [
            ""
          ]
        }
      ]
    },
    {
      "cell_type": "code",
      "source": [
        "//How to get a random element from a swift array\n",
        "my_regular_tricks.randomElement()"
      ],
      "metadata": {
        "colab": {
          "base_uri": "https://localhost:8080/"
        },
        "id": "99iO3FEehmrr",
        "outputId": "7c4a10de-0d9b-4ae6-ac02-864d3bac5d19"
      },
      "execution_count": 2,
      "outputs": [
        {
          "output_type": "stream",
          "name": "stdout",
          "text": [
            ""
          ]
        },
        {
          "output_type": "execute_result",
          "data": {
            "text/plain": [
              "▿ Optional<String>\n",
              "  - some : \"back bigspin\"\n"
            ]
          },
          "metadata": {},
          "execution_count": 2
        }
      ]
    },
    {
      "cell_type": "code",
      "source": [
        "//create a dictionary mapping each trick to its exit stance\n",
        "var exit_stance = [\"ollie\": \"regular\", \"pop shuv\": \"regular\", \"front 180\": \"fakie\", \"back 180\": \"fakie\", \"front shuv\":\"regular\", \"kickflip\":\"regular\", \"heelflip\":\"regular\", \n",
        "                  \"ollie north\": \"regular\", \"no comply 180\": \"fakie\",\n",
        "                  \"varial flip\":\"regular\", \"varial heel\":\"regular\", \"frontside flip\":\"fakie\",\"backside flip\":\"fakie\", \"front heel\":\"fakie\", \"back heel\":\"fakie\",\n",
        "                \"back bigspin\": \"fakie\", \n",
        "                  \"front bigspin\":\"fakie\", \n",
        "                  \"hardflip\":\"regular\", \"inward heel\":\"regular\", \"front 360\":\"regular\", \"back 360\":\"regular\", \"bigflip\":\"fakie\", \"bigspin heelflip\":\"fakie\",\n",
        "                  \"treflip\": \"regular\", \"360 shuv it\": \"regular\", \"impossible\":\"regular\", \"lazer flip\": \"regular\", \"fakie ollie\":\"fakie\", \"fakie pop shuv\":\"fakie\", \n",
        "               \"fakie front shuv\": \"fakie\", \n",
        "                  \"half cab\": \"regular\", \"fakie front 180\": \"regular\", \"full cab\":\"fakie\", \"fakie front 360\":\"fakie\", \"fakie flip\":\"fakie\", \"fakie heel\":\"fakie\",\n",
        "                \"fakie bigspin\":\"regular\", \"fakie front bigspin\":\"regular\", \"half cab flip\":\"regular\", \"half cab heel\":\"regular\", \"fakie front heel\":\"regular\",\n",
        "                 \"fakie frontside flip\":\"regular\", \"fakie three shuv\": \"fakie\",\n",
        "                \"fakie treflip\": \"fakie\", \"full cab flip\": \"fakie\"\n",
        "                , \"fakie bigflip\":\"regular\", \"fakie big heel\":\"regular\", \"fakie hardflip\":\"fakie\", \"fakie inward heel\":\"fakie\", \"fakie lazer\":\"fakie\", \n",
        "               \"fakie varial flip\": \"fakie\", \"fakie varial heel\": \"fakie\",\n",
        "               \"nollie\":\"regular\", \"nollie shuv\":\"regular\", \"nollie front 180\":\"fakie\", \"nollie back 180\":\"fakie\", \"nollie front shuv\":\"regular\", \"nollie flip\":\"regular\", \n",
        "                 \"nollie heel\":\"regular\", \"nollie varial flip\":\"regular\", \"nollie varial heel\":\"regular\", \"nollie frontside flip\":\"fakie\",\"nollie backside flip\": \"regular\" , \n",
        "               \"nollie front heel\": \"fakie\", \n",
        "                 \"nollie back heel\": \"fakie\", \n",
        "                 \"nollie front 360 flip\": \"regular\",\n",
        "                 \"nollie back bigspin\": \"fakie\",\" nollie front bigspin\":\"fakie\", \n",
        "                  \"nollie hardflip\": \"regular\", \"nollie inward heel\":\"regular\", \"nollie front 360\":\"regular\", \"nollie back 360\":\"regular\", \"nollie bigflip\":\"fakie\", \n",
        "                  \"nollie treflip\": \"regular\", \"nollie 360 shuv it\": \"regular\", \"nollie big heel\":\"fakie\",  \"nollie lazer\": \"regular\", \n",
        "                  \"manual\":\"regular\", \"nose manual\": \"regular\", \"fakie manual\": \"fakie\", \"switch ollie\":\"fakie\", \"switch pop shuv\":\"fakie\", \n",
        "                  \"switch front 180\":\"regular\", \"switch back 180\":\"regular\", \"switch front shuv\":\"fakie\", \"switch kickflip\":\"fakie\", \"switch heel\":\"fakie\", \n",
        "                  \"switch varial flip\": \"fakie\" , \"switch varial heel\": \"fakie\", \"switch frontside flip\": \"regular\",\"switch backside flip\":\"regular\",\n",
        "                 \"switch front heel\": \"regular\", \"switch back heel\": \"regular\",\n",
        "                  \"switch back bigspin\": \"regular\", \"switch front bigspin\":\"regular\", \n",
        "                  \"switch hardflip\":\"regular\", \"switch inward heel\":\"fakie\", \"switch front 360\":\"fakie\", \"switch back 360\":\"fakie\", \n",
        "                  \"switch bigflip\":\"regular\", \"switch bigspin heelflip\": \"regular\"\n",
        "                 , \"switch treflip\":\"fakie\", \"switch 360 shuv it\":\"fakie\", \"switch impossible\": \"fakie\", \"switch lazer\":\"fakie\"\n",
        "]"
      ],
      "metadata": {
        "colab": {
          "base_uri": "https://localhost:8080/"
        },
        "id": "Q751tUGfcUx1",
        "outputId": "3082d355-81f0-45c9-b326-f25116da68ca"
      },
      "execution_count": 3,
      "outputs": [
        {
          "output_type": "stream",
          "name": "stdout",
          "text": [
            ""
          ]
        }
      ]
    },
    {
      "cell_type": "code",
      "source": [
        "//my_regular_tricks, my_fakie_tricks, my_nollie_tricks, my_switch_tricks, \n",
        "//,my_manny will all be existing variables that are created and\n",
        "//populated during the initial survey\n",
        "\n",
        "func manny_combo(trick_in: Bool, trick_out: Bool) -> String {\n",
        "\n",
        "  //I was having some issues with scope so I declare all the variables that will be strings\n",
        "  //as empty strings in the beginning\n",
        "  var must_land_regular: Bool = false\n",
        "  var onto_pad: String = \"\"\n",
        "  var stance_entering_manual: String = \"\"\n",
        "  var regular_manuals: [String] = [\"manual\", \"nose manual\"]\n",
        "  var fakie_manuals: [String] = [\"fakie manual\", \"switch manual\"]\n",
        "  var manny: String = \"\"\n",
        "  var exit_trick: String = \"\"\n",
        "\n",
        "  //have to have one manual trick\n",
        "  //ollie, \n",
        "\n",
        "\n",
        "  //check to see if the rider can do fakie and switch manuals. If they can't the initial trick\n",
        "  //must land in regular so they can get out\n",
        "  if (my_manny.contains(\"fakie manual\") || my_manny.contains(\"switch manual\")) {\n",
        "    must_land_regular = false\n",
        "  }\n",
        "  else {\n",
        "    must_land_regular = true\n",
        "  }\n",
        "\n",
        "  if (trick_in == true) {\n",
        "    onto_pad = my_regular_tricks.randomElement()!\n",
        "    stance_entering_manual = exit_stance[onto_pad]!\n",
        "\n",
        "    while(onto_pad == \"ollie\"){\n",
        "      onto_pad = my_regular_tricks.randomElement()!\n",
        "      stance_entering_manual = exit_stance[onto_pad]!\n",
        "    }\n",
        "    //if they cannot do a fakie trick out they cannot land in fakie so we rechoose trick in\n",
        "    while (must_land_regular == true && stance_entering_manual == \"fakie\"){\n",
        "      onto_pad = my_regular_tricks.randomElement()!\n",
        "      stance_entering_manual = exit_stance[onto_pad]!\n",
        "\n",
        "      while(onto_pad == \"ollie\"){\n",
        "      onto_pad = my_regular_tricks.randomElement()!\n",
        "      stance_entering_manual = exit_stance[onto_pad]!\n",
        "      }\n",
        "    }\n",
        "  }\n",
        "  else {\n",
        "    stance_entering_manual = \"regular\"\n",
        "    onto_pad = \"ollie\" \n",
        "  }\n",
        "\n",
        "  //now choose the manual trick\n",
        "  if (stance_entering_manual == \"regular\") {\n",
        "    manny = regular_manuals.randomElement()!\n",
        "    while (my_manny.contains(manny) == false) {\n",
        "      manny = regular_manuals.randomElement()!\n",
        "    }\n",
        "  }\n",
        "  else {\n",
        "   manny = fakie_manuals.randomElement()!\n",
        "    while(my_manny.contains(manny) == false){\n",
        "      manny = fakie_manuals.randomElement()!\n",
        "    }\n",
        "  }\n",
        "\n",
        "  //now select the trick out\n",
        "  if (trick_out == true){\n",
        "    //case one: in normal manual and need a regular trick out\n",
        "    if (manny == \"manual\"){\n",
        "      exit_trick = my_regular_tricks.randomElement()!\n",
        "      //want a real trick out so if ollie is selected, choose again\n",
        "      while (exit_trick == \"ollie\"){\n",
        "        exit_trick = my_regular_tricks.randomElement()!\n",
        "      }\n",
        "    }\n",
        "    //case two: in nose manual and need a nollie trick out\n",
        "    else if (manny == \"nose manual\"){\n",
        "      exit_trick = my_nollie_tricks.randomElement()!\n",
        "      while (exit_trick == \"nollie\"){\n",
        "        exit_trick = my_nollie_tricks.randomElement()!\n",
        "      }\n",
        "    }\n",
        "    //case three: in fakie manual and need a fakie trick out\n",
        "    else if (manny == \"fakie manual\") {\n",
        "      exit_trick = my_fakie_tricks.randomElement()!\n",
        "      while (exit_trick == \"fakie ollie\"){\n",
        "        exit_trick = my_fakie_tricks.randomElement()!\n",
        "      }\n",
        "    }\n",
        "  //case four: in switch manual and need a switch trick out\n",
        "    else {\n",
        "      exit_trick = my_switch_tricks.randomElement()!\n",
        "      while (exit_trick == \"switch ollie\"){\n",
        "        exit_trick = my_switch_tricks.randomElement()!\n",
        "      }\n",
        "    }\n",
        "    return(\"\\(onto_pad) - \\(manny) - \\(exit_trick)\")\n",
        "  }\n",
        "  else{\n",
        "    return(\"\\(onto_pad) - \\(manny)\")\n",
        "  }\n",
        "}"
      ],
      "metadata": {
        "colab": {
          "base_uri": "https://localhost:8080/"
        },
        "id": "JbsFJNcbdufW",
        "outputId": "27537d99-398b-4a8d-bef8-db28aaaf4901"
      },
      "execution_count": 5,
      "outputs": [
        {
          "output_type": "stream",
          "name": "stdout",
          "text": [
            ""
          ]
        }
      ]
    },
    {
      "metadata": {
        "id": "kZRlD4utdPuX",
        "colab": {
          "base_uri": "https://localhost:8080/"
        },
        "outputId": "0bff8b9f-461b-4e9f-8f6a-95a3e51d90dc"
      },
      "cell_type": "code",
      "source": [
        "func display_manny() {\n",
        "  print(\"Combo 1: \")\n",
        "  print(manny_combo(trick_in: true, trick_out: false))\n",
        "\n",
        "  print(\"Combo 2: \")\n",
        "  print(manny_combo(trick_in: false, trick_out: true))\n",
        "\n",
        "  print(\"Combo 3: \")\n",
        "  print(manny_combo(trick_in: true, trick_out: true))\n",
        "}"
      ],
      "execution_count": 6,
      "outputs": [
        {
          "output_type": "stream",
          "name": "stdout",
          "text": [
            ""
          ]
        }
      ]
    },
    {
      "cell_type": "code",
      "source": [
        "display_manny()"
      ],
      "metadata": {
        "colab": {
          "base_uri": "https://localhost:8080/"
        },
        "id": "QlyUuTys60O7",
        "outputId": "68749ebc-9d1f-4c75-d3d2-4f2bb9d9f562"
      },
      "execution_count": 58,
      "outputs": [
        {
          "output_type": "stream",
          "name": "stdout",
          "text": [
            "Combo 1: \r\n",
            "backside flip - fakie manual\r\n",
            "Combo 2: \r\n",
            "ollie - nose manual - nollie front shuv\r\n",
            "Combo 3: \r\n",
            "kickflip - manual - heelflip\r\n"
          ]
        }
      ]
    }
  ]
}