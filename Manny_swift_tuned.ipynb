{
  "nbformat": 4,
  "nbformat_minor": 0,
  "metadata": {
    "colab": {
      "provenance": [],
      "include_colab_link": true
    },
    "kernelspec": {
      "name": "swift",
      "display_name": "Swift"
    }
  },
  "cells": [
    {
      "cell_type": "markdown",
      "metadata": {
        "id": "view-in-github",
        "colab_type": "text"
      },
      "source": [
        "<a href=\"https://colab.research.google.com/github/mnocerino23/Skate-Trick-Combo-Generator/blob/main/Manny_swift_tuned.ipynb\" target=\"_parent\"><img src=\"https://colab.research.google.com/assets/colab-badge.svg\" alt=\"Open In Colab\"/></a>"
      ]
    },
    {
      "cell_type": "code",
      "source": [
        "\n",
        "!curl \"https://raw.githubusercontent.com/philipturner/swift-colab/release/latest/install_swift.sh\" --output \"install_swift.sh\"\n",
        "!bash \"install_swift.sh\" \"5.6.2\""
      ],
      "metadata": {
        "colab": {
          "base_uri": "https://localhost:8080/",
          "height": 496
        },
        "id": "Qb4MeaY_c7DT",
        "outputId": "f741125e-ccd3-4d52-aa65-5a2e4be4a7d2"
      },
      "execution_count": 142,
      "outputs": [
        {
          "output_type": "stream",
          "name": "stdout",
          "text": [
            "\u001b[0;31mCompilation error: \u001b[0mexpression failed to parse:\n",
            "\u001b[0;1m<Cell 142>:2:6: \u001b[0m\u001b[0;1;31merror: \u001b[0m\u001b[0;1mconsecutive statements on a line must be separated by ';'\u001b[0m\n",
            "!curl \"https://raw.githubusercontent.com/philipturner/swift-colab/release/latest/install_swift.sh\" --output \"install_swift.sh\"\n",
            "\u001b[0;1;32m     ^\u001b[0m\n",
            "     ;\n",
            "\n",
            "\u001b[0;1m<Cell 142>:2:99: \u001b[0m\u001b[0;1;31merror: \u001b[0m\u001b[0;1mconsecutive statements on a line must be separated by ';'\u001b[0m\n",
            "!curl \"https://raw.githubusercontent.com/philipturner/swift-colab/release/latest/install_swift.sh\" --output \"install_swift.sh\"\n",
            "\u001b[0;1;32m                                                                                                  ^\u001b[0m\n",
            "                                                                                                  ;\n",
            "\n",
            "\u001b[0;1m<Cell 142>:2:108: \u001b[0m\u001b[0;1;31merror: \u001b[0m\u001b[0;1mconsecutive statements on a line must be separated by ';'\u001b[0m\n",
            "!curl \"https://raw.githubusercontent.com/philipturner/swift-colab/release/latest/install_swift.sh\" --output \"install_swift.sh\"\n",
            "\u001b[0;1;32m                                                                                                           ^\u001b[0m\n",
            "                                                                                                           ;\n",
            "\n",
            "\u001b[0;1m<Cell 142>:3:6: \u001b[0m\u001b[0;1;31merror: \u001b[0m\u001b[0;1mconsecutive statements on a line must be separated by ';'\u001b[0m\n",
            "!bash \"install_swift.sh\" \"5.6.2\"\n",
            "\u001b[0;1;32m     ^\u001b[0m\n",
            "     ;\n",
            "\n",
            "\u001b[0;1m<Cell 142>:3:25: \u001b[0m\u001b[0;1;31merror: \u001b[0m\u001b[0;1mconsecutive statements on a line must be separated by ';'\u001b[0m\n",
            "!bash \"install_swift.sh\" \"5.6.2\"\n",
            "\u001b[0;1;32m                        ^\u001b[0m\n",
            "                        ;\n"
          ]
        },
        {
          "output_type": "error",
          "ename": "",
          "evalue": "ignored",
          "traceback": []
        }
      ]
    },
    {
      "cell_type": "code",
      "source": [
        "//imagine the user has already filled out the survey\n",
        "//I will provide a sample inventory of tricks so that we can run the function\n",
        "\n",
        "var my_regular_tricks: [String] = [\"ollie\", \"pop shuv\", \"front 180\", \"back 180\", \"front shuv\", \"kickflip\", \"heelflip\", \"backside flip\", \"back bigspin\"]\n",
        "\n",
        "var my_fakie_tricks: [String] = [\"fakie ollie\", \"fakie pop shuv\", \"fakie front shuv\", \"half cab\", \"fakie front 180\", \"full cab\", \"fakie front 360\",\n",
        "                                \"fakie flip\", \"fakie heel\", \"fakie bigspin\", \"fakie front bigspin\", \"half cab flip\", \"half cab heel\", \"fakie front heel\",\n",
        "                                \"fakie three shuv\", \"fakie treflip\"]\n",
        "\n",
        "var my_nollie_tricks: [String] = [\"nollie\", \"nollie shuv\", \"nollie front shuv\", \"nollie back 180\", \"nollie front bigspin\", \"nollie back bigspin\"]\n",
        "\n",
        "\n",
        "var my_switch_tricks: [String] = [\"switch ollie\", \"switch front 180\", \"switch pop shuv\"]\n",
        "\n",
        "var my_manny: [String] = [\"manual\", \"fakie manual\"]"
      ],
      "metadata": {
        "colab": {
          "base_uri": "https://localhost:8080/"
        },
        "id": "kggb26uRfMEB",
        "outputId": "74fdb12f-b05a-4ab8-fdae-726e9018923c"
      },
      "execution_count": 155,
      "outputs": [
        {
          "output_type": "stream",
          "name": "stdout",
          "text": [
            ""
          ]
        }
      ]
    },
    {
      "cell_type": "code",
      "source": [
        "//How to get a random element from a swift array\n",
        "my_regular_tricks.randomElement()"
      ],
      "metadata": {
        "colab": {
          "base_uri": "https://localhost:8080/"
        },
        "id": "99iO3FEehmrr",
        "outputId": "e4c5ee4d-19a5-4e86-a81f-8b2c1298e1e8"
      },
      "execution_count": 156,
      "outputs": [
        {
          "output_type": "stream",
          "name": "stdout",
          "text": [
            ""
          ]
        },
        {
          "output_type": "execute_result",
          "data": {
            "text/plain": [
              "▿ Optional<String>\n",
              "  - some : \"pop shuv\"\n"
            ]
          },
          "metadata": {},
          "execution_count": 156
        }
      ]
    },
    {
      "cell_type": "code",
      "source": [
        "//create a dictionary mapping each trick to its exit stance\n",
        "var exit_stance = [\"ollie\": \"regular\", \"pop shuv\": \"regular\", \"front 180\": \"fakie\", \"back 180\": \"fakie\", \"front shuv\":\"regular\", \n",
        "                  \"kickflip\":\"regular\", \"heelflip\":\"regular\", \"ollie north\": \"regular\", \"no comply 180\": \"fakie\",\n",
        "                   \"varial flip\":\"regular\", \"varial heel\":\"regular\", \"frontside flip\":\"fakie\",\"backside flip\":\"fakie\", \n",
        "                   \"front heel\":\"fakie\", \"back heel\":\"fakie\", \"back bigspin\": \"fakie\", \"front bigspin\":\"fakie\",\n",
        "                   \"hardflip\":\"regular\", \"inward heel\":\"regular\", \"front 360\":\"regular\", \"back 360\":\"regular\",\n",
        "                    \"bigflip\":\"fakie\", \"bigspin heelflip\":\"fakie\", \"treflip\": \"regular\", \"360 shuv it\": \"regular\", \n",
        "                    \"impossible\":\"regular\", \"lazer flip\": \"regular\", \"fakie ollie\":\"fakie\", \"fakie pop shuv\":\"fakie\",\"fakie front shuv\": \"fakie\",\n",
        "                   \"half cab\": \"regular\", \"fakie front 180\": \"regular\", \"full cab\":\"fakie\", \"fakie front 360\":\"fakie\", \"fakie flip\":\"fakie\",\n",
        "                    \"fakie heel\":\"fakie\", \"fakie bigspin\":\"regular\", \"fakie front bigspin\":\"regular\", \"half cab flip\":\"regular\", \n",
        "                    \"half cab heel\":\"regular\", \"fakie front heel\":\"regular\", \"fakie frontside flip\":\"regular\", \"fakie three shuv\": \"fakie\",\n",
        "                   \"fakie treflip\": \"fakie\", \"full cab flip\": \"fakie\", \"fakie bigflip\":\"regular\", \"fakie big heel\":\"regular\",\n",
        "                    \"fakie hardflip\":\"fakie\", \"fakie inward heel\":\"fakie\", \"fakie lazer\":\"fakie\",\"fakie varial flip\": \"fakie\",\n",
        "                   \"fakie varial heel\": \"fakie\",\"nollie\":\"regular\", \"nollie shuv\":\"regular\", \"nollie front 180\":\"fakie\", \n",
        "                   \"nollie back 180\":\"fakie\", \"nollie front shuv\":\"regular\", \"nollie flip\":\"regular\",\"nollie heel\":\"regular\",\n",
        "                    \"nollie varial flip\":\"regular\", \"nollie varial heel\":\"regular\", \"nollie frontside flip\":\"fakie\",\n",
        "                    \"nollie backside flip\": \"regular\" , \"nollie front heel\": \"fakie\", \"nollie back heel\": \"fakie\",\n",
        "                   \"nollie front 360 flip\": \"regular\", \"nollie back bigspin\": \"fakie\", \"nollie front bigspin\": \"fakie\",\n",
        "                   \"nollie hardflip\": \"regular\", \"nollie inward heel\":\"regular\", \"nollie front 360\":\"regular\",\n",
        "                    \"nollie back 360\":\"regular\", \"nollie bigflip\":\"fakie\", \"nollie treflip\": \"regular\", \"nollie 360 shuv it\": \"regular\",\n",
        "                    \"nollie big heel\":\"fakie\",  \"nollie lazer\": \"regular\", \"manual\":\"regular\", \"nose manual\": \"regular\", \n",
        "                    \"fakie manual\": \"fakie\", \"switch ollie\":\"fakie\", \"switch pop shuv\":\"fakie\", \"switch front 180\":\"regular\", \n",
        "                    \"switch back 180\":\"regular\", \"switch front shuv\":\"fakie\", \"switch kickflip\":\"fakie\", \"switch heel\":\"fakie\",\n",
        "                   \"switch varial flip\": \"fakie\" , \"switch varial heel\": \"fakie\", \"switch frontside flip\": \"regular\",\n",
        "                   \"switch backside flip\":\"regular\", \"switch front heel\": \"regular\", \"switch back heel\": \"regular\",\n",
        "                   \"switch back bigspin\": \"regular\", \"switch front bigspin\":\"regular\", \"switch hardflip\":\"regular\", \n",
        "                   \"switch inward heel\":\"fakie\", \"switch front 360\":\"fakie\", \"switch back 360\":\"fakie\",\n",
        "                   \"switch bigflip\":\"regular\", \"switch bigspin heelflip\": \"regular\"\n",
        "                   , \"switch treflip\":\"fakie\", \"switch 360 shuv it\":\"fakie\", \"switch impossible\": \"fakie\", \"switch lazer\":\"fakie\"]"
      ],
      "metadata": {
        "colab": {
          "base_uri": "https://localhost:8080/"
        },
        "id": "Q751tUGfcUx1",
        "outputId": "65aa2128-8150-49ab-91e3-530b272552e3"
      },
      "execution_count": 157,
      "outputs": [
        {
          "output_type": "stream",
          "name": "stdout",
          "text": [
            ""
          ]
        }
      ]
    },
    {
      "cell_type": "code",
      "source": [
        "//my_regular_tricks, my_fakie_tricks, my_nollie_tricks, my_switch_tricks, \n",
        "//,my_manny will all be existing variables that are created and\n",
        "//populated during the initial survey\n",
        "\n",
        "func manny_combo_regular(trick_in: Bool, trick_out: Bool) -> String {\n",
        "\n",
        "  //I was having some issues with scope so I declare all the variables that will be strings\n",
        "  //as empty strings in the beginning\n",
        "  var must_land_regular: Bool = false\n",
        "  var onto_pad: String = \"\"\n",
        "  var stance_entering_manual: String = \"\"\n",
        "  var regular_manuals: [String] = [\"manual\", \"nose manual\"]\n",
        "  var fakie_manuals: [String] = [\"fakie manual\", \"switch manual\"]\n",
        "  var manny: String = \"\"\n",
        "  var exit_trick: String = \"\"\n",
        "\n",
        "  //have to have one manual trick\n",
        "  //ollie, \n",
        "\n",
        "\n",
        "  //check to see if the rider can do fakie and switch manuals. If they can't the initial trick\n",
        "  //must land in regular so they can get out\n",
        "  if (my_manny.contains(\"fakie manual\") || my_manny.contains(\"switch manual\")) {\n",
        "    must_land_regular = false\n",
        "  }\n",
        "  else {\n",
        "    must_land_regular = true\n",
        "  }\n",
        "\n",
        "  if (trick_in == true) {\n",
        "    onto_pad = my_regular_tricks.randomElement()!\n",
        "    stance_entering_manual = exit_stance[onto_pad]!\n",
        "\n",
        "    while(onto_pad == \"ollie\"){\n",
        "      onto_pad = my_regular_tricks.randomElement()!\n",
        "      stance_entering_manual = exit_stance[onto_pad]!\n",
        "    }\n",
        "    \n",
        "    //if they cannot do a fakie trick out they cannot land in fakie so we rechoose trick in\n",
        "    while (must_land_regular == true && stance_entering_manual == \"fakie\"){\n",
        "      onto_pad = my_regular_tricks.randomElement()!\n",
        "      stance_entering_manual = exit_stance[onto_pad]!\n",
        "\n",
        "      while(onto_pad == \"ollie\"){\n",
        "      onto_pad = my_regular_tricks.randomElement()!\n",
        "      stance_entering_manual = exit_stance[onto_pad]!\n",
        "      }\n",
        "    }\n",
        "  }\n",
        "  else {\n",
        "    stance_entering_manual = \"regular\"\n",
        "    onto_pad = \"ollie\" \n",
        "  }\n",
        "\n",
        "  //now choose the manual trick\n",
        "  if (stance_entering_manual == \"regular\") {\n",
        "    manny = regular_manuals.randomElement()!\n",
        "    while (my_manny.contains(manny) == false) {\n",
        "      manny = regular_manuals.randomElement()!\n",
        "    }\n",
        "  }\n",
        "  else {\n",
        "   manny = fakie_manuals.randomElement()!\n",
        "    while(my_manny.contains(manny) == false){\n",
        "      manny = fakie_manuals.randomElement()!\n",
        "    }\n",
        "  }\n",
        "\n",
        "  //now select the trick out\n",
        "  if (trick_out == true){\n",
        "    //case one: in normal manual and need a regular trick out\n",
        "    if (manny == \"manual\"){\n",
        "      exit_trick = my_regular_tricks.randomElement()!\n",
        "      //want a real trick out so if ollie is selected, choose again\n",
        "      while (exit_trick == \"ollie\"){\n",
        "        exit_trick = my_regular_tricks.randomElement()!\n",
        "      }\n",
        "    }\n",
        "    //case two: in nose manual and need a nollie trick out\n",
        "    else if (manny == \"nose manual\"){\n",
        "      exit_trick = my_nollie_tricks.randomElement()!\n",
        "      while (exit_trick == \"nollie\"){\n",
        "        exit_trick = my_nollie_tricks.randomElement()!\n",
        "      }\n",
        "    }\n",
        "    //case three: in fakie manual and need a fakie trick out\n",
        "    else if (manny == \"fakie manual\") {\n",
        "      exit_trick = my_fakie_tricks.randomElement()!\n",
        "      while (exit_trick == \"fakie ollie\"){\n",
        "        exit_trick = my_fakie_tricks.randomElement()!\n",
        "      }\n",
        "    }\n",
        "  //case four: in switch manual and need a switch trick out\n",
        "    else {\n",
        "      exit_trick = my_switch_tricks.randomElement()!\n",
        "      while (exit_trick == \"switch ollie\"){\n",
        "        exit_trick = my_switch_tricks.randomElement()!\n",
        "      }\n",
        "    }\n",
        "    return(\"\\(onto_pad) - \\(manny) - \\(exit_trick)\")\n",
        "  }\n",
        "  else{\n",
        "    return(\"\\(onto_pad) - \\(manny)\")\n",
        "  }\n",
        "}"
      ],
      "metadata": {
        "colab": {
          "base_uri": "https://localhost:8080/"
        },
        "id": "JbsFJNcbdufW",
        "outputId": "98b1fb00-464b-4599-8e11-4ba69fa9d2ba"
      },
      "execution_count": 158,
      "outputs": [
        {
          "output_type": "stream",
          "name": "stdout",
          "text": [
            ""
          ]
        }
      ]
    },
    {
      "cell_type": "code",
      "source": [
        "print(manny_combo_regular(trick_in: false, trick_out: true))\n",
        "print(manny_combo_regular(trick_in: true, trick_out: false))\n",
        "print(manny_combo_regular(trick_in: true, trick_out: true))"
      ],
      "metadata": {
        "colab": {
          "base_uri": "https://localhost:8080/"
        },
        "id": "-mqGBsW-ShFe",
        "outputId": "140351a9-6075-40f4-e529-8056c634d062"
      },
      "execution_count": 159,
      "outputs": [
        {
          "output_type": "stream",
          "name": "stdout",
          "text": [
            "ollie - manual - heelflip\r\n",
            "back 180 - fakie manual\r\n",
            "front shuv - manual - heelflip\r\n"
          ]
        }
      ]
    },
    {
      "cell_type": "code",
      "source": [
        "//my_regular_tricks, my_fakie_tricks, my_nollie_tricks, my_switch_tricks, \n",
        "//,my_manny will all be existing variables that are created and\n",
        "//populated during the initial survey\n",
        "\n",
        "func manny_combo_fakie(trick_in: Bool, trick_out: Bool) -> String {\n",
        "\n",
        "  //I was having some issues with scope so I declare all the variables that will be strings\n",
        "  //as empty strings in the beginning\n",
        "  var must_land_regular: Bool = false\n",
        "  var onto_pad: String = \"\"\n",
        "  var stance_entering_manual: String = \"\"\n",
        "  var regular_manuals: [String] = [\"manual\", \"nose manual\"]\n",
        "  var fakie_manuals: [String] = [\"fakie manual\", \"switch manual\"]\n",
        "  var manny: String = \"\"\n",
        "  var exit_trick: String = \"\"\n",
        "\n",
        "  //have to have one manual trick\n",
        "  //ollie, \n",
        "\n",
        "\n",
        "  //check to see if the rider can do fakie and switch manuals. If they can't the initial trick\n",
        "  //must land in regular so they can get out\n",
        "  if (my_manny.contains(\"fakie manual\") || my_manny.contains(\"switch manual\")) {\n",
        "    must_land_regular = false\n",
        "  }\n",
        "  else {\n",
        "    must_land_regular = true\n",
        "  }\n",
        "\n",
        "  if (trick_in == true) {\n",
        "    onto_pad = my_fakie_tricks.randomElement()!\n",
        "    stance_entering_manual = exit_stance[onto_pad]!\n",
        "\n",
        "    while(onto_pad == \"fakie ollie\"){\n",
        "      onto_pad = my_fakie_tricks.randomElement()!\n",
        "      stance_entering_manual = exit_stance[onto_pad]!\n",
        "    }\n",
        "    //if they cannot do a fakie trick out they cannot land in fakie so we rechoose trick in\n",
        "    while (must_land_regular == true && stance_entering_manual == \"fakie\"){\n",
        "      onto_pad = my_fakie_tricks.randomElement()!\n",
        "      stance_entering_manual = exit_stance[onto_pad]!\n",
        "\n",
        "      while(onto_pad == \"fakie ollie\"){\n",
        "        onto_pad = my_fakie_tricks.randomElement()!\n",
        "        stance_entering_manual = exit_stance[onto_pad]!\n",
        "      }\n",
        "    }\n",
        "  }\n",
        "  else {\n",
        "    stance_entering_manual = \"fakie\"\n",
        "    onto_pad = \"fakie ollie\" \n",
        "  }\n",
        "\n",
        "  //now choose the manual trick\n",
        "  if (stance_entering_manual == \"regular\") {\n",
        "    manny = regular_manuals.randomElement()!\n",
        "    while (my_manny.contains(manny) == false) {\n",
        "      manny = regular_manuals.randomElement()!\n",
        "    }\n",
        "  }\n",
        "  else {\n",
        "    manny = fakie_manuals.randomElement()!\n",
        "    while(my_manny.contains(manny) == false){\n",
        "      manny = fakie_manuals.randomElement()!\n",
        "    }\n",
        "  }\n",
        "\n",
        "  //now select the trick out\n",
        "  if (trick_out == true){\n",
        "    //case one: in normal manual and need a regular trick out\n",
        "    if (manny == \"manual\"){\n",
        "      exit_trick = my_regular_tricks.randomElement()!\n",
        "      //want a real trick out so if ollie is selected, choose again\n",
        "      while (exit_trick == \"ollie\"){\n",
        "        exit_trick = my_regular_tricks.randomElement()!\n",
        "      }\n",
        "    }\n",
        "    //case two: in nose manual and need a nollie trick out\n",
        "    else if (manny == \"nose manual\"){\n",
        "      exit_trick = my_nollie_tricks.randomElement()!\n",
        "      while (exit_trick == \"nollie\"){\n",
        "        exit_trick = my_nollie_tricks.randomElement()!\n",
        "      }\n",
        "    }\n",
        "    //case three: in fakie manual and need a fakie trick out\n",
        "    else if (manny == \"fakie manual\") {\n",
        "      exit_trick = my_fakie_tricks.randomElement()!\n",
        "      while (exit_trick == \"fakie ollie\"){\n",
        "        exit_trick = my_fakie_tricks.randomElement()!\n",
        "      }\n",
        "    }\n",
        "  //case four: in switch manual and need a switch trick out\n",
        "    else {\n",
        "      exit_trick = my_switch_tricks.randomElement()!\n",
        "      while (exit_trick == \"switch ollie\"){\n",
        "        exit_trick = my_switch_tricks.randomElement()!\n",
        "      }\n",
        "    }\n",
        "    return(\"\\(onto_pad) - \\(manny) - \\(exit_trick)\")\n",
        "  }\n",
        "  else{\n",
        "    return(\"\\(onto_pad) - \\(manny)\")\n",
        "  }\n",
        "}"
      ],
      "metadata": {
        "colab": {
          "base_uri": "https://localhost:8080/"
        },
        "id": "yGOnlR1qvvbb",
        "outputId": "c1fd5873-9011-4582-b7df-e3e593807b95"
      },
      "execution_count": 160,
      "outputs": [
        {
          "output_type": "stream",
          "name": "stdout",
          "text": [
            ""
          ]
        }
      ]
    },
    {
      "cell_type": "code",
      "source": [
        "//my_regular_tricks, my_fakie_tricks, my_nollie_tricks, my_switch_tricks, \n",
        "//,my_manny will all be existing variables that are created and\n",
        "//populated during the initial survey\n",
        "\n",
        "func manny_combo_nollie(trick_in: Bool, trick_out: Bool) -> String {\n",
        "\n",
        "  //I was having some issues with scope so I declare all the variables that will be strings\n",
        "  //as empty strings in the beginning\n",
        "  var must_land_regular: Bool = false\n",
        "  var onto_pad: String = \"\"\n",
        "  var stance_entering_manual: String = \"\"\n",
        "  var regular_manuals: [String] = [\"manual\", \"nose manual\"]\n",
        "  var fakie_manuals: [String] = [\"fakie manual\", \"switch manual\"]\n",
        "  var manny: String = \"\"\n",
        "  var exit_trick: String = \"\"\n",
        "\n",
        "  //have to have one manual trick\n",
        "  //ollie, \n",
        "\n",
        "\n",
        "  //check to see if the rider can do fakie and switch manuals. If they can't the initial trick\n",
        "  //must land in regular so they can get out\n",
        "  if (my_manny.contains(\"fakie manual\") || my_manny.contains(\"switch manual\")) {\n",
        "    must_land_regular = false\n",
        "  }\n",
        "  else {\n",
        "    must_land_regular = true\n",
        "  }\n",
        "\n",
        "  if (trick_in == true) {\n",
        "    onto_pad = my_nollie_tricks.randomElement()!\n",
        "    stance_entering_manual = exit_stance[onto_pad]!\n",
        "\n",
        "    while(onto_pad == \"nollie\"){\n",
        "      onto_pad = my_nollie_tricks.randomElement()!\n",
        "      stance_entering_manual = exit_stance[onto_pad]!\n",
        "    }\n",
        "    //if they cannot do a fakie trick out they cannot land in fakie so we rechoose trick in\n",
        "    while (must_land_regular == true && stance_entering_manual == \"fakie\"){\n",
        "      onto_pad = my_nollie_tricks.randomElement()!\n",
        "      stance_entering_manual = exit_stance[onto_pad]!\n",
        "\n",
        "      while(onto_pad == \"nollie\"){\n",
        "        onto_pad = my_nollie_tricks.randomElement()!\n",
        "        stance_entering_manual = exit_stance[onto_pad]!\n",
        "      }\n",
        "    }\n",
        "  }\n",
        "  else {\n",
        "    stance_entering_manual = \"regular\"\n",
        "    onto_pad = \"nollie\" \n",
        "  }\n",
        "\n",
        "  //now choose the manual trick\n",
        "  if (stance_entering_manual == \"regular\") {\n",
        "    manny = regular_manuals.randomElement()!\n",
        "    while (my_manny.contains(manny) == false) {\n",
        "      manny = regular_manuals.randomElement()!\n",
        "    }\n",
        "  }\n",
        "  else {\n",
        "    manny = fakie_manuals.randomElement()!\n",
        "    while(my_manny.contains(manny) == false){\n",
        "      manny = fakie_manuals.randomElement()!\n",
        "    }\n",
        "  }\n",
        "\n",
        "  //now select the trick out\n",
        "  if (trick_out == true){\n",
        "    //case one: in normal manual and need a regular trick out\n",
        "    if (manny == \"manual\"){\n",
        "      exit_trick = my_regular_tricks.randomElement()!\n",
        "      //want a real trick out so if ollie is selected, choose again\n",
        "      while (exit_trick == \"ollie\"){\n",
        "        exit_trick = my_regular_tricks.randomElement()!\n",
        "      }\n",
        "    }\n",
        "    //case two: in nose manual and need a nollie trick out\n",
        "    else if (manny == \"nose manual\"){\n",
        "      exit_trick = my_nollie_tricks.randomElement()!\n",
        "      while (exit_trick == \"nollie\"){\n",
        "        exit_trick = my_nollie_tricks.randomElement()!\n",
        "      }\n",
        "    }\n",
        "    //case three: in fakie manual and need a fakie trick out\n",
        "    else if (manny == \"fakie manual\") {\n",
        "      exit_trick = my_fakie_tricks.randomElement()!\n",
        "      while (exit_trick == \"fakie ollie\"){\n",
        "        exit_trick = my_fakie_tricks.randomElement()!\n",
        "      }\n",
        "    }\n",
        "  //case four: in switch manual and need a switch trick out\n",
        "    else {\n",
        "      exit_trick = my_switch_tricks.randomElement()!\n",
        "      while (exit_trick == \"switch ollie\"){\n",
        "        exit_trick = my_switch_tricks.randomElement()!\n",
        "      }\n",
        "    }\n",
        "    return(\"\\(onto_pad) - \\(manny) - \\(exit_trick)\")\n",
        "  }\n",
        "  else{\n",
        "    return(\"\\(onto_pad) - \\(manny)\")\n",
        "  }\n",
        "}"
      ],
      "metadata": {
        "colab": {
          "base_uri": "https://localhost:8080/"
        },
        "id": "DzCSWuLXwxKa",
        "outputId": "c4fb0fdb-74b8-44d8-8818-31cdaf37a9b3"
      },
      "execution_count": 161,
      "outputs": [
        {
          "output_type": "stream",
          "name": "stdout",
          "text": [
            ""
          ]
        }
      ]
    },
    {
      "cell_type": "code",
      "source": [
        "//my_regular_tricks, my_fakie_tricks, my_nollie_tricks, my_switch_tricks, \n",
        "//,my_manny will all be existing variables that are created and\n",
        "//populated during the initial survey\n",
        "\n",
        "func manny_combo_switch(trick_in: Bool, trick_out: Bool) -> String {\n",
        "\n",
        "  //I was having some issues with scope so I declare all the variables that will be strings\n",
        "  //as empty strings in the beginning\n",
        "  var must_land_regular: Bool = false\n",
        "  var onto_pad: String = \"\"\n",
        "  var stance_entering_manual: String = \"\"\n",
        "  var regular_manuals: [String] = [\"manual\", \"nose manual\"]\n",
        "  var fakie_manuals: [String] = [\"fakie manual\", \"switch manual\"]\n",
        "  var manny: String = \"\"\n",
        "  var exit_trick: String = \"\"\n",
        "\n",
        "  //have to have one manual trick\n",
        "  //ollie, \n",
        "\n",
        "\n",
        "  //check to see if the rider can do fakie and switch manuals. If they can't the initial trick\n",
        "  //must land in regular so they can get out\n",
        "  if (my_manny.contains(\"fakie manual\") || my_manny.contains(\"switch manual\")) {\n",
        "    must_land_regular = false\n",
        "  }\n",
        "  else {\n",
        "    must_land_regular = true\n",
        "  }\n",
        "\n",
        "  if (trick_in == true) {\n",
        "    onto_pad = my_switch_tricks.randomElement()!\n",
        "    stance_entering_manual = exit_stance[onto_pad]!\n",
        "\n",
        "    while(onto_pad == \"switch ollie\"){\n",
        "      onto_pad = my_switch_tricks.randomElement()!\n",
        "      stance_entering_manual = exit_stance[onto_pad]!\n",
        "    }\n",
        "    //if they cannot do a fakie trick out they cannot land in fakie so we rechoose trick in\n",
        "    while (must_land_regular == true && stance_entering_manual == \"fakie\"){\n",
        "      onto_pad = my_switch_tricks.randomElement()!\n",
        "      stance_entering_manual = exit_stance[onto_pad]!\n",
        "\n",
        "      while(onto_pad == \"switch ollie\"){\n",
        "        onto_pad = my_switch_tricks.randomElement()!\n",
        "        stance_entering_manual = exit_stance[onto_pad]!\n",
        "      }\n",
        "    }\n",
        "  }\n",
        "  else {\n",
        "    stance_entering_manual = \"fakie\"\n",
        "    onto_pad = \"switch ollie\" \n",
        "  }\n",
        "\n",
        "\n",
        "  //now choose the manual trick\n",
        "  if (stance_entering_manual == \"regular\") {\n",
        "    manny = regular_manuals.randomElement()!\n",
        "    while (my_manny.contains(manny) == false) {\n",
        "      manny = regular_manuals.randomElement()!\n",
        "    }\n",
        "  }\n",
        "  else {\n",
        "    manny = fakie_manuals.randomElement()!\n",
        "    while(my_manny.contains(manny) == false){\n",
        "      manny = fakie_manuals.randomElement()!\n",
        "    }\n",
        "  }\n",
        "\n",
        "  //now select the trick out\n",
        "  if (trick_out == true){\n",
        "    //case one: in normal manual and need a regular trick out\n",
        "    if (manny == \"manual\"){\n",
        "      exit_trick = my_regular_tricks.randomElement()!\n",
        "      //want a real trick out so if ollie is selected, choose again\n",
        "      while (exit_trick == \"ollie\"){\n",
        "        exit_trick = my_regular_tricks.randomElement()!\n",
        "      }\n",
        "    }\n",
        "    //case two: in nose manual and need a nollie trick out\n",
        "    else if (manny == \"nose manual\"){\n",
        "      exit_trick = my_nollie_tricks.randomElement()!\n",
        "      while (exit_trick == \"nollie\"){\n",
        "        exit_trick = my_nollie_tricks.randomElement()!\n",
        "      }\n",
        "    }\n",
        "    //case three: in fakie manual and need a fakie trick out\n",
        "    else if (manny == \"fakie manual\") {\n",
        "      exit_trick = my_fakie_tricks.randomElement()!\n",
        "      while (exit_trick == \"fakie ollie\"){\n",
        "        exit_trick = my_fakie_tricks.randomElement()!\n",
        "      }\n",
        "    }\n",
        "  //case four: in switch manual and need a switch trick out\n",
        "    else {\n",
        "      exit_trick = my_switch_tricks.randomElement()!\n",
        "      while (exit_trick == \"switch ollie\"){\n",
        "        exit_trick = my_switch_tricks.randomElement()!\n",
        "      }\n",
        "    }\n",
        "    return(\"\\(onto_pad) - \\(manny) - \\(exit_trick)\")\n",
        "  }\n",
        "  else{\n",
        "    return(\"\\(onto_pad) - \\(manny)\")\n",
        "  }\n",
        "}"
      ],
      "metadata": {
        "colab": {
          "base_uri": "https://localhost:8080/"
        },
        "id": "uooe82iywuoT",
        "outputId": "9b8bbdd1-7ee9-4964-918a-6ded9b81a0a6"
      },
      "execution_count": 162,
      "outputs": [
        {
          "output_type": "stream",
          "name": "stdout",
          "text": [
            ""
          ]
        }
      ]
    },
    {
      "cell_type": "code",
      "source": [
        "func manny_combo(trick_enter: Bool, trick_exit: Bool) -> String {\n",
        "    var stances = [String]()\n",
        "    var enter_stance: String = \"\"\n",
        "    \n",
        "    // Add stances where the user has a trick in them\n",
        "    if (my_regular_tricks.count > 0) {\n",
        "        stances.append(\"regular\")\n",
        "    }\n",
        "    if (my_fakie_tricks.count > 0) {\n",
        "        stances.append(\"fakie\")\n",
        "    }\n",
        "    if (my_nollie_tricks.count > 0) {\n",
        "        stances.append(\"nollie\")\n",
        "    }\n",
        "    if (my_switch_tricks.count > 0) {\n",
        "        stances.append(\"switch\")\n",
        "    }\n",
        "  //choose a random stance and then run the appropriate function given the random\n",
        "  //entry stance selected\n",
        "  enter_stance = stances.randomElement()!\n",
        "  if (enter_stance == \"regular\"){\n",
        "    return manny_combo_regular(trick_in: trick_enter, trick_out: trick_exit)\n",
        "  }\n",
        "\n",
        "  else if (enter_stance == \"fakie\"){\n",
        "\n",
        "    //added in additional if-elses within the fakie and switch cases\n",
        "    //because the manny combo fakie function with trick_in = false defaults to fakie ollie as the trick in,\n",
        "    //it is required to have fakie manual or switch manual to run false-true. So with this \n",
        "    //if-else we cheek to see if the user doesn't have fakie manual and switch manual. If they don't have\n",
        "    //these things, we run function with first parameter = true\n",
        "\n",
        "    if(my_manny.contains(\"fakie manual\") == false && my_manny.contains(\"switch manual\") == false){\n",
        "      return manny_combo_fakie(trick_in: true, trick_out: trick_exit)\n",
        "    }\n",
        "    else{\n",
        "      return manny_combo_fakie(trick_in: trick_enter, trick_out: trick_exit)\n",
        "    }\n",
        "  }\n",
        "\n",
        "  else if (enter_stance == \"nollie\"){\n",
        "    return manny_combo_nollie(trick_in: trick_enter, trick_out: trick_exit)\n",
        "  }\n",
        "\n",
        "  //case 4: enter_stance is switch\n",
        "  else{\n",
        "\n",
        "    //because the manny combo switch function with trick_in = false defaults to switch ollie as the trick in,\n",
        "    //it is required to have fakie manual or switch manual to run false-true for this function. So with this \n",
        "    //if-else we cheek to see if the user doesn't have fakie manual and switch manual. If they don't have\n",
        "    //these things, we run function with first parameter = true\n",
        "\n",
        "    if(my_manny.contains(\"fakie manual\") == false && my_manny.contains(\"switch manual\") == false){\n",
        "      return manny_combo_switch(trick_in: true, trick_out: trick_exit)\n",
        "    }\n",
        "    return manny_combo_switch(trick_in: trick_enter, trick_out: trick_exit)\n",
        "  }\n",
        "}"
      ],
      "metadata": {
        "colab": {
          "base_uri": "https://localhost:8080/"
        },
        "id": "OpE3Du5MymND",
        "outputId": "be83ba99-a109-4eca-faac-2dfea563f862"
      },
      "execution_count": 163,
      "outputs": [
        {
          "output_type": "stream",
          "name": "stdout",
          "text": [
            ""
          ]
        }
      ]
    },
    {
      "cell_type": "code",
      "source": [
        "for i in 1...15{\n",
        "  print(i)\n",
        "  print(manny_combo(trick_enter: false, trick_exit: true))\n",
        "  print(manny_combo(trick_enter: true, trick_exit: false))\n",
        "  print(manny_combo(trick_enter: true, trick_exit: true))\n",
        "}\n",
        "  "
      ],
      "metadata": {
        "colab": {
          "base_uri": "https://localhost:8080/"
        },
        "id": "lLIE9AIvFbjd",
        "outputId": "5dbe4efb-7fdc-44eb-f18e-438848e3ab3c"
      },
      "execution_count": 164,
      "outputs": [
        {
          "output_type": "stream",
          "name": "stdout",
          "text": [
            "1\r\n",
            "ollie - manual - kickflip\r\n",
            "kickflip - manual\r\n",
            "backside flip - fakie manual - half cab flip\r\n",
            "2\r\n",
            "switch ollie - fakie manual - fakie flip\r\n",
            "fakie bigspin - manual\r\n",
            "heelflip - manual - backside flip\r\n",
            "3\r\n",
            "nollie - manual - back bigspin\r\n",
            "heelflip - manual\r\n",
            "pop shuv - manual - back bigspin\r\n",
            "4\r\n",
            "nollie - manual - pop shuv\r\n",
            "pop shuv - manual\r\n",
            "fakie front heel - manual - heelflip\r\n",
            "5\r\n",
            "ollie - manual - back 180\r\n",
            "switch pop shuv - fakie manual\r\n",
            "switch front 180 - manual - pop shuv\r\n",
            "6\r\n",
            "switch ollie - fakie manual - fakie heel\r\n",
            "fakie three shuv - fakie manual\r\n",
            "switch front 180 - manual - front shuv\r\n",
            "7\r\n",
            "fakie ollie - fakie manual - fakie front bigspin\r\n",
            "fakie front heel - manual\r\n",
            "nollie shuv - manual - pop shuv\r\n",
            "8\r\n",
            "ollie - manual - back 180\r\n",
            "switch pop shuv - fakie manual\r\n",
            "switch front 180 - manual - heelflip\r\n",
            "9\r\n",
            "switch ollie - fakie manual - fakie three shuv\r\n",
            "nollie front shuv - manual\r\n",
            "front shuv - manual - front 180\r\n",
            "10\r\n",
            "fakie ollie - fakie manual - fakie front 360\r\n",
            "half cab heel - manual\r\n",
            "switch pop shuv - fakie manual - fakie front bigspin\r\n",
            "11\r\n",
            "fakie ollie - fakie manual - fakie front shuv\r\n",
            "half cab - manual\r\n",
            "switch front 180 - manual - backside flip\r\n",
            "12\r\n",
            "nollie - manual - back bigspin\r\n",
            "switch front 180 - manual\r\n",
            "switch pop shuv - fakie manual - fakie pop shuv\r\n",
            "13\r\n",
            "ollie - manual - heelflip\r\n",
            "back 180 - fakie manual\r\n",
            "nollie front shuv - manual - front 180\r\n",
            "14\r\n",
            "fakie ollie - fakie manual - fakie flip\r\n",
            "nollie front shuv - manual\r\n",
            "back bigspin - fakie manual - half cab\r\n",
            "15\r\n",
            "switch ollie - fakie manual - full cab\r\n",
            "fakie front shuv - fakie manual\r\n",
            "nollie back 180 - fakie manual - fakie three shuv\r\n"
          ]
        }
      ]
    },
    {
      "metadata": {
        "id": "kZRlD4utdPuX",
        "colab": {
          "base_uri": "https://localhost:8080/"
        },
        "outputId": "da40fdee-4c77-4176-ab65-3506a6ffbe64"
      },
      "cell_type": "code",
      "source": [
        "func display_manny() {\n",
        "  print(\"Combos Trick In: \\n\")\n",
        "  print(manny_combo_regular(trick_in: true, trick_out: false))\n",
        "  print(manny_combo_fakie(trick_in: true, trick_out: false))\n",
        "  print(manny_combo_nollie(trick_in: true, trick_out: false))\n",
        "  print(manny_combo_switch(trick_in: true, trick_out: false))\n",
        "  print(\"\\n\")\n",
        "\n",
        "\n",
        "  print(\"Combos Trick Out: \\n\")\n",
        "  print(manny_combo_regular(trick_in: false, trick_out: true))\n",
        "  print(manny_combo_fakie(trick_in: false, trick_out: true))\n",
        "  print(manny_combo_nollie(trick_in: false, trick_out: true))\n",
        "  print(manny_combo_switch(trick_in: false, trick_out: true))\n",
        "  print(\"\\n\")\n",
        "\n",
        "  print(\"Double Combos: \\n\")\n",
        "  print(manny_combo_regular(trick_in: true, trick_out: true))\n",
        "  print(manny_combo_fakie(trick_in: true, trick_out: true))\n",
        "  print(manny_combo_nollie(trick_in: true, trick_out: true))\n",
        "  print(manny_combo_switch(trick_in: true, trick_out: true))\n",
        "}"
      ],
      "execution_count": 165,
      "outputs": [
        {
          "output_type": "stream",
          "name": "stdout",
          "text": [
            ""
          ]
        }
      ]
    }
  ]
}