{
  "nbformat": 4,
  "nbformat_minor": 0,
  "metadata": {
    "colab": {
      "name": "skatecombo.ipynb",
      "provenance": []
    },
    "kernelspec": {
      "name": "python3",
      "display_name": "Python 3"
    },
    "language_info": {
      "name": "python"
    }
  },
  "cells": [
    {
      "cell_type": "code",
      "source": [
        "#The dictionaries below hold each trick in the stance mapped to a float value 1-10 representing the difficulty\n",
        "#Stance are regular, fakie, nollie, and switch"
      ],
      "metadata": {
        "id": "_2a35PdgFiLh"
      },
      "execution_count": 3,
      "outputs": []
    },
    {
      "cell_type": "code",
      "execution_count": 4,
      "metadata": {
        "id": "CzrLaq8CFTrk"
      },
      "outputs": [],
      "source": [
        "regular_tricks = {'ollie':1, 'pop shuv':1.5, 'front 180':1.5, 'back 180':2.5, 'front shuv':1.75, 'kickflip':2, 'heelflip':2, 'ollie north': 2.5, 'no comply 180': 1.5,\n",
        "                  'varial flip':2.5, 'varial heel':5, 'frontside flip':7,'backside flip':5, 'front heel':5, 'back heel':5, 'backside bigspin':5, 'frontside bigspin':6.5, \n",
        "                  'hardflip':7, 'inward heel':8 , 'frontside 360':6.5, 'backside 360':7, 'bigflip':6.5, 'bigspin heelflip':7,\n",
        "                  'treflip': 5, '360 shuv it': 6, 'impossible':7, 'lazer flip': 10}\n",
        "fakie_tricks = {'fakie ollie':1, 'fakie pop shuv':1.25, 'fakie front shuv':1.5, 'half cab': 1.75, 'fakie fs 180': 1.25, 'full cab':5, 'fakie fs 360':2, 'fakie flip':2.5, 'fakie heel':3.5,\n",
        "                'fakie bigspin':1.5, 'fakie fs bigspin':2.5, 'half cab flip':4, 'half cab heelflip':5, 'fakie fs heelflip':5.5, 'fakie fs flip':5.5, 'fakie three shuv': 2.5,\n",
        "                'fakie treflip': 5, 'full cab flip': 8\n",
        "                , 'fakie bigflip':7, 'fakie big heel':6, 'fakie hardflip':7, 'fakie inward heel':7, 'fakie lazer':10, 'fakie varial flip': 2.5, 'fakie varial heel': 4.75\n",
        "}\n",
        "nollie_tricks = {'nollie':2, 'nollie shuv':1.75, 'nollie front 180':3, 'nollie back 180':2, 'nollie front shuv':2, 'nollie flip':8, \n",
        "                 'nollie heel':8, 'nollie varial flip':8, 'nollie varial heel':8, 'nollie frontside flip':8.5,'nollie backside flip':8 , 'nollie front heel': 8, \n",
        "                 'nollie back heel':8, \n",
        "                 'nollie frontside 360 flip': 9,\n",
        "                 'nollie backside bigspin': 3.5,' nollie frontside bigspin':3, \n",
        "                  'nollie hardflip': 9, 'nollie inward heel':8.5, 'nollie frontside 360':8, 'nollie backside 360':3.5, 'nollie bigflip':8, \n",
        "                  'nollie treflip': 8.5, 'nollie 360 shuv it': 5, 'nollie big heel':8,  'nollie lazer': 9.5\n",
        "}\n",
        "\n",
        "switch_tricks = {'switch ollie':1, 'switch pop shuv':3, 'switch front 180':2, 'switch back 180':5, 'switch front shuv':3, 'switch kickflip':7.5, 'switch heel':7, \n",
        "                  'switch varial flip': 7.5 , 'switch varial heel': 7.5, 'switch frontside flip': 8.5,'switch backside flip':8.5, 'switch front heel': 8, 'switch back heel': 8,\n",
        "                  'switch backside bigspin': 6.5, 'switch frontside bigspin':5.5, \n",
        "                  'switch hardflip':9, 'switch inward heel':9.5, 'switch frontside 360':8, 'switch backside 360':9.5, 'switch bigflip':9, 'switch bigspin heelflip': 8\n",
        "                 , 'switch treflip':7.75, 'switch 360 shuv it':9, 'switch impossible': 9, 'switch lazer':10\n",
        "}\n",
        "\n",
        "ledge_tricks = {'front 50-50':2, 'front 5-0':2.5, 'back 50-50':3, 'back 5-0':3.75, 'front nosegrind':4, 'back nosegrind':5, 'front noseslide':4, 'back noseslide':2.5, \n",
        "                'front tail': 4, 'back tail': 7.75, 'front crook':7, 'back crook':5, 'back suski':5, 'front smith':5, 'back smith':7, 'front lipslide': 4.5, 'back lipslide':6, \n",
        "                'front blunt':8, 'back blunt':8.5, 'back noseblunt':10, 'front noseblunt':9\n",
        "}\n",
        "\n",
        "exit_either = ['front 50-50', 'back 50-50']\n",
        "exit_nollie = ['front nosegrind', 'back nosegrind', 'back noseslide', 'front noselide', 'front crook', 'back crook', 'back noseblunt', 'front noseblunt']\n",
        "exit_regular = ['front tail', 'back tail', 'front 5-0', 'back 5-0', 'back suski', 'front smith', 'back smith', 'front blunt', 'back blunt', 'front lipslide', 'back lipslide']\n",
        "\n",
        "\n",
        "rail_tricks = {'front 50-50':3,'back 50-50':5, 'front 5-0':5, 'back 5-0':5.5, 'back boardslide':1.5, 'front boardslide':2, 'front lipslide':3, 'back lipslide':7, \n",
        "               'back feeble':4.75, 'front feeble': 6,\n",
        "               'front smith': 4.75, 'back smith': 8, 'back crook': 7, 'front crook':8, 'back overcrook':8.5, \n",
        "               'front blunt':6.75, 'back blunt':8.5, 'back noseblunt':10, 'front noseblunt':8.5\n",
        "}\n",
        "\n",
        "#this dictionary holds what stance the rider exits in for all flatground tricks (values in this dictionary will be either regular or fakie)\n",
        "exit_stance = {'ollie': 'regular', 'pop shuv': 'regular', 'front 180': 'fakie', 'back 180': 'fakie', 'front shuv':'regular', 'kickflip':'regular', 'heelflip':'regular', \n",
        "                  'ollie north': 'regular', 'no comply 180': 'fakie',\n",
        "                  'varial flip':'regular', 'varial heel':'regular', 'frontside flip':'fakie','backside flip':'fakie', 'front heel':'fakie', 'back heel':'fakie',\n",
        "                'backside bigspin': 'fakie', \n",
        "                  'frontside bigspin':'fakie', \n",
        "                  'hardflip':'regular', 'inward heel':'regular', 'frontside 360':'regular', 'backside 360':'regular', 'bigflip':'fakie', 'bigspin heelflip':'fakie',\n",
        "                  'treflip': 'regular', '360 shuv it': 'regular', 'impossible':'regular', 'lazer flip': 'regular', 'fakie ollie':'fakie', 'fakie pop shuv':'fakie', \n",
        "               'fakie front shuv': 'fakie', \n",
        "                  'half cab': 'regular', 'fakie fs 180': 'regular', 'full cab':'fakie', 'fakie fs 360':'fakie', 'fakie flip':'fakie', 'fakie heel':'fakie',\n",
        "                'fakie bigspin':'regular', 'fakie fs bigspin':'regular', 'half cab flip':'regular', 'half cab heelflip':'regular', 'fakie fs heelflip':'regular',\n",
        "                 'fakie fs flip':'regular', 'fakie three shuv': 'fakie',\n",
        "                'fakie treflip': 'fakie', 'full cab flip': 'fakie'\n",
        "                , 'fakie bigflip':'regular', 'fakie big heel':'regular', 'fakie hardflip':'fakie', 'fakie inward heel':'fakie', 'fakie lazer':'fakie', 'fakie varial flip': 'fakie', \n",
        "               'fakie varial heel': 'fakie',\n",
        "               'nollie':'regular', 'nollie shuv':'regular', 'nollie front 180':'fakie', 'nollie back 180':'fakie', 'nollie front shuv':'regular', 'nollie flip':'regular', \n",
        "                 'nollie heel':'regular', 'nollie varial flip':'regular', 'nollie varial heel':'regular', 'nollie frontside flip':'fakie','nollie backside flip':8 , \n",
        "               'nollie front heel': 'fakie', \n",
        "                 'nollie back heel': 'fakie', \n",
        "                 'nollie frontside 360 flip': 'regular',\n",
        "                 'nollie backside bigspin': 'fakie',' nollie frontside bigspin':'fakie', \n",
        "                  'nollie hardflip': 'regular', 'nollie inward heel':'regular', 'nollie frontside 360':'regular', 'nollie backside 360':'regular', 'nollie bigflip':'fakie', \n",
        "                  'nollie treflip': 'regular', 'nollie 360 shuv it': 'regular', 'nollie big heel':'fakie',  'nollie lazer': 'regular', \n",
        "                  'manual':'regular', 'nose manual': 'regular', 'fakie manual': 'fakie', 'switch ollie':'fakie', 'switch pop shuv':'fakie', \n",
        "                  'switch front 180':'regular', 'switch back 180':'regular', 'switch front shuv':'fakie', 'switch kickflip':'fakie', 'switch heel':'fakie', \n",
        "                  'switch varial flip': 'fakie' , 'switch varial heel': 'fakie', 'switch frontside flip': 'regular','switch backside flip':8.5,\n",
        "                 'switch front heel': 'regular', 'switch back heel': 'regular',\n",
        "                  'switch backside bigspin': 'regular', 'switch frontside bigspin':'regular', \n",
        "                  'switch hardflip':'regular', 'switch inward heel':'fakie', 'switch frontside 360':'fakie', 'switch backside 360':'fakie', \n",
        "                  'switch bigflip':'regular', 'switch bigspin heelflip': 'regular'\n",
        "                 , 'switch treflip':'fakie', 'switch 360 shuv it':'fakie', 'switch impossible': 'fakie', 'switch lazer':'fakie'\n",
        "}\n",
        "\n",
        "\n",
        "manual_tricks = {'manual':2, 'nose manual':4, 'fakie manual':5}"
      ]
    },
    {
      "cell_type": "code",
      "source": [
        "import random\n",
        "def manny_combo(trick_in, trick_out):\n",
        "  #takes care of the case in which user wants a trick into the manual\n",
        "  if trick_in == True:\n",
        "    stances = [regular_tricks, fakie_tricks, nollie_tricks]\n",
        "    start_stance = random.choice(stances)\n",
        "    onto_pad = random.choice(list(start_stance.keys()))\n",
        "    while start_stance[onto_pad] > 4:\n",
        "      onto_pad = random.choice(list(start_stance.keys()))\n",
        "    stance_entering_manny = exit_stance[onto_pad]\n",
        "  #when trick in is false, we default to ollie into the manual\n",
        "  else:\n",
        "    stance_entering_manny = 'regular'\n",
        "    onto_pad = 'ollie'\n",
        "\n",
        "  if stance_entering_manny == 'regular':\n",
        "    p1 = ['manual', 'nose manual']\n",
        "    manual_trick = random.choice(p1)\n",
        "  else:\n",
        "    p2 = ['fakie manual', 'switch manual']\n",
        "    manual_trick = random.choice(p2)\n",
        "    \n",
        "\n",
        "  if trick_out == True:\n",
        "    if manual_trick == 'manual':\n",
        "      trick_out = random.choice(list(regular_tricks.keys()))\n",
        "    elif manual_trick == 'nose manual':\n",
        "      trick_out = random.choice(list(nollie_tricks.keys()))\n",
        "    elif manual_trick == 'fakie manual':\n",
        "      trick_out = random.choice(list(fakie_tricks.keys()))\n",
        "    else:\n",
        "      trick_out = random.choice(list(switch_tricks.keys()))\n",
        "  else:\n",
        "    trick_out = ''\n",
        "  if trick_out == '':\n",
        "    print(onto_pad, ',', manual_trick)\n",
        "  else:\n",
        "     print(onto_pad, ',', manual_trick, ',', trick_out)"
      ],
      "metadata": {
        "id": "vLsU2Z4MGrie"
      },
      "execution_count": 6,
      "outputs": []
    },
    {
      "cell_type": "code",
      "source": [
        "manny_combo(True, False)\n",
        "manny_combo(False, True)\n",
        "manny_combo(True, True)"
      ],
      "metadata": {
        "colab": {
          "base_uri": "https://localhost:8080/"
        },
        "id": "diQQdka8GrxI",
        "outputId": "fad40551-5491-4d75-d4c5-8caa58d803e8"
      },
      "execution_count": 14,
      "outputs": [
        {
          "output_type": "stream",
          "name": "stdout",
          "text": [
            "ollie , manual\n",
            "ollie , nose manual , nollie inward heel\n",
            "front 180 , fakie manual , fakie varial flip\n"
          ]
        }
      ]
    }
  ]
}